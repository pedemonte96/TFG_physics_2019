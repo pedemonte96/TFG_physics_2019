{
 "cells": [
  {
   "cell_type": "code",
   "execution_count": 33,
   "metadata": {},
   "outputs": [
    {
     "name": "stdout",
     "output_type": "stream",
     "text": [
      "['j_n_8_iter_0.png', 'j_n_8_iter_1.png', 'j_n_8_iter_2.png', 'j_n_8_iter_3.png', 'j_n_8_iter_4.png', 'j_n_8_iter_5.png', 'j_n_8_iter_6.png', 'j_n_8_iter_7.png', 'j_n_8_iter_8.png', 'j_n_8_iter_9.png', 'j_n_8_iter_10.png', 'j_n_8_iter_11.png', 'j_n_8_iter_12.png', 'j_n_8_iter_13.png', 'j_n_8_iter_14.png', 'j_n_8_iter_15.png', 'j_n_8_iter_16.png', 'j_n_8_iter_17.png', 'j_n_8_iter_18.png', 'j_n_8_iter_19.png', 'j_n_8_iter_20.png', 'j_n_8_iter_21.png', 'j_n_8_iter_22.png', 'j_n_8_iter_23.png', 'j_n_8_iter_24.png', 'j_n_8_iter_25.png', 'j_n_8_iter_26.png', 'j_n_8_iter_27.png', 'j_n_8_iter_28.png', 'j_n_8_iter_29.png', 'j_n_8_iter_30.png', 'j_n_8_iter_31.png', 'j_n_8_iter_32.png', 'j_n_8_iter_33.png', 'j_n_8_iter_34.png', 'j_n_8_iter_35.png', 'j_n_8_iter_36.png', 'j_n_8_iter_37.png', 'j_n_8_iter_38.png', 'j_n_8_iter_39.png', 'j_n_8_iter_40.png', 'j_n_8_iter_41.png', 'j_n_8_iter_42.png', 'j_n_8_iter_43.png', 'j_n_8_iter_44.png', 'j_n_8_iter_45.png', 'j_n_8_iter_46.png', 'j_n_8_iter_47.png', 'j_n_8_iter_48.png', 'j_n_8_iter_49.png', 'j_n_8_iter_50.png', 'j_n_8_iter_51.png', 'j_n_8_iter_52.png', 'j_n_8_iter_53.png', 'j_n_8_iter_54.png', 'j_n_8_iter_55.png', 'j_n_8_iter_56.png', 'j_n_8_iter_57.png', 'j_n_8_iter_58.png', 'j_n_8_iter_59.png', 'j_n_8_iter_60.png', 'j_n_8_iter_61.png', 'j_n_8_iter_62.png', 'j_n_8_iter_63.png', 'j_n_8_iter_64.png', 'j_n_8_iter_65.png', 'j_n_8_iter_66.png', 'j_n_8_iter_67.png', 'j_n_8_iter_68.png', 'j_n_8_iter_69.png', 'j_n_8_iter_70.png', 'j_n_8_iter_71.png', 'j_n_8_iter_72.png', 'j_n_8_iter_73.png', 'j_n_8_iter_74.png', 'j_n_8_iter_75.png', 'j_n_8_iter_76.png', 'j_n_8_iter_77.png', 'j_n_8_iter_78.png', 'j_n_8_iter_79.png', 'j_n_8_iter_80.png', 'j_n_8_iter_81.png', 'j_n_8_iter_82.png', 'j_n_8_iter_83.png', 'j_n_8_iter_84.png', 'j_n_8_iter_85.png', 'j_n_8_iter_86.png', 'j_n_8_iter_87.png', 'j_n_8_iter_88.png', 'j_n_8_iter_89.png', 'j_n_8_iter_90.png', 'j_n_8_iter_91.png', 'j_n_8_iter_92.png', 'j_n_8_iter_93.png', 'j_n_8_iter_94.png', 'j_n_8_iter_95.png', 'j_n_8_iter_96.png', 'j_n_8_iter_97.png', 'j_n_8_iter_98.png', 'j_n_8_iter_99.png', 'j_n_8_iter_100.png', 'j_n_8_iter_101.png', 'j_n_8_iter_102.png', 'j_n_8_iter_103.png', 'j_n_8_iter_104.png', 'j_n_8_iter_105.png', 'j_n_8_iter_106.png', 'j_n_8_iter_107.png', 'j_n_8_iter_108.png', 'j_n_8_iter_109.png', 'j_n_8_iter_110.png', 'j_n_8_iter_111.png', 'j_n_8_iter_112.png', 'j_n_8_iter_113.png', 'j_n_8_iter_114.png', 'j_n_8_iter_115.png', 'j_n_8_iter_116.png', 'j_n_8_iter_117.png', 'j_n_8_iter_118.png', 'j_n_8_iter_119.png', 'j_n_8_iter_120.png', 'j_n_8_iter_121.png', 'j_n_8_iter_122.png', 'j_n_8_iter_123.png', 'j_n_8_iter_124.png', 'j_n_8_iter_125.png', 'j_n_8_iter_126.png', 'j_n_8_iter_127.png']\n"
     ]
    }
   ],
   "source": [
    "import cv2\n",
    "import os\n",
    "import matplotlib.pyplot as plt\n",
    "\n",
    "image_folder = 'images'\n",
    "video_name = 'video.avi'\n",
    "folder = sorted(os.listdir(image_folder))\n",
    "images = [img for img in folder if img.endswith(\".png\")]\n",
    "dic = {}\n",
    "for i in images:\n",
    "    dic[i] = int(i[11:len(i)-4])\n",
    "images = sorted(dic.items(), key=lambda x: x[1])\n",
    "images = [i[0] for i in images]\n",
    "print(images)\n",
    "frame = cv2.imread(os.path.join(image_folder, images[0]))\n",
    "height, width, layers = frame.shape\n",
    "\n",
    "video = cv2.VideoWriter(video_name, 0, 10, (width,height))\n",
    "\n",
    "for image in images:\n",
    "    video.write(cv2.imread(os.path.join(image_folder, image)))\n",
    "\n",
    "cv2.destroyAllWindows()\n",
    "video.release()"
   ]
  },
  {
   "cell_type": "code",
   "execution_count": null,
   "metadata": {},
   "outputs": [],
   "source": []
  }
 ],
 "metadata": {
  "kernelspec": {
   "display_name": "Python 3",
   "language": "python",
   "name": "python3"
  },
  "language_info": {
   "codemirror_mode": {
    "name": "ipython",
    "version": 3
   },
   "file_extension": ".py",
   "mimetype": "text/x-python",
   "name": "python",
   "nbconvert_exporter": "python",
   "pygments_lexer": "ipython3",
   "version": "3.7.0"
  }
 },
 "nbformat": 4,
 "nbformat_minor": 2
}
