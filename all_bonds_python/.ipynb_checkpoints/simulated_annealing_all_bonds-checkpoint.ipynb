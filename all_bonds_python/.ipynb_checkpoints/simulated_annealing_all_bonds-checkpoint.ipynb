{
 "cells": [
  {
   "cell_type": "code",
   "execution_count": 1,
   "metadata": {},
   "outputs": [],
   "source": [
    "# imports\n",
    "import numpy as np\n",
    "import random\n",
    "import math\n",
    "import matplotlib.pyplot as plt\n",
    "from tqdm import tqdm_notebook"
   ]
  },
  {
   "cell_type": "code",
   "execution_count": 19,
   "metadata": {},
   "outputs": [],
   "source": [
    "# Pseudolikelihood calculation\n",
    "def log_pseudolikelihood(data, h, j, recalculate = True, previous = 0, h_prev=None, j_prev=None, new_row = -1):\n",
    "    \"\"\"Sums the rows of the pseudolikelihood\"\"\"\n",
    "    m, n = data.shape\n",
    "    if recalculate:\n",
    "        output = 0\n",
    "        for i in range(n):\n",
    "            output += log_pseudolikelihood_row(data, h, j, i)\n",
    "        return -float(output)/m\n",
    "    else:\n",
    "        delta = 0\n",
    "        for r in new_row:\n",
    "            delta += float(log_pseudolikelihood_row(data, h_prev, j_prev, r) - log_pseudolikelihood_row(data, h, j, r))/m\n",
    "        return previous + delta\n",
    "        \n",
    "\n",
    "def log_pseudolikelihood_row(data, h, j, i):\n",
    "    \"\"\"\n",
    "    Computes the pseudolikelihood for each row\n",
    "    Assumes j[i,i] = 0 for all i\n",
    "    \"\"\"\n",
    "    m, n = data.shape\n",
    "    output = 0\n",
    "    for mu in range(m):\n",
    "        output += math.log(1 + data[mu, i] * math.tanh(h[i] + np.dot(j[i, :], data[mu, :])))\n",
    "    return output"
   ]
  },
  {
   "cell_type": "code",
   "execution_count": 20,
   "metadata": {},
   "outputs": [],
   "source": [
    "# Likelihood calculation\n",
    "def likelihood(spin_configuration, h, j, partition_function=None):\n",
    "    if partition_function is None:\n",
    "        partition_function = partition_function(h, j)\n",
    "    return math.exp(-hamiltonian(spin_configuration, h, j))/partition_function\n",
    "    \n",
    "    \n",
    "def partition_function(h, j):\n",
    "    n, = h.shape\n",
    "    z = 0\n",
    "    spins = get_all_possible_spin_configurations(n)\n",
    "    for spin in spins:\n",
    "        z += math.exp(-hamiltonian(spin, h, j))\n",
    "    return z\n",
    "\n",
    "# All hamiltionian functions equivalent up to 1e-12 precision\n",
    "def hamiltonian(spin_configuration, h, j):\n",
    "    hamiltonian = 0\n",
    "    n, = h.shape\n",
    "    for i in range(n-1):\n",
    "        hamiltonian += spin_configuration[i] * np.dot(j[i,i+1:], spin_configuration[i+1:])\n",
    "    hamiltonian += np.dot(h, spin_configuration)\n",
    "    return -hamiltonian\n",
    "\n",
    "def hamiltonian_bis(spin_configuration, h, j):\n",
    "    hamiltonian = 0\n",
    "    n, = h.shape\n",
    "    # J is symmetric and J[i,i] = 0\n",
    "    for i in range(n):\n",
    "        hamiltonian += spin_configuration[i] * np.dot(j[i,:], spin_configuration)\n",
    "    hamiltonian /= 2\n",
    "    hamiltonian += np.dot(h, spin_configuration)\n",
    "    return -hamiltonian\n",
    "\n",
    "def hamiltonian_bis2(spin_configuration, h, j):\n",
    "    # Worst one\n",
    "    hamiltonian = 0\n",
    "    n, = h.shape\n",
    "    for i in range(n):\n",
    "        for k in range(i+1,n):\n",
    "            hamiltonian += j[i,k] * spin_configuration[i] * spin_configuration[k]\n",
    "    hamiltonian += np.dot(h, spin_configuration)\n",
    "    return -hamiltonian\n",
    "\n",
    "def get_all_possible_spin_configurations(n):\n",
    "    # For 10 spins: 10.3 ms ± 109 µs\n",
    "    # For 16 spins: 768 ms ± 7.81 ms\n",
    "    return np.array([get_configuration(i,n) for i in range(2**n)])\n",
    "    \n",
    "def get_configuration(i, n):\n",
    "    # 10.4 µs ± 23.5 ns\n",
    "    binarized = bin(i)[2:]\n",
    "    spins = np.ones(n, dtype='int') * (-1)\n",
    "    zeros = np.zeros(n - len(binarized), dtype='int')\n",
    "    conf = np.array([int(d) for d in str(binarized)])\n",
    "    bin_conf = np.concatenate((zeros, conf))\n",
    "    return spins**bin_conf\n",
    "\n",
    "def get_configuration_bis(i, n):\n",
    "    # 10.5 µs ± 64.4 ns\n",
    "    binarized = bin(i)[2:]\n",
    "    spins = np.ones(n, dtype='int')\n",
    "    zeros = np.zeros(n - len(binarized), dtype='int')\n",
    "    conf = np.array([int(d) for d in str(binarized)])\n",
    "    bin_conf = np.concatenate((zeros, conf))\n",
    "    spins[bin_conf == 1] = -1\n",
    "    return spins\n"
   ]
  },
  {
   "cell_type": "code",
   "execution_count": 21,
   "metadata": {},
   "outputs": [],
   "source": [
    "# Create random h and J of given dimension\n",
    "def get_random_h_j(n):\n",
    "    \"\"\"\n",
    "    J will be symmetrical and diagonal zero.\n",
    "    \"\"\"\n",
    "    h = np.random.uniform(-1, 1, size=n)\n",
    "    j = np.random.uniform(-1, 1, size=(n,n))\n",
    "    np.fill_diagonal(j, 0)\n",
    "    j = (j + j.T)/2\n",
    "    return h, j\n",
    "\n",
    "\n",
    "def get_random_spin_configuration(n, m=1):\n",
    "    if m == 1:\n",
    "        return np.random.randint(0, 1 + 1, size=n)*2 -1\n",
    "    return np.array([np.random.randint(0, 1 + 1, size=n)*2 -1 for i in range(m)])\n",
    "\n",
    "\n",
    "def get_spin_configurations_probability(h, j, m):\n",
    "    # return array of spins with probability given by h and j\n",
    "    n, = h.shape\n",
    "    z = partition_function(h, j)\n",
    "    possible = get_all_possible_spin_configurations(n)\n",
    "    possible_int = np.arange(2**n)\n",
    "    prob = np.array([likelihood(spin, h, j, partition_function=z) for spin in possible])\n",
    "    dataset = np.random.choice(possible_int, size=m, p=prob)\n",
    "    return np.array([get_configuration(i, n) for i in dataset])\n",
    "\n",
    "def symmetrize(j):\n",
    "    return (j + j.T)/2\n",
    "    "
   ]
  },
  {
   "cell_type": "code",
   "execution_count": 62,
   "metadata": {},
   "outputs": [],
   "source": [
    "def energy(temp, func, func_new):\n",
    "    return math.exp(-(func_new - func) / temp)\n",
    "\n",
    "\n",
    "def neighbour_uniform(s, delta=0.5):\n",
    "    lower = max(s - delta, -1.)\n",
    "    upper = min(s + delta, 1.)\n",
    "    return np.random.uniform(lower, upper)\n",
    "\n",
    "\n",
    "def random_change_h_j(h, j, delta=0.5):\n",
    "    h_new = np.copy(h)\n",
    "    j_new = np.copy(j)\n",
    "    n, = h_new.shape\n",
    "    row = np.random.randint(0, n + 1)\n",
    "    column = np.random.randint(0, n)\n",
    "    while row == column:\n",
    "        row = np.random.randint(0, n + 1)\n",
    "        column = np.random.randint(0, n)\n",
    "    if row == n:\n",
    "        h_new[column] = neighbour_uniform(h_new[column], delta)\n",
    "    else:\n",
    "        j_new[row, column] = neighbour_uniform(j_new[row, column], delta)\n",
    "    return h_new, j_new\n",
    "\n",
    "def random_change_h_j_row(h, j, delta=0.5):\n",
    "    h_new = np.copy(h)\n",
    "    j_new = np.copy(j)\n",
    "    n, = h_new.shape\n",
    "    if random.random() < 2./(n + 1):\n",
    "        # h must be changed (n over n + n(n-1)/2)\n",
    "        column = np.random.randint(0, n)\n",
    "        h_new[column] = neighbour_uniform(h_new[column], delta)\n",
    "        return h_new, j_new, (column,)\n",
    "    else:\n",
    "        # j must be changed\n",
    "        row = np.random.randint(0, n)\n",
    "        column = np.random.randint(0, n)\n",
    "        while row == column:\n",
    "            row = np.random.randint(0, n)\n",
    "            column = np.random.randint(0, n)\n",
    "        j_new[row, column] = neighbour_uniform(j_new[row, column], delta)\n",
    "        j_new[column, row] = j_new[row, column]\n",
    "        return h_new, j_new, (row, column)        \n",
    "    \n",
    "def mean_error(h, j, hp, jp):\n",
    "    n, = h.shape\n",
    "    error = []\n",
    "    for i in range(n):\n",
    "        for k in range(i+1, n):\n",
    "            error.append(j[i,k] - jp[i,k])\n",
    "    error = np.array(error)\n",
    "    error = np.mean(np.abs(np.concatenate((h-hp, error))))\n",
    "    return error"
   ]
  },
  {
   "cell_type": "code",
   "execution_count": 63,
   "metadata": {},
   "outputs": [],
   "source": [
    "# Simulated annealing\n",
    "\n",
    "def simulated_algorithm_min_multi(data, values=None, max_iter=800, temp_ini=1):\n",
    "    m, n = data.shape\n",
    "    if values is None:\n",
    "        h0, j0 = get_random_h_j(n)\n",
    "    else:\n",
    "        h0, j0 = values\n",
    "    h_iter, j_iter = h0, j0\n",
    "    h_min, j_min = h0, j0\n",
    "    func_iter = log_pseudolikelihood(data, h_iter, j_iter)\n",
    "    func_min = func_iter\n",
    "    rec = False\n",
    "    error = []\n",
    "    min_vals = []\n",
    "    for k in tqdm_notebook(range(max_iter), leave=False):\n",
    "        if k%200 == 0:\n",
    "            rec = True\n",
    "        error.append(mean_error(h_iter, j_iter, h, j))\n",
    "        min_vals.append(func_iter)\n",
    "        temp = temp_ini * (1. / (k + 1))\n",
    "        h_new, j_new, row = random_change_h_j_row(h_iter, j_iter, delta=0.3)\n",
    "        func_new = log_pseudolikelihood(data, h_new, j_new, recalculate=rec, previous=func_iter, h_prev=h_iter, j_prev=j_iter, new_row=row)\n",
    "        rec = False\n",
    "        if func_new < func_iter:\n",
    "            h_iter, j_iter = h_new, j_new\n",
    "            func_iter = func_new\n",
    "            if func_new < func_min:\n",
    "                h_min, j_min = h_new, j_new\n",
    "                func_min = func_new\n",
    "        elif random.random() < energy(temp, func_iter, func_new):\n",
    "            h_iter, j_iter = h_new, j_new\n",
    "            func_iter = func_new\n",
    "    #print(h_iter, j_iter, func_iter)\n",
    "    #print(h_min, j_min, func_min)\n",
    "    output_value = find_local_minimum_multi(data, h_min, j_min, func_min, initial_delta=0.3, max_iter=int(max_iter/10))\n",
    "    return output_value, error, min_vals\n",
    "\n",
    "\n",
    "def find_local_minimum_multi(data, h_ini, j_ini, func_ini, max_iter=1000, initial_delta=0.5):\n",
    "    h_min, j_min = h_ini, j_ini\n",
    "    func_min = func_ini\n",
    "    for k in tqdm_notebook(range(max_iter), leave=False):\n",
    "        delta = initial_delta * (max_iter - k) / max_iter\n",
    "        h_new, j_new, row = random_change_h_j_row(h_min, j_min, delta=delta)\n",
    "        func_new = log_pseudolikelihood(data, h_new, j_new, recalculate=False, previous=func_min, h_prev=h_min, j_prev=j_min, new_row=row)\n",
    "        if func_new < func_min:\n",
    "            h_min, j_min = h_new, j_new\n",
    "            func_min = func_new\n",
    "    return h_min, j_min, func_min"
   ]
  },
  {
   "cell_type": "code",
   "execution_count": 68,
   "metadata": {},
   "outputs": [
    {
     "name": "stdout",
     "output_type": "stream",
     "text": [
      "[ 0.02948055  0.11059051 -0.08869306  0.71665084]\n",
      "[[ 0.          0.77630347 -0.12091725 -0.46165035]\n",
      " [ 0.77630347  0.         -0.39160066  0.1929704 ]\n",
      " [-0.12091725 -0.39160066  0.         -0.366064  ]\n",
      " [-0.46165035  0.1929704  -0.366064    0.        ]]\n",
      "[[-1  1  1  1]\n",
      " [ 1  1 -1 -1]\n",
      " [-1 -1 -1  1]\n",
      " ...\n",
      " [-1 -1 -1  1]\n",
      " [-1  1 -1  1]\n",
      " [-1 -1 -1  1]]\n"
     ]
    },
    {
     "data": {
      "application/vnd.jupyter.widget-view+json": {
       "model_id": "",
       "version_major": 2,
       "version_minor": 0
      },
      "text/plain": [
       "HBox(children=(IntProgress(value=0, max=5000), HTML(value='')))"
      ]
     },
     "metadata": {},
     "output_type": "display_data"
    },
    {
     "name": "stdout",
     "output_type": "stream",
     "text": [
      "\r"
     ]
    },
    {
     "data": {
      "application/vnd.jupyter.widget-view+json": {
       "model_id": "",
       "version_major": 2,
       "version_minor": 0
      },
      "text/plain": [
       "HBox(children=(IntProgress(value=0, max=500), HTML(value='')))"
      ]
     },
     "metadata": {},
     "output_type": "display_data"
    },
    {
     "name": "stdout",
     "output_type": "stream",
     "text": [
      "\r"
     ]
    }
   ],
   "source": [
    "n, m = 4, 2000\n",
    "h, j = get_random_h_j(n)\n",
    "print(h)\n",
    "print(j)\n",
    "spins = get_spin_configurations_probability(h, j, m)\n",
    "print(spins)\n",
    "result = simulated_algorithm_min_multi(spins, max_iter=5000)[0]\n"
   ]
  },
  {
   "cell_type": "code",
   "execution_count": 70,
   "metadata": {
    "scrolled": true
   },
   "outputs": [
    {
     "name": "stdout",
     "output_type": "stream",
     "text": [
      "[ 0.00373257  0.14530935 -0.08621778  0.70943959]\n",
      "[[ 0.          0.78880774 -0.09854363 -0.44136972]\n",
      " [ 0.78880774  0.         -0.40675788  0.18553078]\n",
      " [-0.09854363 -0.40675788  0.         -0.32702083]\n",
      " [-0.44136972  0.18553078 -0.32702083  0.        ]]\n",
      "-0.9141512238851323\n",
      "0.018695189306421337\n"
     ]
    }
   ],
   "source": [
    "print(result[0])\n",
    "print(result[1])\n",
    "print(result[2])\n",
    "print(mean_error(h, j, result[0], result[1]))"
   ]
  },
  {
   "cell_type": "code",
   "execution_count": 67,
   "metadata": {},
   "outputs": [
    {
     "name": "stdout",
     "output_type": "stream",
     "text": [
      "1.241527370982879\n",
      "1.1878353536399981\n",
      "1.1878353536399981\n",
      "20.2 ms ± 933 µs per loop (mean ± std. dev. of 7 runs, 10 loops each)\n",
      "19.8 ms ± 126 µs per loop (mean ± std. dev. of 7 runs, 10 loops each)\n",
      "9.73 ms ± 20.3 µs per loop (mean ± std. dev. of 7 runs, 100 loops each)\n"
     ]
    }
   ],
   "source": [
    "h, j = get_random_h_j(n)\n",
    "\n",
    "newh, newj, rows = random_change_h_j_row(h, j)\n",
    "\n",
    "p = log_pseudolikelihood(spins, h, j)\n",
    "print(p)\n",
    "print(log_pseudolikelihood(spins, newh, newj))\n",
    "print(log_pseudolikelihood(spins, newh, newj, recalculate=False, previous=p, h_prev=h, j_prev=j, new_row=rows))\n",
    "%timeit log_pseudolikelihood(spins, h, j)\n",
    "%timeit log_pseudolikelihood(spins, newh, newj)\n",
    "%timeit log_pseudolikelihood(spins, newh, newj, recalculate=False, previous=p, h_prev=h, j_prev=j, new_row=rows)"
   ]
  },
  {
   "cell_type": "code",
   "execution_count": null,
   "metadata": {},
   "outputs": [],
   "source": []
  },
  {
   "cell_type": "code",
   "execution_count": null,
   "metadata": {},
   "outputs": [],
   "source": []
  },
  {
   "cell_type": "code",
   "execution_count": null,
   "metadata": {},
   "outputs": [],
   "source": []
  }
 ],
 "metadata": {
  "kernelspec": {
   "display_name": "Python 3",
   "language": "python",
   "name": "python3"
  },
  "language_info": {
   "codemirror_mode": {
    "name": "ipython",
    "version": 3
   },
   "file_extension": ".py",
   "mimetype": "text/x-python",
   "name": "python",
   "nbconvert_exporter": "python",
   "pygments_lexer": "ipython3",
   "version": "3.7.0"
  }
 },
 "nbformat": 4,
 "nbformat_minor": 2
}
