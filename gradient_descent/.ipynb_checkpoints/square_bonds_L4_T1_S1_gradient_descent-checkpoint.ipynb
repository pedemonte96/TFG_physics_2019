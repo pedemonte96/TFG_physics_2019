{
 "cells": [
  {
   "cell_type": "code",
   "execution_count": 1,
   "metadata": {},
   "outputs": [],
   "source": [
    "# imports\n",
    "import numpy as np\n",
    "import random\n",
    "import math\n",
    "import timeit\n",
    "import matplotlib.pyplot as plt\n",
    "from tqdm import tqdm_notebook\n",
    "from IPython.display import display, clear_output\n",
    "#import autograd.numpy as np\n",
    "#from autograd import elementwise_grad as grad, value_and_grad"
   ]
  },
  {
   "cell_type": "code",
   "execution_count": 2,
   "metadata": {},
   "outputs": [],
   "source": [
    "# Read data functions\n",
    "def string_to_spin(string):\n",
    "    \"\"\"\n",
    "    Convert string of 0 and 1 to a np array of spins (-1, 1):\n",
    "    0 -> -1\n",
    "    1 -> +1\n",
    "    :param string: String: original string.\n",
    "    :return: np.array: Spins.\n",
    "    \"\"\"\n",
    "    return np.array([-1 if a == '0' else 1 for a in string])\n",
    "\n",
    "def read_configurations(name, n):\n",
    "    \"\"\"\n",
    "    Reads a file and returns a np array with the spin configuration.\n",
    "    :param name: String: Name of the file.\n",
    "    :param n: Int: Number of spins.\n",
    "    :return: np.array: Matrix of shape (Data_number, num_spins).\n",
    "    \"\"\"\n",
    "    spins = np.array([])\n",
    "    filepath = name\n",
    "    with open(filepath, 'r') as fp:\n",
    "        s = fp.readlines()  \n",
    "    spins = np.array([string_to_spin(e.rstrip()) for e in s]).flatten()\n",
    "    return np.reshape(spins, (int(len(spins)/n), n)).astype('int')\n",
    "\n",
    "def read_j_coef(name, n):\n",
    "    \"\"\"\n",
    "    Reads a file and returns a np array with the j coefficients.\n",
    "    :param name: String: Name of the file.\n",
    "    :param n: Int: Number of spins.\n",
    "    :return: np.array: Array of shape 2*n.\n",
    "    \"\"\"\n",
    "    j = np.zeros((n, 2))\n",
    "    filepath = name\n",
    "    with open(filepath) as fp:\n",
    "        for line in tqdm_notebook(fp.readlines()):\n",
    "            list_line = line.split()\n",
    "            if len(list_line) == 2:\n",
    "                el = list_line[-1]\n",
    "                list_line[-1] = el[0]\n",
    "                list_line.append(el[1:])\n",
    "            s = int(list_line[0])-1\n",
    "            d = int(list_line[1])-1\n",
    "            # list line té 3 llocs: numspin, (1 o 2) i el valor de J\n",
    "            j[s, d] = list_line[-1]\n",
    "    return j"
   ]
  },
  {
   "cell_type": "code",
   "execution_count": 3,
   "metadata": {},
   "outputs": [],
   "source": [
    "# get neighbours\n",
    "def get_spin_neighbours(i, l):\n",
    "    \"\"\"\n",
    "    From a spin i in a lxl grid, gives the neighbours of this spin.\n",
    "    :param i: Int: Position of the spin.\n",
    "    :param l: Int: Length of the square grid.\n",
    "    :return: np.array: Array containing the index of the neighbour spins.\n",
    "    \"\"\"\n",
    "    column = int(i % l)\n",
    "    row = int(i / l)\n",
    "    right = int(row * l + (column + 1)%l)\n",
    "    up = int(((row + 1)%l) * l + column)\n",
    "    left = int(row * l + (column - 1)%l)\n",
    "    down = int(((row - 1)%l) * l + column)\n",
    "    return np.array([right, up, left, down])\n",
    "\n",
    "def f_nbrs(n):\n",
    "    l = int(np.sqrt(n))\n",
    "    return np.array([get_spin_neighbours(i, l) for i in range(n)])"
   ]
  },
  {
   "cell_type": "code",
   "execution_count": 4,
   "metadata": {},
   "outputs": [
    {
     "name": "stdout",
     "output_type": "stream",
     "text": [
      "[[ 1  4  3 12]\n",
      " [ 2  5  0 13]\n",
      " [ 3  6  1 14]\n",
      " [ 0  7  2 15]\n",
      " [ 5  8  7  0]\n",
      " [ 6  9  4  1]\n",
      " [ 7 10  5  2]\n",
      " [ 4 11  6  3]\n",
      " [ 9 12 11  4]\n",
      " [10 13  8  5]\n",
      " [11 14  9  6]\n",
      " [ 8 15 10  7]\n",
      " [13  0 15  8]\n",
      " [14  1 12  9]\n",
      " [15  2 13 10]\n",
      " [12  3 14 11]]\n"
     ]
    }
   ],
   "source": [
    "print(f_nbrs(16))"
   ]
  },
  {
   "cell_type": "code",
   "execution_count": 5,
   "metadata": {},
   "outputs": [],
   "source": [
    "# Pseudolikelihood calculation\n",
    "def log_pseudolikelihood2(data, nbrs, h, j, temp=1):\n",
    "    \"\"\"Sums the rows of the pseudolikelihood\"\"\"\n",
    "    m, n = data.shape\n",
    "    output = np.array([[1 + data[mu, i] * math.tanh(float(h[i])/temp + multiply_j_spin_neighbours(j, data[mu, :], i, nbrs[i])/temp) for i in range(n)] for mu in range(m)])\n",
    "    output = np.log(output)\n",
    "    return -np.sum(output)/m\n",
    "\n",
    "def multiply_j_spin_neighbours(j, spins, i, nbr):\n",
    "    subsum = spins[nbr[0]] * j[i, 0] + spins[nbr[2]] * j[nbr[2], 0] \\\n",
    "        + spins[nbr[1]] * j[i, 1] + spins[nbr[3]] * j[nbr[3], 1]\n",
    "    return float(subsum)\n",
    "\n",
    "def tanh_class(h, j, alpha, i, nbr, temp):\n",
    "    spins = int_to_spins_5(alpha)\n",
    "    subsum = spins[0] * j[i, 0] + spins[1] * j[nbr[2], 0] + spins[2] * j[i, 1] + spins[3] * j[nbr[3], 1]\n",
    "    return spins[4]*math.tanh(float(h[i] + subsum)/temp)\n",
    "\n",
    "def jacobian_class(j, alpha, k, l, nbrs, temp):\n",
    "    spins = int_to_spins_10(alpha)\n",
    "    subsum_k = spins[0] * j[k, 0] + spins[1] * j[nbrs[k][2], 0] + spins[2] * j[k, 1] + spins[3] * j[nbrs[k][3], 1]\n",
    "    subsum_l = spins[5] * j[l, 0] + spins[6] * j[nbrs[l][2], 0] + spins[7] * j[l, 1] + spins[8] * j[nbrs[l][3], 1]\n",
    "    tanh_k = math.tanh(float(subsum_k)/temp)\n",
    "    tanh_l = math.tanh(float(subsum_l)/temp)\n",
    "    return spins[4]*spins[9]*((1-tanh_k**2)/(1+spins[4]*tanh_k) + (1-tanh_l**2)/(1+spins[9]*tanh_l))\n",
    "\n",
    "def class_matrix(data):\n",
    "    m, n = data.shape\n",
    "    nbrs = f_nbrs(n)\n",
    "    classes = np.zeros((n, 32), dtype='int')\n",
    "    for mu in range(m):\n",
    "        for i in range(n):\n",
    "            spins = [data[mu, nbrs[i][0]], data[mu, nbrs[i][2]], data[mu, nbrs[i][1]], data[mu, nbrs[i][3]], data[mu, i]]\n",
    "            classes[i, spins_to_int(spins)] += 1\n",
    "    return classes\n",
    "\n",
    "def class_matrix_jacobian(data):\n",
    "    m, n = data.shape\n",
    "    nbrs = f_nbrs(n)\n",
    "    classes = np.zeros((n, n, 1024), dtype='int')\n",
    "    for mu in tqdm_notebook(range(m)):\n",
    "        for i in range(n):\n",
    "            for k in range(n):\n",
    "                spins = [data[mu, nbrs[i][0]], data[mu, nbrs[i][2]], data[mu, nbrs[i][1]], data[mu, nbrs[i][3]], data[mu, i],\n",
    "                         data[mu, nbrs[k][0]], data[mu, nbrs[k][2]], data[mu, nbrs[k][1]], data[mu, nbrs[k][3]], data[mu, k]]\n",
    "                classes[i, k, spins_to_int(spins)] += 1\n",
    "    return classes\n",
    "\n",
    "def log_pseudolikelihood(data, nbrs, h, j, classes, temp=1):\n",
    "    m, n = data.shape\n",
    "    out = 0\n",
    "    for i in range(n):\n",
    "        for alpha in range(32):\n",
    "            c_i_alpha = classes[i, alpha]\n",
    "            if c_i_alpha != 0:\n",
    "                out += c_i_alpha * math.log(1 + tanh_class(h, j, alpha, i, nbrs[i], temp))\n",
    "    return -float(out)/m\n",
    "\n",
    "def pseudolikelihood_gradient_descent(j, data, nbrs, classes, temp):\n",
    "    m, n = data.shape\n",
    "    h = np.zeros(n)\n",
    "    return log_pseudolikelihood(data, nbrs, h, j, classes, temp=temp)\n",
    "\n",
    "def pseudolikelihood_gradient_descent_penalty(j, data, nbrs, classes, temp, penalty=0.):\n",
    "    m, n = data.shape\n",
    "    h = np.zeros(n)\n",
    "    return log_pseudolikelihood(data, nbrs, h, j, classes, temp=temp) + penalty * np.sum(j**2)\n",
    "\n",
    "def int_to_spins_5(alpha):\n",
    "    return string_to_spin(format(alpha, '05b'))\n",
    "\n",
    "def int_to_spins_10(alpha):\n",
    "    return string_to_spin(format(alpha, '010b'))\n",
    "\n",
    "def spins_to_int(spins):\n",
    "    out = ''\n",
    "    for e in spins:\n",
    "        out += str(int((e+1)/2))\n",
    "    return int(out, 2)"
   ]
  },
  {
   "cell_type": "code",
   "execution_count": null,
   "metadata": {},
   "outputs": [],
   "source": []
  },
  {
   "cell_type": "code",
   "execution_count": 6,
   "metadata": {},
   "outputs": [],
   "source": [
    "def index_array_to_matrix(n, pair):\n",
    "    l = int(np.sqrt(n))\n",
    "    out = [-1, -1]\n",
    "    out[0] = pair[0]\n",
    "    if pair[1] == 0:\n",
    "        out[1] = int(pair[0]/l)*l + ((pair[0] + 1)%l)\n",
    "    else:\n",
    "        out[1] = ((pair[0] + l)%n)\n",
    "    return out\n",
    "    \n",
    "def jacobian_pseudo2(j, data, nbrs, temp=1):\n",
    "    #No need to multiply jacobian by \\beta since will be normalized\n",
    "    m, n = data.shape\n",
    "    jac = np.zeros((n,2))\n",
    "    for a in range(n):\n",
    "        for b in range(2):\n",
    "            k, l = index_array_to_matrix(n, [a, b])\n",
    "            subsum = 0\n",
    "            for mu in range(m):\n",
    "                tanh_k = math.tanh(multiply_j_spin_neighbours(j, data[mu, :], k, nbrs[k])/temp)\n",
    "                tanh_l = math.tanh(multiply_j_spin_neighbours(j, data[mu, :], l, nbrs[l])/temp)\n",
    "                subsum += data[mu, k]*data[mu, l] * ((1-tanh_k**2)/(1 + data[mu, k]*tanh_k) + (1-tanh_l**2)/(1 + data[mu, l]*tanh_l))\n",
    "            jac[a, b] = -float(subsum)/m\n",
    "    \n",
    "    return jac/np.linalg.norm(jac)\n",
    "\n",
    "def jacobian_pseudo(j, data, nbrs, classes, temp=1):\n",
    "    m, n = data.shape\n",
    "    jac = np.zeros((n,2))\n",
    "    for a in range(n):\n",
    "        for b in range(2):\n",
    "            k, l = index_array_to_matrix(n, [a, b])\n",
    "            out = 0\n",
    "            for alpha in range(1024):\n",
    "                c_k_l_aplha = classes[k, l, alpha]\n",
    "                if c_k_l_aplha != 0:\n",
    "                    out += c_k_l_aplha * jacobian_class(j, alpha, k, l, nbrs, temp)\n",
    "            jac[a, b] = -float(out)/m\n",
    "    return jac/np.linalg.norm(jac)\n",
    "\n",
    "def jacobian_pseudo_penalty(j, data, nbrs, classes, temp=1, penalty=0.):\n",
    "    jac = jacobian_pseudo(j, data, nbrs, classes, temp=temp)\n",
    "    jac = jac + penalty * 2 * j   \n",
    "    return jac/np.linalg.norm(jac)"
   ]
  },
  {
   "cell_type": "code",
   "execution_count": 7,
   "metadata": {
    "scrolled": false
   },
   "outputs": [],
   "source": [
    "#for i in range(64):\n",
    "#    for j in range(2):\n",
    "#        print('({},{}) -> ({},{})'.format(i, j, index_array_to_matrix(64, [i,j])[0], index_array_to_matrix(64, [i,j])[1]))"
   ]
  },
  {
   "cell_type": "code",
   "execution_count": 8,
   "metadata": {},
   "outputs": [],
   "source": [
    "def hamiltonian(spins, h, j):\n",
    "    hamiltonian = 0\n",
    "    n, d = j.shape\n",
    "    l = int(np.sqrt(n))\n",
    "    for i in range(n):\n",
    "        subsum = 0\n",
    "        for k in range(d):\n",
    "            subsum += spins[get_spin_neighbours(i, l)[k]] * j[i, k]\n",
    "        hamiltonian += spins[i] * subsum\n",
    "    hamiltonian += np.dot(h, spins)\n",
    "    return -hamiltonian"
   ]
  },
  {
   "cell_type": "code",
   "execution_count": 9,
   "metadata": {},
   "outputs": [],
   "source": [
    "# Create random h and J of given dimension\n",
    "def get_random_h_j(n, d=2):\n",
    "    h = np.random.uniform(-1, 1, size=n)\n",
    "    j = np.random.uniform(-1, 1, size=(n,d))\n",
    "    return h, j\n",
    "\n",
    "def mean_error(h, j, hp, jp, magnetic_field=True):\n",
    "    numerator = np.linalg.norm(flat_matrix(j) - flat_matrix(jp))**2 + np.linalg.norm(h-hp)**2\n",
    "    denominator = np.linalg.norm(flat_matrix(jp))**2 + np.linalg.norm(hp)**2\n",
    "    return np.sqrt(numerator/denominator)\n",
    "\n",
    "\n",
    "def neighbour_uniform(s, delta=0.5):\n",
    "    lower = max(s - delta, -1.)\n",
    "    upper = min(s + delta, 1.)\n",
    "    return np.random.uniform(lower, upper)\n",
    "\n",
    "def random_change_h_j_row(h, j, nbrs, delta=0.5, magnetic_field=True):\n",
    "    if magnetic_field:\n",
    "        h_new = np.copy(h)\n",
    "        j_new = np.copy(j)\n",
    "        n, d = j_new.shape\n",
    "        column = np.random.randint(0, n)\n",
    "        row = np.random.randint(0, d+1)\n",
    "        if row == d:\n",
    "            # h must be changed\n",
    "            h_new[column] = neighbour_uniform(h_new[column], delta)\n",
    "            return h_new, j_new, (column,)\n",
    "        else:\n",
    "            # j must be changed\n",
    "            j_new[column, row] = neighbour_uniform(j_new[column, row], delta)\n",
    "            return h_new, j_new, (column, nbrs[column][row])\n",
    "    else:\n",
    "        h_new = np.zeros_like(h)\n",
    "        j_new = np.copy(j)\n",
    "        n, d = j_new.shape\n",
    "        column = np.random.randint(0, n)\n",
    "        row = np.random.randint(0, d)\n",
    "        # j must be changed\n",
    "        j_new[column, row] = neighbour_uniform(j_new[column, row], delta)\n",
    "        return h_new, j_new, (column, nbrs[column][row])\n",
    "    \n",
    "def energy(temp, func, func_new):\n",
    "    return math.exp(-(func_new - func) / temp)"
   ]
  },
  {
   "cell_type": "code",
   "execution_count": 10,
   "metadata": {},
   "outputs": [],
   "source": [
    "def flat_matrix(a):\n",
    "    return a.flatten()"
   ]
  },
  {
   "cell_type": "code",
   "execution_count": 11,
   "metadata": {},
   "outputs": [],
   "source": [
    "def write_error_to_file(filename, error):\n",
    "    f = open(filename, \"w+\")\n",
    "    for e in error:\n",
    "        f.write(str(e)+\"\\n\")\n",
    "    f.close()\n",
    "def read_error_from_file(filename):\n",
    "    with open(filename, 'r') as fp:\n",
    "        s = fp.readlines()\n",
    "    return np.array([e.strip() for e in s], dtype='float')"
   ]
  },
  {
   "cell_type": "code",
   "execution_count": 12,
   "metadata": {},
   "outputs": [],
   "source": [
    "def write_arr_to_file(filename, arr1, arr2):\n",
    "    f = open(filename, \"w+\")\n",
    "    for e1, e2 in zip(arr1, arr2):\n",
    "        f.write(str(e1)+' '+str(e2)+\"\\n\")\n",
    "    f.close()\n",
    "def read_arr_from_file(filename):\n",
    "    arr1 = []\n",
    "    arr2 = []\n",
    "    with open(filename, 'r') as fp:\n",
    "        s = fp.readlines()\n",
    "    for e in s:\n",
    "        arr1.append(e.split()[0])\n",
    "        arr2.append(e.split()[1])\n",
    "\n",
    "    return np.array(arr1, dtype='float'), np.array(arr2, dtype='float')"
   ]
  },
  {
   "cell_type": "code",
   "execution_count": 13,
   "metadata": {},
   "outputs": [],
   "source": [
    "def gradient_descent(f, gradient, x, j_real, eps=1e-6, max_iter=100, initial_alpha=0.1):\n",
    "    \"\"\"\n",
    "    Aquesta funció implementa l'algorisme de descens pel gradient.\n",
    "    \n",
    "    :param f: Funció a minimitzar\n",
    "    :param x: Punt inicial\n",
    "    :param eps: Moviment mínim realitzat abans de parar\n",
    "    :param max_iter: Iteracions màximes a realitzar\n",
    "    :param initial_alpha: Pas inicial a cada iteració, corresponent al punt 3 anterior\n",
    "    :param verbose: En case de ser True, la funció ha d'imprimir el nombre d'iteracions fetes\n",
    "        abans de retornar\n",
    "    :return: La funció retornarà el punt mínim.\n",
    "\n",
    "    \"\"\"\n",
    "    h = np.zeros(1)\n",
    "    point = x #Point serà l'últim punt trobat i next_point el següent que calculem a partir de point\n",
    "    points = np.array([point]) #Definim un vector amb els punts trobats, per començar el punt inicial\n",
    "    next_point = x + eps #Per poder entrar al bucle\n",
    "    error = [mean_error(h, point, h, j_real)]\n",
    "    alpha = initial_alpha\n",
    "    change_alpha=[0]\n",
    "    for iters in tqdm_notebook(range(max_iter)):\n",
    "        point = points[-1]\n",
    "        grad_p = gradient(point)\n",
    "        next_point = point-alpha*grad_p\n",
    "        #next_point = interval(next_point)\n",
    "        while f(next_point) > f(point):\n",
    "            alpha /= 1.5\n",
    "            next_point = point-alpha*grad_p\n",
    "            #next_point = interval(next_point)\n",
    "            change_alpha.append(iters)\n",
    "        points = np.append(points, [next_point], axis=0)\n",
    "        error.append(mean_error(h, next_point, h, j_real))\n",
    "        #if iters%10 == 0:\n",
    "            #print(next_point, f(next_point), error[-1])\n",
    "        #if np.linalg.norm(point-next_point)>eps:\n",
    "            #break\n",
    "        \n",
    "    return points[-1], f(points[-1]), np.array(error), np.array(change_alpha)"
   ]
  },
  {
   "cell_type": "code",
   "execution_count": 14,
   "metadata": {},
   "outputs": [],
   "source": [
    "def interval(j):\n",
    "    j[j<-1] = -1\n",
    "    j[j>1] = +1\n",
    "    return j"
   ]
  },
  {
   "cell_type": "code",
   "execution_count": 55,
   "metadata": {
    "scrolled": false
   },
   "outputs": [
    {
     "data": {
      "application/vnd.jupyter.widget-view+json": {
       "model_id": "8248ebdb1e3340eaa4497ba78723ace8",
       "version_major": 2,
       "version_minor": 0
      },
      "text/plain": [
       "HBox(children=(IntProgress(value=0, max=32), HTML(value='')))"
      ]
     },
     "metadata": {},
     "output_type": "display_data"
    },
    {
     "name": "stdout",
     "output_type": "stream",
     "text": [
      "\n",
      "(25000, 16)\n"
     ]
    }
   ],
   "source": [
    "size_sample = 25000\n",
    "max_iterations = 400\n",
    "n = 16\n",
    "t1, t2, t3 = 0.5, 1.08304286, 2.0\n",
    "j1 = read_j_coef('L4/sample3/bonds.dat', n)\n",
    "h = np.zeros(n)\n",
    "spins = read_configurations('L4/sample3/configurations_T3.dat', n)\n",
    "spins = spins[::4]# en el cas de n=16\n",
    "sample1 = spins[np.random.choice(spins.shape[0], size=size_sample, replace=False), :]\n",
    "print(sample1.shape)"
   ]
  },
  {
   "cell_type": "code",
   "execution_count": 56,
   "metadata": {
    "scrolled": true
   },
   "outputs": [
    {
     "data": {
      "text/plain": [
       "'\\nclasses_p = class_matrix(sample1)\\nclasses_j = class_matrix_jacobian(sample1)\\nprint(pseudolikelihood_gradient_descent_penalty(j1, sample1, f_nbrs(n), classes_p, temp=t1))\\nn = 16\\nmax_i = 10\\nfor i in range(max_i):\\n    j = np.random.uniform(-1, 1, size=(n,2))\\n    jaco = jacobian_pseudo_penalty(j, sample1, f_nbrs(n), classes_j, temp=t1)\\n    #print(jaco)\\n\\n    print(pseudolikelihood_gradient_descent_penalty(j, sample1, f_nbrs(n), classes_p, temp=t1) - pseudolikelihood_gradient_descent_penalty(j - 0.1*jaco, sample1, f_nbrs(n), classes_p, temp=t1))\\n'"
      ]
     },
     "execution_count": 56,
     "metadata": {},
     "output_type": "execute_result"
    }
   ],
   "source": [
    "\"\"\"\n",
    "classes_p = class_matrix(sample1)\n",
    "classes_j = class_matrix_jacobian(sample1)\n",
    "print(pseudolikelihood_gradient_descent_penalty(j1, sample1, f_nbrs(n), classes_p, temp=t1))\n",
    "n = 16\n",
    "max_i = 10\n",
    "for i in range(max_i):\n",
    "    j = np.random.uniform(-1, 1, size=(n,2))\n",
    "    jaco = jacobian_pseudo_penalty(j, sample1, f_nbrs(n), classes_j, temp=t1)\n",
    "    #print(jaco)\n",
    "\n",
    "    print(pseudolikelihood_gradient_descent_penalty(j, sample1, f_nbrs(n), classes_p, temp=t1) - pseudolikelihood_gradient_descent_penalty(j - 0.1*jaco, sample1, f_nbrs(n), classes_p, temp=t1))\n",
    "\"\"\""
   ]
  },
  {
   "cell_type": "code",
   "execution_count": 57,
   "metadata": {},
   "outputs": [
    {
     "data": {
      "application/vnd.jupyter.widget-view+json": {
       "model_id": "e0a363c56ede4d90953f794883d3ca93",
       "version_major": 2,
       "version_minor": 0
      },
      "text/plain": [
       "HBox(children=(IntProgress(value=0, max=25000), HTML(value='')))"
      ]
     },
     "metadata": {},
     "output_type": "display_data"
    },
    {
     "name": "stdout",
     "output_type": "stream",
     "text": [
      "\n"
     ]
    }
   ],
   "source": [
    "classes_p = class_matrix(spins)\n",
    "classes_j = class_matrix_jacobian(spins)"
   ]
  },
  {
   "cell_type": "code",
   "execution_count": 58,
   "metadata": {},
   "outputs": [
    {
     "data": {
      "application/vnd.jupyter.widget-view+json": {
       "model_id": "dd22ba7376974360a62cf56846059076",
       "version_major": 2,
       "version_minor": 0
      },
      "text/plain": [
       "HBox(children=(IntProgress(value=0, max=500), HTML(value='')))"
      ]
     },
     "metadata": {},
     "output_type": "display_data"
    },
    {
     "name": "stdout",
     "output_type": "stream",
     "text": [
      "\n"
     ]
    }
   ],
   "source": [
    "max_iterations = 500\n",
    "nbrs = f_nbrs(n)\n",
    "result1 = gradient_descent(lambda j: pseudolikelihood_gradient_descent_penalty(j, spins, nbrs, classes_p, temp=t3, penalty=0.),\n",
    "                          lambda j: jacobian_pseudo_penalty(j, spins, nbrs, classes_j, temp=t3, penalty=0.),\n",
    "                          np.random.uniform(-1, 1, size=(n,2)), j1, max_iter=max_iterations)"
   ]
  },
  {
   "cell_type": "code",
   "execution_count": 59,
   "metadata": {},
   "outputs": [
    {
     "data": {
      "image/png": "[encoded data removed]",
      "text/plain": [
       "<Figure size 720x720 with 1 Axes>"
      ]
     },
     "metadata": {
      "needs_background": "light"
     },
     "output_type": "display_data"
    }
   ],
   "source": [
    "colors_dif = [[255,0,0], [255,91,0], [255,198,0], [198,255,0], [91,255,0], [0,255,0], [0,255,91], [0,255,198], [0,198,255], [0,91,255]]\n",
    "colors_dif = np.array(colors_dif)/255.0\n",
    "colors_sp = ['#8300b5', '#0a00ff', '#00cdff', '#28ff00', '#b6ff00', '#ffcf00', '#ff3e00', '#ff0000','#990000', '#440000']\n",
    "plt.figure(figsize = (10, 10))\n",
    "mk_size=50\n",
    "ax = plt.axes()\n",
    "plt.title(r'L=4, $\\beta=\\beta_1$, $M=25000$', fontsize=45, y=1.005)\n",
    "plt.xlabel(r'$J^{0}_{ij}$', rotation=0, fontsize=45)\n",
    "plt.ylabel(r'$J_{ij}$', rotation=0, fontsize=45)\n",
    "ax.xaxis.set_label_coords(0.5, -0.1)\n",
    "ax.yaxis.set_label_coords(-0.1, 0.5)\n",
    "plt.plot((-1.1, 1.1), (-1.1,1.1), color='#444444', label=r'y=x', zorder=1, linewidth=2, alpha=1)\n",
    "plt.scatter(flat_matrix(j1), flat_matrix(result1[0]), color=colors_sp[0], label=r'$\\lambda = 2$', zorder=2, marker=\"o\", s=mk_size)\n",
    "#plt.scatter(flat_matrix(j1), flat_matrix(result2[0]), color=colors_sp[1], label=r'$\\lambda = 1$', zorder=3, marker=\"o\", s=mk_size)\n",
    "#plt.scatter(flat_matrix(j1), flat_matrix(result3[0]), color=colors_sp[2], label=r'$\\lambda = 0.5$', zorder=4, marker=\"o\", s=mk_size)\n",
    "#plt.scatter(flat_matrix(j1), flat_matrix(result4[0]), color=colors_sp[3], label=r'$\\lambda = 0.2$', zorder=5, marker=\"o\", s=mk_size)\n",
    "#plt.scatter(flat_matrix(j1), flat_matrix(result5[0]), color=colors_sp[4], label=r'$\\lambda = 0.1$', zorder=6, marker=\"o\", s=mk_size)\n",
    "#plt.scatter(flat_matrix(j1), flat_matrix(result6[0]), color=colors_sp[5], label=r'$\\lambda = 0.05$', zorder=7, marker=\"o\", s=mk_size)\n",
    "#plt.scatter(flat_matrix(j1), flat_matrix(result7[0]), color=colors_sp[6], label=r'$\\lambda = 0.02$', zorder=8, marker=\"o\", s=mk_size)\n",
    "#plt.scatter(flat_matrix(j1), flat_matrix(result8[0]), color=colors_sp[7], label=r'$\\lambda = 0.01$', zorder=9, marker=\"o\", s=mk_size)\n",
    "#plt.scatter(flat_matrix(j1), flat_matrix(result9[0]), color=colors_sp[8], label=r'$\\lambda = 0.005$', zorder=10, marker=\"o\", s=mk_size)\n",
    "#plt.scatter(flat_matrix(j1), flat_matrix(result10[0]), color=colors_sp[9], label=r'$\\lambda = 0$', zorder=11, marker=\"o\", s=mk_size)\n",
    "\n",
    "\n",
    "plt.ylim(-1.1, 1.1)\n",
    "plt.xlim(-1.1, 1.1)\n",
    "\n",
    "# Make a plot with major ticks that are multiples of 20 and minor ticks that\n",
    "# are multiples of 5.  Label major ticks with '%d' formatting but don't label\n",
    "# minor ticks.\n",
    "ax.xaxis.set_major_locator(MultipleLocator(1))\n",
    "ax.xaxis.set_major_formatter(FormatStrFormatter('%d'))\n",
    "# For the minor ticks, use no labels; default NullFormatter.\n",
    "ax.xaxis.set_minor_locator(MultipleLocator(0.2))\n",
    "# Make a plot with major ticks that are multiples of 20 and minor ticks that\n",
    "# are multiples of 5.  Label major ticks with '%d' formatting but don't label\n",
    "# minor ticks.\n",
    "ax.yaxis.set_major_locator(MultipleLocator(1))\n",
    "ax.yaxis.set_major_formatter(FormatStrFormatter('%d'))\n",
    "# For the minor ticks, use no labels; default NullFormatter.\n",
    "ax.yaxis.set_minor_locator(MultipleLocator(0.2))\n",
    "plt.xticks(fontsize=35)\n",
    "plt.yticks(fontsize=35)\n",
    "ax.tick_params(which='both', width=4)\n",
    "ax.tick_params(which='major', length=12)\n",
    "ax.tick_params(which='minor', length=7)\n",
    "for axis in ['top','bottom','left','right']:\n",
    "    ax.spines[axis].set_linewidth(4)\n",
    "plt.grid()\n",
    "plt.legend()\n",
    "plt.savefig('scatter_plots_penalty2.png', bbox_inches = 'tight')\n",
    "plt.show()\n"
   ]
  },
  {
   "cell_type": "code",
   "execution_count": 60,
   "metadata": {},
   "outputs": [
    {
     "data": {
      "image/png": "[encoded data removed]",
      "text/plain": [
       "<Figure size 1008x720 with 1 Axes>"
      ]
     },
     "metadata": {
      "needs_background": "light"
     },
     "output_type": "display_data"
    }
   ],
   "source": [
    "x = np.arange(len(result1[2]))\n",
    "wl=2\n",
    "color1, color2, color3 = '#bb0000', '#00bb00', '#0000bb'\n",
    "colors_sp = ['#8300b5', '#0a00ff', '#00cdff', '#28ff00', '#b6ff00', '#ffcf00', '#ff3e00', '#ff0000','#990000', '#440000']\n",
    "colors_dif = [[255,0,0], [255,91,0], [255,198,0], [198,255,0], [91,255,0], [0,255,0], [0,255,91], [0,255,198], [0,198,255], [0,91,255]]\n",
    "colors_dif = np.array(colors_dif)/255.0\n",
    "plt.figure(figsize = (14, 10))\n",
    "ax = plt.axes()\n",
    "plt.title(r'L=4, $\\beta_1$, $M=25000$', fontsize=45, y=1.005)\n",
    "plt.xlabel(r'Iterations', rotation=0, fontsize=45)\n",
    "plt.ylabel(r'$\\gamma$', rotation=0, fontsize=45)\n",
    "ax.xaxis.set_label_coords(0.5, -0.1)\n",
    "ax.yaxis.set_label_coords(-0.15, 0.5)\n",
    "plt.plot(x, result1[2], color=colors_sp[0], label=r'$\\lambda$ = 2')\n",
    "#plt.plot(x, result2[2], color=colors_sp[1], label=r'$\\lambda$ = 1')\n",
    "#plt.plot(x, result3[2], color=colors_sp[2], label=r'$\\lambda$ = 0.5')\n",
    "#plt.plot(x, result4[2], color=colors_sp[3], label=r'$\\lambda$ = 0.2')\n",
    "#plt.plot(x, result5[2], color=colors_sp[4], label=r'$\\lambda$ = 0.1')\n",
    "#plt.plot(x, result6[2], color=colors_sp[5], label=r'$\\lambda$ = 0.05')\n",
    "#plt.plot(x, result7[2], color=colors_sp[6], label=r'$\\lambda$ = 0.02')\n",
    "#plt.plot(x, result8[2], color=colors_sp[7], label=r'$\\lambda$ = 0.01')\n",
    "#plt.plot(x, result9[2], color=colors_sp[8], label=r'$\\lambda$ = 0.005')\n",
    "#plt.plot(x, result10[2], color=colors_sp[9], label=r'$\\lambda$ = 0')\n",
    "#avg = np.mean(np.vstack((result1[2],result2[2],result3[2],result4[2],result5[2],result6[2],\n",
    "#                         result7[2],result8[2],result9[2],result10[2])), axis=0)\n",
    "#std = np.std(np.vstack((result1[2],result2[2],result3[2],result4[2],result5[2],result6[2],\n",
    "#                        result7[2],result8[2],result9[2],result10[2])), axis=0, ddof=1)\n",
    "#write_error_to_file('L4_T1_S1_error_m12500_t200_avg.txt', avg)\n",
    "#write_error_to_file('L4_T1_S1_error_m12500_t200_std.txt', std)\n",
    "#plt.fill_between(x, avg - std, avg + std, color=color1, alpha=0.2)\n",
    "#plt.plot(x, avg, color=color1, linewidth=wl)\n",
    "#plt.plot((np.max(x)*0.9, np.max(x)*0.9), (1e-2,2), color='#55ff00', label='y=x', zorder=1, linewidth=3, alpha=1)\n",
    "#plt.plot(x, result2[1], color='#00bb00')\n",
    "#plt.plot(x, result3[1], color='#0000bb')\n",
    "plt.yscale('log')\n",
    "plt.ylim(1e-2, 2)\n",
    "plt.xlim(0, np.max(x))\n",
    "\n",
    "# Make a plot with major ticks that are multiples of 20 and minor ticks that\n",
    "# are multiples of 5.  Label major ticks with '%d' formatting but don't label\n",
    "# minor ticks.\n",
    "ax.xaxis.set_major_locator(MultipleLocator(50))\n",
    "ax.xaxis.set_major_formatter(FormatStrFormatter('%d'))\n",
    "# For the minor ticks, use no labels; default NullFormatter.\n",
    "ax.xaxis.set_minor_locator(MultipleLocator(10))\n",
    "ax.yaxis.set_major_formatter(FormatStrFormatter('%.2f'))\n",
    "\n",
    "plt.xticks(fontsize=35)\n",
    "plt.yticks(fontsize=35)\n",
    "ax.tick_params(which='both', width=4)\n",
    "ax.tick_params(which='major', length=12)\n",
    "ax.tick_params(which='minor', length=7)\n",
    "for axis in ['top','bottom','left','right']:\n",
    "    ax.spines[axis].set_linewidth(4)\n",
    "plt.legend()\n",
    "#plt.setp( ax.xaxis.get_majorticklabels(), rotation=-45, ha=\"left\", rotation_mode=\"anchor\")\n",
    "plt.grid(True, which='both')\n",
    "#plt.savefig('error_L4_T1_M25000_t300_penalties.png', bbox_inches = 'tight')\n",
    "plt.show()\n"
   ]
  },
  {
   "cell_type": "code",
   "execution_count": 61,
   "metadata": {},
   "outputs": [
    {
     "name": "stdout",
     "output_type": "stream",
     "text": [
      "0.023717614014788783\n"
     ]
    }
   ],
   "source": [
    "print(result1[2][-1])"
   ]
  },
  {
   "cell_type": "code",
   "execution_count": 219,
   "metadata": {},
   "outputs": [
    {
     "data": {
      "image/png": "[encoded data removed]",
      "text/plain": [
       "<Figure size 1008x720 with 1 Axes>"
      ]
     },
     "metadata": {
      "needs_background": "light"
     },
     "output_type": "display_data"
    }
   ],
   "source": [
    "final_errors = [result1[2][-1], result2[2][-1], result3[2][-1], result4[2][-1], result5[2][-1],\n",
    "                result6[2][-1], result7[2][-1], result8[2][-1], result9[2][-1], result10[2][-1]]\n",
    "penalties = [2, 1, 0.5, 0.2, 0.1, 0.05, 0.02, 0.01, 0.005, 0]\n",
    "\n",
    "plt.figure(figsize = (14, 10))\n",
    "ax = plt.axes()\n",
    "plt.title(r'L=4, $\\beta_1$, $M=25000$', fontsize=45, y=1.005)\n",
    "plt.xlabel(r'Penalty', rotation=0, fontsize=45)\n",
    "plt.ylabel(r'$\\gamma$', rotation=0, fontsize=45)\n",
    "ax.xaxis.set_label_coords(0.5, -0.1)\n",
    "ax.yaxis.set_label_coords(-0.15, 0.5)\n",
    "plt.plot(penalties, final_errors, color=colors_sp[0], marker='o')\n",
    "#plt.yscale('log')\n",
    "plt.xscale('symlog', linthreshx=1e-4)\n",
    "plt.ylim(0, 1)\n",
    "plt.xlim(0, np.max(penalties)+0.5)\n",
    "\n",
    "ax.yaxis.set_minor_locator(MultipleLocator(0.1))\n",
    "ax.yaxis.set_major_formatter(FormatStrFormatter('%.1f'))\n",
    "\n",
    "plt.xticks(fontsize=35)\n",
    "plt.yticks(fontsize=35)\n",
    "ax.tick_params(which='both', width=4)\n",
    "ax.tick_params(which='major', length=12)\n",
    "ax.tick_params(which='minor', length=7)\n",
    "for axis in ['top','bottom','left','right']:\n",
    "    ax.spines[axis].set_linewidth(4)\n",
    "#plt.legend()\n",
    "#plt.setp( ax.xaxis.get_majorticklabels(), rotation=-45, ha=\"left\", rotation_mode=\"anchor\")\n",
    "plt.grid(True, which='both')\n",
    "plt.savefig('error_L4_T1_M25000_t300_vs_pen.png', bbox_inches = 'tight')\n",
    "plt.show()"
   ]
  },
  {
   "cell_type": "code",
   "execution_count": null,
   "metadata": {},
   "outputs": [],
   "source": [
    "classes_p = class_matrix(spins)\n",
    "classes_j = class_matrix_jacobian(spins)"
   ]
  },
  {
   "cell_type": "code",
   "execution_count": 221,
   "metadata": {
    "scrolled": false
   },
   "outputs": [
    {
     "data": {
      "application/vnd.jupyter.widget-view+json": {
       "model_id": "b7e8e2b246384e438eff4ebdc607b396",
       "version_major": 2,
       "version_minor": 0
      },
      "text/plain": [
       "HBox(children=(IntProgress(value=0, max=400), HTML(value='')))"
      ]
     },
     "metadata": {},
     "output_type": "display_data"
    },
    {
     "name": "stdout",
     "output_type": "stream",
     "text": [
      "\n"
     ]
    },
    {
     "data": {
      "application/vnd.jupyter.widget-view+json": {
       "model_id": "aa2cc07e8c2b4d2ead63f7690258cba9",
       "version_major": 2,
       "version_minor": 0
      },
      "text/plain": [
       "HBox(children=(IntProgress(value=0, max=400), HTML(value='')))"
      ]
     },
     "metadata": {},
     "output_type": "display_data"
    },
    {
     "name": "stdout",
     "output_type": "stream",
     "text": [
      "\n"
     ]
    },
    {
     "data": {
      "application/vnd.jupyter.widget-view+json": {
       "model_id": "5fcbc1a2bd564d63b460a438082008e4",
       "version_major": 2,
       "version_minor": 0
      },
      "text/plain": [
       "HBox(children=(IntProgress(value=0, max=400), HTML(value='')))"
      ]
     },
     "metadata": {},
     "output_type": "display_data"
    },
    {
     "name": "stdout",
     "output_type": "stream",
     "text": [
      "\n"
     ]
    },
    {
     "data": {
      "application/vnd.jupyter.widget-view+json": {
       "model_id": "7889891eabce41f18d147f4219edf172",
       "version_major": 2,
       "version_minor": 0
      },
      "text/plain": [
       "HBox(children=(IntProgress(value=0, max=400), HTML(value='')))"
      ]
     },
     "metadata": {},
     "output_type": "display_data"
    },
    {
     "name": "stdout",
     "output_type": "stream",
     "text": [
      "\n"
     ]
    },
    {
     "data": {
      "application/vnd.jupyter.widget-view+json": {
       "model_id": "0f652bb9629943dbbb89d64a177031bf",
       "version_major": 2,
       "version_minor": 0
      },
      "text/plain": [
       "HBox(children=(IntProgress(value=0, max=400), HTML(value='')))"
      ]
     },
     "metadata": {},
     "output_type": "display_data"
    },
    {
     "name": "stdout",
     "output_type": "stream",
     "text": [
      "\n"
     ]
    },
    {
     "data": {
      "application/vnd.jupyter.widget-view+json": {
       "model_id": "b1ff4283a79742babeb8b97ed8090c18",
       "version_major": 2,
       "version_minor": 0
      },
      "text/plain": [
       "HBox(children=(IntProgress(value=0, max=400), HTML(value='')))"
      ]
     },
     "metadata": {},
     "output_type": "display_data"
    },
    {
     "name": "stdout",
     "output_type": "stream",
     "text": [
      "\n"
     ]
    },
    {
     "data": {
      "application/vnd.jupyter.widget-view+json": {
       "model_id": "ed447864f5d74deea02c55b1de63b86f",
       "version_major": 2,
       "version_minor": 0
      },
      "text/plain": [
       "HBox(children=(IntProgress(value=0, max=400), HTML(value='')))"
      ]
     },
     "metadata": {},
     "output_type": "display_data"
    },
    {
     "name": "stdout",
     "output_type": "stream",
     "text": [
      "\n"
     ]
    },
    {
     "data": {
      "application/vnd.jupyter.widget-view+json": {
       "model_id": "7e30f5bdbe594fdb97d1983c0ee9c1cc",
       "version_major": 2,
       "version_minor": 0
      },
      "text/plain": [
       "HBox(children=(IntProgress(value=0, max=400), HTML(value='')))"
      ]
     },
     "metadata": {},
     "output_type": "display_data"
    },
    {
     "name": "stdout",
     "output_type": "stream",
     "text": [
      "\n"
     ]
    },
    {
     "data": {
      "application/vnd.jupyter.widget-view+json": {
       "model_id": "bb0440c671f046d9984680a08ca91c58",
       "version_major": 2,
       "version_minor": 0
      },
      "text/plain": [
       "HBox(children=(IntProgress(value=0, max=400), HTML(value='')))"
      ]
     },
     "metadata": {},
     "output_type": "display_data"
    },
    {
     "name": "stdout",
     "output_type": "stream",
     "text": [
      "\n"
     ]
    },
    {
     "data": {
      "application/vnd.jupyter.widget-view+json": {
       "model_id": "a7f5e84bd2934262abe9721ae81fe68c",
       "version_major": 2,
       "version_minor": 0
      },
      "text/plain": [
       "HBox(children=(IntProgress(value=0, max=400), HTML(value='')))"
      ]
     },
     "metadata": {},
     "output_type": "display_data"
    },
    {
     "name": "stdout",
     "output_type": "stream",
     "text": [
      "\n",
      "TOTAL TIME: 594.0952914380032\n"
     ]
    }
   ],
   "source": [
    "start = timeit.default_timer()\n",
    "max_iterations = 400\n",
    "nbrs = f_nbrs(n)\n",
    "result1 = gradient_descent(lambda j: pseudolikelihood_gradient_descent(j, spins, nbrs, classes_p, temp=t1),\n",
    "                          lambda j: jacobian_pseudo(j, spins, nbrs, classes_j, temp=t1),\n",
    "                          np.random.uniform(-1, 1, size=(n,2)), j1, max_iter=max_iterations)\n",
    "result2 = gradient_descent(lambda j: pseudolikelihood_gradient_descent(j, spins, nbrs, classes_p, temp=t1),\n",
    "                          lambda j: jacobian_pseudo(j, spins, nbrs, classes_j, temp=t1),\n",
    "                          np.random.uniform(-1, 1, size=(n,2)), j1, max_iter=max_iterations)\n",
    "result3 = gradient_descent(lambda j: pseudolikelihood_gradient_descent(j, spins, nbrs, classes_p, temp=t1),\n",
    "                          lambda j: jacobian_pseudo(j, spins, nbrs, classes_j, temp=t1),\n",
    "                          np.random.uniform(-1, 1, size=(n,2)), j1, max_iter=max_iterations)\n",
    "result4 = gradient_descent(lambda j: pseudolikelihood_gradient_descent(j, spins, nbrs, classes_p, temp=t1),\n",
    "                          lambda j: jacobian_pseudo(j, spins, nbrs, classes_j, temp=t1),\n",
    "                          np.random.uniform(-1, 1, size=(n,2)), j1, max_iter=max_iterations)\n",
    "result5 = gradient_descent(lambda j: pseudolikelihood_gradient_descent(j, spins, nbrs, classes_p, temp=t1),\n",
    "                          lambda j: jacobian_pseudo(j, spins, nbrs, classes_j, temp=t1),\n",
    "                          np.random.uniform(-1, 1, size=(n,2)), j1, max_iter=max_iterations)\n",
    "result6 = gradient_descent(lambda j: pseudolikelihood_gradient_descent(j, spins, nbrs, classes_p, temp=t1),\n",
    "                          lambda j: jacobian_pseudo(j, spins, nbrs, classes_j, temp=t1),\n",
    "                          np.random.uniform(-1, 1, size=(n,2)), j1, max_iter=max_iterations)\n",
    "result7 = gradient_descent(lambda j: pseudolikelihood_gradient_descent(j, spins, nbrs, classes_p, temp=t1),\n",
    "                          lambda j: jacobian_pseudo(j, spins, nbrs, classes_j, temp=t1),\n",
    "                          np.random.uniform(-1, 1, size=(n,2)), j1, max_iter=max_iterations)\n",
    "result8 = gradient_descent(lambda j: pseudolikelihood_gradient_descent(j, spins, nbrs, classes_p, temp=t1),\n",
    "                          lambda j: jacobian_pseudo(j, spins, nbrs, classes_j, temp=t1),\n",
    "                          np.random.uniform(-1, 1, size=(n,2)), j1, max_iter=max_iterations)\n",
    "result9 = gradient_descent(lambda j: pseudolikelihood_gradient_descent(j, spins, nbrs, classes_p, temp=t1),\n",
    "                          lambda j: jacobian_pseudo(j, spins, nbrs, classes_j, temp=t1),\n",
    "                          np.random.uniform(-1, 1, size=(n,2)), j1, max_iter=max_iterations)\n",
    "result10 = gradient_descent(lambda j: pseudolikelihood_gradient_descent(j, spins, nbrs, classes_p, temp=t1),\n",
    "                          lambda j: jacobian_pseudo(j, spins, nbrs, classes_j, temp=t1),\n",
    "                          np.random.uniform(-1, 1, size=(n,2)), j1, max_iter=max_iterations)\n",
    "print('TOTAL TIME:', timeit.default_timer() - start)"
   ]
  },
  {
   "cell_type": "code",
   "execution_count": 222,
   "metadata": {},
   "outputs": [
    {
     "name": "stdout",
     "output_type": "stream",
     "text": [
      "[[ 0.01311683 -0.0872472 ]\n",
      " [-0.36807428 -0.16634737]\n",
      " [ 0.03438413  0.01190779]\n",
      " [ 0.77427361  0.62258662]\n",
      " [ 0.36648532 -0.27747136]\n",
      " [ 0.5775862   0.17869851]\n",
      " [ 0.12473039 -0.6932955 ]\n",
      " [ 0.97501612 -0.85539352]\n",
      " [-0.60044573 -0.23354414]\n",
      " [-0.3885492  -0.74186407]\n",
      " [ 0.72077274  0.4265791 ]\n",
      " [-0.30503958  0.71486139]\n",
      " [-0.95898488 -0.97662174]\n",
      " [ 0.95664764 -0.6393557 ]\n",
      " [-0.17258492  0.92079349]\n",
      " [ 0.023476    0.27165717]]\n",
      "Error inicial: 1.3656465712926482\n",
      "Error final: 0.023886448177404245\n"
     ]
    }
   ],
   "source": [
    "print(result1[0])\n",
    "print('Error inicial: {}'.format(result1[2][0]))\n",
    "print('Error final: {}'.format(result1[2][-1]))\n"
   ]
  },
  {
   "cell_type": "code",
   "execution_count": 223,
   "metadata": {},
   "outputs": [],
   "source": [
    "#write_error_to_file('L4_T1_S1_exp/L4_T1_S1_error_m12500_t800_1.txt', result1[1])\n",
    "#write_arr_to_file('L4_T1_S1_exp/L4_T1_S1_j_m12500_t800_1.txt', flat_matrix(j1), flat_matrix(result1[0][1]))"
   ]
  },
  {
   "cell_type": "code",
   "execution_count": 224,
   "metadata": {},
   "outputs": [],
   "source": [
    "#write_error_to_file('L4_T1_S1_error_2.txt', result1[1])\n",
    "#write_error_to_file('L4_T1_S2_error_2.txt', result2[1])\n",
    "#write_error_to_file('L4_T1_S3_error_2.txt', result3[1])"
   ]
  },
  {
   "cell_type": "code",
   "execution_count": 23,
   "metadata": {},
   "outputs": [],
   "source": [
    "from matplotlib import rc\n",
    "import matplotlib\n",
    "from matplotlib.ticker import (MultipleLocator, FormatStrFormatter,\n",
    "                               AutoMinorLocator)\n",
    "rc('font',**{'family':'sans-serif','sans-serif':['Helvetica']})\n",
    "## for Palatino and other serif fonts use:\n",
    "#rc('font',**{'family':'serif','serif':['Palatino']})\n",
    "rc('text', usetex=True)\n",
    "\n",
    "matplotlib.rcParams['mathtext.fontset'] = 'stix'\n",
    "matplotlib.rcParams['font.family'] = 'STIXGeneral'\n",
    "plt.rcParams[\"mathtext.fontset\"] = \"cm\""
   ]
  },
  {
   "cell_type": "code",
   "execution_count": 227,
   "metadata": {
    "scrolled": false
   },
   "outputs": [
    {
     "data": {
      "image/png": "[encoded data removed]",
      "text/plain": [
       "<Figure size 1008x720 with 1 Axes>"
      ]
     },
     "metadata": {
      "needs_background": "light"
     },
     "output_type": "display_data"
    }
   ],
   "source": [
    "x = np.arange(len(result1[2]))\n",
    "wl=2\n",
    "color1, color2, color3 = '#bb0000', '#00bb00', '#0000bb'\n",
    "plt.figure(figsize = (14, 10))\n",
    "ax = plt.axes()\n",
    "plt.title(r'L=4, $\\beta_1$, $M=25000$', fontsize=45, y=1.005)\n",
    "plt.xlabel(r'Iterations', rotation=0, fontsize=45)\n",
    "plt.ylabel(r'$\\gamma$', rotation=0, fontsize=45)\n",
    "ax.xaxis.set_label_coords(0.5, -0.1)\n",
    "ax.yaxis.set_label_coords(-0.15, 0.5)\n",
    "#plt.plot(x, result1[2], color=color1)\n",
    "#plt.plot(x, result2[2], color=color1)\n",
    "#plt.plot(x, result3[2], color=color1)\n",
    "#plt.plot(x, result4[2], color=color1)\n",
    "#plt.plot(x, result5[2], color=color1)\n",
    "#plt.plot(x, result6[2], color=color1)\n",
    "#plt.plot(x, result7[2], color=color1)\n",
    "#plt.plot(x, result8[2], color=color1)\n",
    "#plt.plot(x, result9[2], color=color1)\n",
    "#plt.plot(x, result10[2], color=color1)\n",
    "avg = np.mean(np.vstack((result1[2],result2[2],result3[2],result4[2],result5[2],result6[2],\n",
    "                         result7[2],result8[2],result9[2],result10[2])), axis=0)\n",
    "std = np.std(np.vstack((result1[2],result2[2],result3[2],result4[2],result5[2],result6[2],\n",
    "                        result7[2],result8[2],result9[2],result10[2])), axis=0, ddof=1)\n",
    "#write_error_to_file('L4_T1_S1_error_m12500_t200_avg.txt', avg)\n",
    "#write_error_to_file('L4_T1_S1_error_m12500_t200_std.txt', std)\n",
    "plt.fill_between(x, avg - std, avg + std, color=color1, alpha=0.2)\n",
    "plt.plot(x, avg, color=color1, linewidth=wl)\n",
    "#plt.plot((np.max(x)*0.9, np.max(x)*0.9), (1e-2,2), color='#55ff00', label='y=x', zorder=1, linewidth=3, alpha=1)\n",
    "#plt.plot(x, result2[1], color='#00bb00')\n",
    "#plt.plot(x, result3[1], color='#0000bb')\n",
    "plt.yscale('log')\n",
    "plt.ylim(1e-2, 2)\n",
    "plt.xlim(0, np.max(x))\n",
    "\n",
    "# Make a plot with major ticks that are multiples of 20 and minor ticks that\n",
    "# are multiples of 5.  Label major ticks with '%d' formatting but don't label\n",
    "# minor ticks.\n",
    "ax.xaxis.set_major_locator(MultipleLocator(50))\n",
    "ax.xaxis.set_major_formatter(FormatStrFormatter('%d'))\n",
    "# For the minor ticks, use no labels; default NullFormatter.\n",
    "ax.xaxis.set_minor_locator(MultipleLocator(10))\n",
    "ax.yaxis.set_major_formatter(FormatStrFormatter('%.2f'))\n",
    "\n",
    "plt.xticks(fontsize=35)\n",
    "plt.yticks(fontsize=35)\n",
    "ax.tick_params(which='both', width=4)\n",
    "ax.tick_params(which='major', length=12)\n",
    "ax.tick_params(which='minor', length=7)\n",
    "for axis in ['top','bottom','left','right']:\n",
    "    ax.spines[axis].set_linewidth(4)\n",
    "#plt.legend()\n",
    "#plt.setp( ax.xaxis.get_majorticklabels(), rotation=-45, ha=\"left\", rotation_mode=\"anchor\")\n",
    "plt.grid(True, which='both')\n",
    "plt.savefig('error_L4_T1_M25000_t400.png', bbox_inches = 'tight')\n",
    "plt.show()\n"
   ]
  },
  {
   "cell_type": "code",
   "execution_count": 228,
   "metadata": {},
   "outputs": [],
   "source": [
    "write_error_to_file('L4_T1_S1_error_m25000_t400_avg.txt', avg)\n",
    "write_error_to_file('L4_T1_S1_error_m25000_t400_std.txt', std)"
   ]
  },
  {
   "cell_type": "code",
   "execution_count": 115,
   "metadata": {},
   "outputs": [
    {
     "ename": "ValueError",
     "evalue": "operands could not be broadcast together with shapes (2,) (32,) ",
     "output_type": "error",
     "traceback": [
      "\u001b[1;31m---------------------------------------------------------------------------\u001b[0m",
      "\u001b[1;31mValueError\u001b[0m                                Traceback (most recent call last)",
      "\u001b[1;32m<ipython-input-115-eac722f6d27e>\u001b[0m in \u001b[0;36m<module>\u001b[1;34m()\u001b[0m\n\u001b[1;32m----> 1\u001b[1;33m \u001b[0mprint\u001b[0m\u001b[1;33m(\u001b[0m\u001b[1;34m'L4_T1_S1_error:{}'\u001b[0m\u001b[1;33m.\u001b[0m\u001b[0mformat\u001b[0m\u001b[1;33m(\u001b[0m\u001b[0mmean_error\u001b[0m\u001b[1;33m(\u001b[0m\u001b[0mh\u001b[0m\u001b[1;33m,\u001b[0m \u001b[0mresult1\u001b[0m\u001b[1;33m[\u001b[0m\u001b[1;36m0\u001b[0m\u001b[1;33m]\u001b[0m\u001b[1;33m[\u001b[0m\u001b[1;36m1\u001b[0m\u001b[1;33m]\u001b[0m\u001b[1;33m,\u001b[0m \u001b[0mh\u001b[0m\u001b[1;33m,\u001b[0m \u001b[0mj1\u001b[0m\u001b[1;33m)\u001b[0m\u001b[1;33m)\u001b[0m\u001b[1;33m)\u001b[0m\u001b[1;33m\u001b[0m\u001b[0m\n\u001b[0m\u001b[0;32m      2\u001b[0m \u001b[1;31m#print('L4_T1_S2_error:{}'.format(mean_error(h, result2[0][1], h, j2)))\u001b[0m\u001b[1;33m\u001b[0m\u001b[1;33m\u001b[0m\u001b[0m\n\u001b[0;32m      3\u001b[0m \u001b[1;31m#print('L4_T1_S3_error:{}'.format(mean_error(h, result3[0][1], h, j3)))\u001b[0m\u001b[1;33m\u001b[0m\u001b[1;33m\u001b[0m\u001b[0m\n",
      "\u001b[1;32m<ipython-input-9-5e73e7275d0a>\u001b[0m in \u001b[0;36mmean_error\u001b[1;34m(h, j, hp, jp, magnetic_field)\u001b[0m\n\u001b[0;32m      6\u001b[0m \u001b[1;33m\u001b[0m\u001b[0m\n\u001b[0;32m      7\u001b[0m \u001b[1;32mdef\u001b[0m \u001b[0mmean_error\u001b[0m\u001b[1;33m(\u001b[0m\u001b[0mh\u001b[0m\u001b[1;33m,\u001b[0m \u001b[0mj\u001b[0m\u001b[1;33m,\u001b[0m \u001b[0mhp\u001b[0m\u001b[1;33m,\u001b[0m \u001b[0mjp\u001b[0m\u001b[1;33m,\u001b[0m \u001b[0mmagnetic_field\u001b[0m\u001b[1;33m=\u001b[0m\u001b[1;32mTrue\u001b[0m\u001b[1;33m)\u001b[0m\u001b[1;33m:\u001b[0m\u001b[1;33m\u001b[0m\u001b[0m\n\u001b[1;32m----> 8\u001b[1;33m     \u001b[0mnumerator\u001b[0m \u001b[1;33m=\u001b[0m \u001b[0mnp\u001b[0m\u001b[1;33m.\u001b[0m\u001b[0mlinalg\u001b[0m\u001b[1;33m.\u001b[0m\u001b[0mnorm\u001b[0m\u001b[1;33m(\u001b[0m\u001b[0mflat_matrix\u001b[0m\u001b[1;33m(\u001b[0m\u001b[0mj\u001b[0m\u001b[1;33m)\u001b[0m \u001b[1;33m-\u001b[0m \u001b[0mflat_matrix\u001b[0m\u001b[1;33m(\u001b[0m\u001b[0mjp\u001b[0m\u001b[1;33m)\u001b[0m\u001b[1;33m)\u001b[0m\u001b[1;33m**\u001b[0m\u001b[1;36m2\u001b[0m \u001b[1;33m+\u001b[0m \u001b[0mnp\u001b[0m\u001b[1;33m.\u001b[0m\u001b[0mlinalg\u001b[0m\u001b[1;33m.\u001b[0m\u001b[0mnorm\u001b[0m\u001b[1;33m(\u001b[0m\u001b[0mh\u001b[0m\u001b[1;33m-\u001b[0m\u001b[0mhp\u001b[0m\u001b[1;33m)\u001b[0m\u001b[1;33m**\u001b[0m\u001b[1;36m2\u001b[0m\u001b[1;33m\u001b[0m\u001b[0m\n\u001b[0m\u001b[0;32m      9\u001b[0m     \u001b[0mdenominator\u001b[0m \u001b[1;33m=\u001b[0m \u001b[0mnp\u001b[0m\u001b[1;33m.\u001b[0m\u001b[0mlinalg\u001b[0m\u001b[1;33m.\u001b[0m\u001b[0mnorm\u001b[0m\u001b[1;33m(\u001b[0m\u001b[0mflat_matrix\u001b[0m\u001b[1;33m(\u001b[0m\u001b[0mjp\u001b[0m\u001b[1;33m)\u001b[0m\u001b[1;33m)\u001b[0m\u001b[1;33m**\u001b[0m\u001b[1;36m2\u001b[0m \u001b[1;33m+\u001b[0m \u001b[0mnp\u001b[0m\u001b[1;33m.\u001b[0m\u001b[0mlinalg\u001b[0m\u001b[1;33m.\u001b[0m\u001b[0mnorm\u001b[0m\u001b[1;33m(\u001b[0m\u001b[0mhp\u001b[0m\u001b[1;33m)\u001b[0m\u001b[1;33m**\u001b[0m\u001b[1;36m2\u001b[0m\u001b[1;33m\u001b[0m\u001b[0m\n\u001b[0;32m     10\u001b[0m     \u001b[1;32mreturn\u001b[0m \u001b[0mnp\u001b[0m\u001b[1;33m.\u001b[0m\u001b[0msqrt\u001b[0m\u001b[1;33m(\u001b[0m\u001b[0mnumerator\u001b[0m\u001b[1;33m/\u001b[0m\u001b[0mdenominator\u001b[0m\u001b[1;33m)\u001b[0m\u001b[1;33m\u001b[0m\u001b[0m\n",
      "\u001b[1;31mValueError\u001b[0m: operands could not be broadcast together with shapes (2,) (32,) "
     ]
    }
   ],
   "source": [
    "print('L4_T1_S1_error:{}'.format(mean_error(h, result1[0][1], h, j1)))\n",
    "#print('L4_T1_S2_error:{}'.format(mean_error(h, result2[0][1], h, j2)))\n",
    "#print('L4_T1_S3_error:{}'.format(mean_error(h, result3[0][1], h, j3)))"
   ]
  },
  {
   "cell_type": "code",
   "execution_count": null,
   "metadata": {},
   "outputs": [],
   "source": [
    "plt.figure(figsize = (10, 10))\n",
    "ax = plt.axes()\n",
    "plt.title('L=4, $T=T_1$', fontsize=45, y=1.005)\n",
    "plt.xlabel('$J^{0}_{ij}$', rotation=0, fontsize=45)\n",
    "plt.ylabel('$J_{ij}$', rotation=0, fontsize=45)\n",
    "ax.xaxis.set_label_coords(0.5, -0.1)\n",
    "ax.yaxis.set_label_coords(-0.1, 0.5)\n",
    "plt.plot((-1, 1), (-1,1), color='#55ff00', label='y=x', zorder=1, linewidth=5, alpha=1)\n",
    "plt.scatter(flat_matrix(j1), flat_matrix(result1[0][1]), color='#ee2222', label='Sample 1', zorder=6, marker=\"o\", s=300)\n",
    "#plt.scatter(flat_matrix(j2), flat_matrix(result2[0][1]), color='#E8B201', label='Sample 2', zorder=5, marker=\"v\", s=300)\n",
    "#plt.scatter(flat_matrix(j3), flat_matrix(result3[0][1]), color='#2222ee', label='Sample 3', zorder=4, marker=\"^\", s=300)\n",
    "#plt.scatter(flat_sym_matrix(j8), flat_sym_matrix(result8[1]), color='#009900', label='N=8', zorder=5, marker=\"v\")\n",
    "#plt.scatter(flat_sym_matrix(j12), flat_sym_matrix(result12[1]), color='#2222ee', label='N=12', zorder=4, marker=\"^\")\n",
    "#plt.scatter(flat_sym_matrix(j16), flat_sym_matrix(result16[1]), color='#E8B201', label='N=16', zorder=3, marker=\"s\")\n",
    "#plt.scatter(flat_sym_matrix(j20), flat_sym_matrix(result20[1]), color='#B300FF', label='N=20', zorder=2, marker=\"D\")\n",
    "\n",
    "plt.ylim(-1, 1)\n",
    "plt.xlim(-1, 1)\n",
    "\n",
    "# Make a plot with major ticks that are multiples of 20 and minor ticks that\n",
    "# are multiples of 5.  Label major ticks with '%d' formatting but don't label\n",
    "# minor ticks.\n",
    "ax.xaxis.set_major_locator(MultipleLocator(1))\n",
    "ax.xaxis.set_major_formatter(FormatStrFormatter('%d'))\n",
    "# For the minor ticks, use no labels; default NullFormatter.\n",
    "ax.xaxis.set_minor_locator(MultipleLocator(0.2))\n",
    "# Make a plot with major ticks that are multiples of 20 and minor ticks that\n",
    "# are multiples of 5.  Label major ticks with '%d' formatting but don't label\n",
    "# minor ticks.\n",
    "ax.yaxis.set_major_locator(MultipleLocator(1))\n",
    "ax.yaxis.set_major_formatter(FormatStrFormatter('%d'))\n",
    "# For the minor ticks, use no labels; default NullFormatter.\n",
    "ax.yaxis.set_minor_locator(MultipleLocator(0.2))\n",
    "plt.xticks(fontsize=35)\n",
    "plt.yticks(fontsize=35)\n",
    "ax.tick_params(which='both', width=4)\n",
    "ax.tick_params(which='major', length=12)\n",
    "ax.tick_params(which='minor', length=7)\n",
    "for axis in ['top','bottom','left','right']:\n",
    "    ax.spines[axis].set_linewidth(4)\n",
    "#plt.grid()\n",
    "#plt.legend()\n",
    "#plt.savefig('L4_T1.png', bbox_inches = 'tight')\n",
    "plt.show()\n",
    "\n"
   ]
  },
  {
   "cell_type": "code",
   "execution_count": null,
   "metadata": {},
   "outputs": [],
   "source": [
    "#write_arr_to_file('M25000_L4_T1_S1_j.txt', flat_matrix(j1), flat_matrix(result1[0][1]))\n",
    "#write_arr_to_file('M25000_L4_T1_S2_j.txt', flat_matrix(j2), flat_matrix(result2[0][1]))\n",
    "#write_arr_to_file('M25000_L4_T1_S3_j.txt', flat_matrix(j3), flat_matrix(result3[0][1]))"
   ]
  },
  {
   "cell_type": "code",
   "execution_count": null,
   "metadata": {},
   "outputs": [],
   "source": [
    "from skimage import io, exposure, color, img_as_float, img_as_int, img_as_uint, img_as_ubyte\n",
    "image = io.imread('test2.png')\n",
    "def two_images(img1, img2, savename):\n",
    "    io.imsave(savename, np.hstack((img1, img2)))\n",
    "def three_images(img1, img2, img3, savename):\n",
    "    io.imsave(savename, np.vstack((img1, img2, img3)))\n",
    "two_images(image, image, 'test_joined.png')\n",
    "image = io.imread('test_joined.png')\n",
    "three_images(image, image, image, 'test_joined_final.png')"
   ]
  },
  {
   "cell_type": "code",
   "execution_count": null,
   "metadata": {},
   "outputs": [],
   "source": []
  }
 ],
 "metadata": {
  "kernelspec": {
   "display_name": "Python 3",
   "language": "python",
   "name": "python3"
  },
  "language_info": {
   "codemirror_mode": {
    "name": "ipython",
    "version": 3
   },
   "file_extension": ".py",
   "mimetype": "text/x-python",
   "name": "python",
   "nbconvert_exporter": "python",
   "pygments_lexer": "ipython3",
   "version": "3.7.0"
  }
 },
 "nbformat": 4,
 "nbformat_minor": 2
}
