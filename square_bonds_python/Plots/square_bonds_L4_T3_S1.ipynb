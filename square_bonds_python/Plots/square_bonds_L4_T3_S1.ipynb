{
 "cells": [
  {
   "cell_type": "code",
   "execution_count": 1,
   "metadata": {},
   "outputs": [],
   "source": [
    "# imports\n",
    "import numpy as np\n",
    "import random\n",
    "import math\n",
    "import timeit\n",
    "import matplotlib.pyplot as plt\n",
    "from tqdm import tqdm_notebook"
   ]
  },
  {
   "cell_type": "code",
   "execution_count": 2,
   "metadata": {},
   "outputs": [],
   "source": [
    "# Read data functions\n",
    "def string_to_spin(string):\n",
    "    \"\"\"\n",
    "    Convert string of 0 and 1 to a np array of spins (-1, 1):\n",
    "    0 -> -1\n",
    "    1 -> +1\n",
    "    :param string: String: original string.\n",
    "    :return: np.array: Spins.\n",
    "    \"\"\"\n",
    "    return (np.array(list(map(int, list(string)))) * 2 - 1)\n",
    "\n",
    "def read_configurations(name, n):\n",
    "    \"\"\"\n",
    "    Reads a file and returns a np array with the spin configuration.\n",
    "    :param name: String: Name of the file.\n",
    "    :param n: Int: Number of spins.\n",
    "    :return: np.array: Matrix of shape (Data_number, num_spins).\n",
    "    \"\"\"\n",
    "    spins = np.array([])\n",
    "    filepath = name\n",
    "    with open(filepath, 'r') as fp:\n",
    "        s = fp.readlines()  \n",
    "    spins = np.array([string_to_spin(e.rstrip()) for e in s]).flatten()\n",
    "    return np.reshape(spins, (int(len(spins)/n), n)).astype('int')\n",
    "\n",
    "def read_j_coef(name, n):\n",
    "    \"\"\"\n",
    "    Reads a file and returns a np array with the j coefficients.\n",
    "    :param name: String: Name of the file.\n",
    "    :param n: Int: Number of spins.\n",
    "    :return: np.array: Array of shape 2*n.\n",
    "    \"\"\"\n",
    "    j = np.zeros((n, 2))\n",
    "    filepath = name\n",
    "    with open(filepath) as fp:\n",
    "        for line in tqdm_notebook(fp.readlines()):\n",
    "            list_line = line.split()\n",
    "            if len(list_line) == 2:\n",
    "                el = list_line[-1]\n",
    "                list_line[-1] = el[0]\n",
    "                list_line.append(el[1:])\n",
    "            s = int(list_line[0])-1\n",
    "            d = int(list_line[1])-1\n",
    "            # list line té 3 llocs: numspin, (1 o 2) i el valor de J\n",
    "            j[s, d] = list_line[-1]\n",
    "    return j"
   ]
  },
  {
   "cell_type": "code",
   "execution_count": 3,
   "metadata": {},
   "outputs": [],
   "source": [
    "# get neighbours\n",
    "def get_spin_neighbours(i, l):\n",
    "    \"\"\"\n",
    "    From a spin i in a lxl grid, gives the neighbours of this spin.\n",
    "    :param i: Int: Position of the spin.\n",
    "    :param l: Int: Length of the square grid.\n",
    "    :return: np.array: Array containing the index of the neighbour spins.\n",
    "    \"\"\"\n",
    "    column = int(i % l)\n",
    "    row = int(i / l)\n",
    "    right = int(row * l + (column + 1)%l)\n",
    "    up = int(((row + 1)%l) * l + column)\n",
    "    left = int(row * l + (column - 1)%l)\n",
    "    down = int(((row - 1)%l) * l + column)\n",
    "    return np.array([right, up, left, down])\n",
    "\n",
    "def f_nbrs(n):\n",
    "    l = int(np.sqrt(n))\n",
    "    return np.array([get_spin_neighbours(i, l) for i in range(n)])"
   ]
  },
  {
   "cell_type": "code",
   "execution_count": 4,
   "metadata": {},
   "outputs": [],
   "source": [
    "# Pseudolikelihood calculation\n",
    "def log_pseudolikelihood(data, nbrs, h, j, temp=1, recalculate = True, previous = 0, h_prev=None, j_prev=None, new_row = -1):\n",
    "    \"\"\"Sums the rows of the pseudolikelihood\"\"\"\n",
    "    m, n = data.shape\n",
    "    if recalculate:\n",
    "        output = 0\n",
    "        for i in range(n):\n",
    "            output += log_pseudolikelihood_row(data, h, j, temp, i, nbrs[i])\n",
    "        return -float(output)/m\n",
    "    else:\n",
    "        delta = 0\n",
    "        for r in new_row:\n",
    "            delta += float(log_pseudolikelihood_row(data, h_prev, j_prev, temp, r, nbrs[r]) - log_pseudolikelihood_row(data, h, j, temp, r, nbrs[r]))\n",
    "        return previous + delta/m\n",
    "        \n",
    "\n",
    "\n",
    "def log_pseudolikelihood_row(data, h, j, temp, i, nbr):\n",
    "    \"\"\"\n",
    "    Computes the pseudolikelihood for each row i.\n",
    "    \"\"\"\n",
    "    m, n = data.shape\n",
    "    output = 0\n",
    "    for mu in range(m):\n",
    "        output += math.log(1 + data[mu, i] * math.tanh(float(h[i])/temp + multiply_j_spin_neighbours(j, data[mu, :], i, nbr)/temp))\n",
    "    return output\n",
    "\n",
    "def multiply_j_spin_neighbours(j, spins, i, nbr):\n",
    "    n, d = j.shape\n",
    "    subsum = 0\n",
    "    for k in range(d):\n",
    "        subsum += spins[nbr[k]] * j[i, k] + spins[nbr[k + d]] * j[nbr[k + d], k] \n",
    "    return float(subsum)"
   ]
  },
  {
   "cell_type": "code",
   "execution_count": 5,
   "metadata": {},
   "outputs": [],
   "source": [
    "def hamiltonian(spins, h, j):\n",
    "    hamiltonian = 0\n",
    "    n, d = j.shape\n",
    "    l = int(np.sqrt(n))\n",
    "    for i in range(n):\n",
    "        subsum = 0\n",
    "        for k in range(d):\n",
    "            subsum += spins[get_spin_neighbours(i, l)[k]] * j[i, k]\n",
    "        hamiltonian += spins[i] * subsum\n",
    "    hamiltonian += np.dot(h, spins)\n",
    "    return -hamiltonian"
   ]
  },
  {
   "cell_type": "code",
   "execution_count": 6,
   "metadata": {},
   "outputs": [],
   "source": [
    "# Create random h and J of given dimension\n",
    "def get_random_h_j(n, d=2):\n",
    "    h = np.random.uniform(-1, 1, size=n)\n",
    "    j = np.random.uniform(-1, 1, size=(n,d))\n",
    "    return h, j\n",
    "\n",
    "def mean_error(h, j, hp, jp, magnetic_field=True):\n",
    "    n, = h.shape\n",
    "    numerator = np.linalg.norm(flat_matrix(j) - flat_matrix(jp))**2 + np.linalg.norm(h-hp)**2\n",
    "    denominator = np.linalg.norm(flat_matrix(jp))**2 + np.linalg.norm(hp)**2\n",
    "    return np.sqrt(numerator/denominator)\n",
    "\n",
    "\n",
    "def neighbour_uniform(s, delta=0.5):\n",
    "    lower = max(s - delta, -1.)\n",
    "    upper = min(s + delta, 1.)\n",
    "    return np.random.uniform(lower, upper)\n",
    "\n",
    "def random_change_h_j_row(h, j, nbrs, delta=0.5, magnetic_field=True):\n",
    "    if magnetic_field:\n",
    "        h_new = np.copy(h)\n",
    "        j_new = np.copy(j)\n",
    "        n, d = j_new.shape\n",
    "        column = np.random.randint(0, n)\n",
    "        row = np.random.randint(0, d+1)\n",
    "        if row == d:\n",
    "            # h must be changed\n",
    "            h_new[column] = neighbour_uniform(h_new[column], delta)\n",
    "            return h_new, j_new, (column,)\n",
    "        else:\n",
    "            # j must be changed\n",
    "            j_new[column, row] = neighbour_uniform(j_new[column, row], delta)\n",
    "            return h_new, j_new, (column, nbrs[column][row])\n",
    "    else:\n",
    "        h_new = np.zeros_like(h)\n",
    "        j_new = np.copy(j)\n",
    "        n, d = j_new.shape\n",
    "        column = np.random.randint(0, n)\n",
    "        row = np.random.randint(0, d)\n",
    "        # j must be changed\n",
    "        j_new[column, row] = neighbour_uniform(j_new[column, row], delta)\n",
    "        return h_new, j_new, (column, nbrs[column][row])\n",
    "    \n",
    "def energy(temp, func, func_new):\n",
    "    return math.exp(-(func_new - func) / temp)"
   ]
  },
  {
   "cell_type": "code",
   "execution_count": 7,
   "metadata": {},
   "outputs": [],
   "source": [
    "# Simulated annealing\n",
    "\n",
    "def simulated_algorithm_min_multi(data, hreal, jreal, real_temp=1, magnetic_field=True, values=None, mc_steps=800, temp_ini=1):\n",
    "    start = timeit.default_timer()\n",
    " \n",
    "    m, n = data.shape\n",
    "    if values is None:\n",
    "        h0, j0 = get_random_h_j(n)\n",
    "    else:\n",
    "        h0, j0 = values\n",
    "    print('Time values: ', timeit.default_timer() - start) \n",
    "    h_iter, j_iter = h0, j0\n",
    "    h_min, j_min = h0, j0\n",
    "    nbrs = f_nbrs(n)\n",
    "    print('Time nbrs: ', timeit.default_timer() - start) \n",
    "    func_iter = log_pseudolikelihood(data, nbrs, h_iter, j_iter, temp=real_temp)\n",
    "    print('Time log: ', timeit.default_timer() - start) \n",
    "    func_min = func_iter\n",
    "    rec = False\n",
    "    error = []\n",
    "    min_vals = []\n",
    "    max_num_iters = int(2*n*mc_steps)\n",
    "    print('Time: start', timeit.default_timer() - start) \n",
    "    for k in tqdm_notebook(range(max_num_iters), leave=True):\n",
    "        if k%200 == 0:\n",
    "            rec = True\n",
    "        error.append(mean_error(h_iter, j_iter, hreal, jreal, magnetic_field=magnetic_field))\n",
    "        min_vals.append(func_iter)\n",
    "        temp = temp_ini * (1. / (k + 1))\n",
    "        h_new, j_new, row = random_change_h_j_row(h_iter, j_iter, nbrs, delta=0.3, magnetic_field=magnetic_field)\n",
    "        func_new = log_pseudolikelihood(data, nbrs, h_new, j_new, temp=real_temp, recalculate=rec, previous=func_iter, h_prev=h_iter, j_prev=j_iter, new_row=row)\n",
    "        rec = False\n",
    "        if func_new < func_iter:\n",
    "            h_iter, j_iter = h_new, j_new\n",
    "            func_iter = func_new\n",
    "            if func_new < func_min:\n",
    "                h_min, j_min = h_new, j_new\n",
    "                func_min = func_new\n",
    "        elif random.random() < energy(temp, func_iter, func_new):\n",
    "            h_iter, j_iter = h_new, j_new\n",
    "            func_iter = func_new\n",
    "    #print(h_iter, j_iter, func_iter)\n",
    "    #print(h_min, j_min, func_min)\n",
    "    print('Time: end', timeit.default_timer() - start) \n",
    "    output_value = find_local_minimum_multi(data, nbrs, h_min, j_min, func_min, real_temp=real_temp, initial_delta=0.3, max_iter=int(max_num_iters/10), magnetic_field=magnetic_field)\n",
    "    return output_value, error, min_vals\n",
    "\n",
    "\n",
    "def find_local_minimum_multi(data, nbrs, h_ini, j_ini, func_ini, real_temp=1, max_iter=1000, initial_delta=0.5, magnetic_field=True):\n",
    "    h_min, j_min = h_ini, j_ini\n",
    "    func_min = func_ini\n",
    "    for k in tqdm_notebook(range(max_iter), leave=False):\n",
    "        delta = initial_delta * (max_iter - k) / max_iter\n",
    "        h_new, j_new, row = random_change_h_j_row(h_min, j_min, nbrs, delta=delta, magnetic_field=magnetic_field)\n",
    "        func_new = log_pseudolikelihood(data, nbrs, h_new, j_new, temp=real_temp, recalculate=False, previous=func_min, h_prev=h_min, j_prev=j_min, new_row=row)\n",
    "        if func_new < func_min:\n",
    "            h_min, j_min = h_new, j_new\n",
    "            func_min = func_new\n",
    "    return h_min, j_min, func_min"
   ]
  },
  {
   "cell_type": "code",
   "execution_count": 8,
   "metadata": {},
   "outputs": [],
   "source": [
    "def flat_matrix(a):\n",
    "    return a.flatten()"
   ]
  },
  {
   "cell_type": "code",
   "execution_count": 9,
   "metadata": {},
   "outputs": [],
   "source": [
    "def write_error_to_file(filename, error):\n",
    "    f = open(filename, \"w+\")\n",
    "    for e in error:\n",
    "        f.write(str(e)+\"\\n\")\n",
    "    f.close()\n",
    "def read_error_from_file(filename):\n",
    "    with open(filename, 'r') as fp:\n",
    "        s = fp.readlines()\n",
    "    return np.array([e.strip() for e in s], dtype='float')"
   ]
  },
  {
   "cell_type": "code",
   "execution_count": 10,
   "metadata": {},
   "outputs": [],
   "source": [
    "def write_arr_to_file(filename, arr1, arr2):\n",
    "    f = open(filename, \"w+\")\n",
    "    for e1, e2 in zip(arr1, arr2):\n",
    "        f.write(str(e1)+' '+str(e2)+\"\\n\")\n",
    "    f.close()\n",
    "def read_arr_from_file(filename):\n",
    "    arr1 = []\n",
    "    arr2 = []\n",
    "    with open(filename, 'r') as fp:\n",
    "        s = fp.readlines()\n",
    "    for e in s:\n",
    "        arr1.append(e.split()[0])\n",
    "        arr2.append(e.split()[1])\n",
    "\n",
    "    return np.array(arr1, dtype='float'), np.array(arr2, dtype='float')"
   ]
  },
  {
   "cell_type": "code",
   "execution_count": 11,
   "metadata": {
    "scrolled": false
   },
   "outputs": [
    {
     "data": {
      "application/vnd.jupyter.widget-view+json": {
       "model_id": "b0f90a23a6aa48708aaa6ff8ef521930",
       "version_major": 2,
       "version_minor": 0
      },
      "text/plain": [
       "HBox(children=(IntProgress(value=0, max=32), HTML(value='')))"
      ]
     },
     "metadata": {},
     "output_type": "display_data"
    },
    {
     "name": "stdout",
     "output_type": "stream",
     "text": [
      "\n",
      "(25000, 16)\n"
     ]
    }
   ],
   "source": [
    "size_sample = 25000\n",
    "max_iterations = 200\n",
    "n = 16\n",
    "t1, t2, t3 = 0.5, 1.08304286, 2.0\n",
    "j1 = read_j_coef('L4/sample1/bonds.dat', n)\n",
    "h = np.zeros(n)\n",
    "spins = read_configurations('L4/sample1/configurations_T3.dat', n)\n",
    "spins = spins[::4]# en el cas de n=16\n",
    "sample1 = spins[np.random.choice(spins.shape[0], size=size_sample, replace=False), :]\n",
    "print(sample1.shape)"
   ]
  },
  {
   "cell_type": "code",
   "execution_count": 12,
   "metadata": {},
   "outputs": [
    {
     "name": "stdout",
     "output_type": "stream",
     "text": [
      "Time values:  6.0407999853850924e-05\n",
      "Time nbrs:  0.0024485899998580862\n",
      "Time log:  13.775642013999914\n",
      "Time: start 13.778135176999967\n"
     ]
    },
    {
     "data": {
      "application/vnd.jupyter.widget-view+json": {
       "model_id": "af8431be6ccd428299aaf1991419df21",
       "version_major": 2,
       "version_minor": 0
      },
      "text/plain": [
       "HBox(children=(IntProgress(value=0, max=6400), HTML(value='')))"
      ]
     },
     "metadata": {},
     "output_type": "display_data"
    },
    {
     "name": "stdout",
     "output_type": "stream",
     "text": [
      "\n",
      "Time: end 18534.050987265\n"
     ]
    },
    {
     "data": {
      "application/vnd.jupyter.widget-view+json": {
       "model_id": "",
       "version_major": 2,
       "version_minor": 0
      },
      "text/plain": [
       "HBox(children=(IntProgress(value=0, max=640), HTML(value='')))"
      ]
     },
     "metadata": {},
     "output_type": "display_data"
    },
    {
     "name": "stdout",
     "output_type": "stream",
     "text": [
      "TOTAL TIME: 20346.28678647\n"
     ]
    }
   ],
   "source": [
    "start = timeit.default_timer()\n",
    "result1 = simulated_algorithm_min_multi(sample1, h, j1, real_temp=t3, mc_steps=max_iterations, magnetic_field=False)\n",
    "print('TOTAL TIME:', timeit.default_timer() - start)"
   ]
  },
  {
   "cell_type": "code",
   "execution_count": 13,
   "metadata": {},
   "outputs": [],
   "source": [
    "write_error_to_file('L4_T3_S1_error.txt', result1[1])\n",
    "write_arr_to_file('M25000_L4_T3_S1_j.txt', flat_matrix(j1), flat_matrix(result1[0][1]))"
   ]
  },
  {
   "cell_type": "code",
   "execution_count": 14,
   "metadata": {},
   "outputs": [],
   "source": [
    "#write_error_to_file('L4_T1_S1_error_2.txt', result1[1])\n",
    "#write_error_to_file('L4_T1_S2_error_2.txt', result2[1])\n",
    "#write_error_to_file('L4_T1_S3_error_2.txt', result3[1])"
   ]
  },
  {
   "cell_type": "code",
   "execution_count": 15,
   "metadata": {
    "scrolled": false
   },
   "outputs": [
    {
     "data": {
      "image/png": "[encoded data removed]",
      "text/plain": [
       "<Figure size 1152x720 with 1 Axes>"
      ]
     },
     "metadata": {
      "needs_background": "light"
     },
     "output_type": "display_data"
    }
   ],
   "source": [
    "x = np.arange(len(result1[1]))\n",
    "\n",
    "\n",
    "plt.figure(figsize = (16, 10))\n",
    "ax = plt.axes()\n",
    "#plt.title('Mean error vs iterations for M=25000 samples of N=4x4 spin configurations')\n",
    "plt.xlabel('Iterations')\n",
    "plt.ylabel('Mean error')\n",
    "plt.plot(x, result1[1], color='#bb0000')\n",
    "#plt.plot(x, result2[1], color='#00bb00')\n",
    "#plt.plot(x, result3[1], color='#0000bb')\n",
    "plt.yscale('log')\n",
    "plt.ylim(1e-2, 1)\n",
    "plt.xlim(0, np.max(x))\n",
    "plt.xticks(range(0, np.max(x) + 2, 1000))\n",
    "plt.setp( ax.xaxis.get_majorticklabels(), rotation=-40, ha=\"left\", rotation_mode=\"anchor\")\n",
    "plt.grid(True, which='both')\n",
    "#plt.savefig('error_L4_s3_T3_15000it_1.png')\n",
    "plt.show()"
   ]
  },
  {
   "cell_type": "code",
   "execution_count": 16,
   "metadata": {},
   "outputs": [
    {
     "name": "stdout",
     "output_type": "stream",
     "text": [
      "L4_T1_S1_error:0.024136083925803152\n"
     ]
    }
   ],
   "source": [
    "print('L4_T1_S1_error:{}'.format(mean_error(h, result1[0][1], h, j1)))\n",
    "#print('L4_T1_S2_error:{}'.format(mean_error(h, result2[0][1], h, j2)))\n",
    "#print('L4_T1_S3_error:{}'.format(mean_error(h, result3[0][1], h, j3)))"
   ]
  },
  {
   "cell_type": "code",
   "execution_count": null,
   "metadata": {},
   "outputs": [],
   "source": [
    "from matplotlib import rc\n",
    "import matplotlib\n",
    "from matplotlib.ticker import (MultipleLocator, FormatStrFormatter,\n",
    "                               AutoMinorLocator)\n",
    "rc('font',**{'family':'sans-serif','sans-serif':['Helvetica']})\n",
    "## for Palatino and other serif fonts use:\n",
    "#rc('font',**{'family':'serif','serif':['Palatino']})\n",
    "rc('text', usetex=True)\n",
    "\n",
    "matplotlib.rcParams['mathtext.fontset'] = 'stix'\n",
    "matplotlib.rcParams['font.family'] = 'STIXGeneral'"
   ]
  },
  {
   "cell_type": "code",
   "execution_count": null,
   "metadata": {},
   "outputs": [],
   "source": [
    "plt.figure(figsize = (10, 10))\n",
    "ax = plt.axes()\n",
    "plt.title('L=4, $T=T_1$', fontsize=45, y=1.005)\n",
    "plt.xlabel('$J^{0}_{ij}$', rotation=0, fontsize=45)\n",
    "plt.ylabel('$J_{ij}$', rotation=0, fontsize=45)\n",
    "ax.xaxis.set_label_coords(0.5, -0.1)\n",
    "ax.yaxis.set_label_coords(-0.1, 0.5)\n",
    "plt.plot((-1, 1), (-1,1), color='#55ff00', label='y=x', zorder=1, linewidth=5, alpha=1)\n",
    "plt.scatter(flat_matrix(j1), flat_matrix(result1[0][1]), color='#ee2222', label='Sample 1', zorder=6, marker=\"o\", s=300)\n",
    "#plt.scatter(flat_matrix(j2), flat_matrix(result2[0][1]), color='#E8B201', label='Sample 2', zorder=5, marker=\"v\", s=300)\n",
    "#plt.scatter(flat_matrix(j3), flat_matrix(result3[0][1]), color='#2222ee', label='Sample 3', zorder=4, marker=\"^\", s=300)\n",
    "#plt.scatter(flat_sym_matrix(j8), flat_sym_matrix(result8[1]), color='#009900', label='N=8', zorder=5, marker=\"v\")\n",
    "#plt.scatter(flat_sym_matrix(j12), flat_sym_matrix(result12[1]), color='#2222ee', label='N=12', zorder=4, marker=\"^\")\n",
    "#plt.scatter(flat_sym_matrix(j16), flat_sym_matrix(result16[1]), color='#E8B201', label='N=16', zorder=3, marker=\"s\")\n",
    "#plt.scatter(flat_sym_matrix(j20), flat_sym_matrix(result20[1]), color='#B300FF', label='N=20', zorder=2, marker=\"D\")\n",
    "\n",
    "plt.ylim(-1, 1)\n",
    "plt.xlim(-1, 1)\n",
    "\n",
    "# Make a plot with major ticks that are multiples of 20 and minor ticks that\n",
    "# are multiples of 5.  Label major ticks with '%d' formatting but don't label\n",
    "# minor ticks.\n",
    "ax.xaxis.set_major_locator(MultipleLocator(1))\n",
    "ax.xaxis.set_major_formatter(FormatStrFormatter('%d'))\n",
    "# For the minor ticks, use no labels; default NullFormatter.\n",
    "ax.xaxis.set_minor_locator(MultipleLocator(0.2))\n",
    "# Make a plot with major ticks that are multiples of 20 and minor ticks that\n",
    "# are multiples of 5.  Label major ticks with '%d' formatting but don't label\n",
    "# minor ticks.\n",
    "ax.yaxis.set_major_locator(MultipleLocator(1))\n",
    "ax.yaxis.set_major_formatter(FormatStrFormatter('%d'))\n",
    "# For the minor ticks, use no labels; default NullFormatter.\n",
    "ax.yaxis.set_minor_locator(MultipleLocator(0.2))\n",
    "plt.xticks(fontsize=35)\n",
    "plt.yticks(fontsize=35)\n",
    "ax.tick_params(which='both', width=4)\n",
    "ax.tick_params(which='major', length=12)\n",
    "ax.tick_params(which='minor', length=7)\n",
    "for axis in ['top','bottom','left','right']:\n",
    "    ax.spines[axis].set_linewidth(4)\n",
    "#plt.grid()\n",
    "#plt.legend()\n",
    "#plt.savefig('L4_T1.png', bbox_inches = 'tight')\n",
    "plt.show()\n",
    "\n"
   ]
  },
  {
   "cell_type": "code",
   "execution_count": null,
   "metadata": {},
   "outputs": [],
   "source": [
    "#write_arr_to_file('M25000_L4_T1_S1_j.txt', flat_matrix(j1), flat_matrix(result1[0][1]))\n",
    "#write_arr_to_file('M25000_L4_T1_S2_j.txt', flat_matrix(j2), flat_matrix(result2[0][1]))\n",
    "#write_arr_to_file('M25000_L4_T1_S3_j.txt', flat_matrix(j3), flat_matrix(result3[0][1]))"
   ]
  },
  {
   "cell_type": "code",
   "execution_count": null,
   "metadata": {},
   "outputs": [],
   "source": [
    "from skimage import io, exposure, color, img_as_float, img_as_int, img_as_uint, img_as_ubyte\n",
    "image = io.imread('test2.png')\n",
    "def two_images(img1, img2, savename):\n",
    "    io.imsave(savename, np.hstack((img1, img2)))\n",
    "def three_images(img1, img2, img3, savename):\n",
    "    io.imsave(savename, np.vstack((img1, img2, img3)))\n",
    "two_images(image, image, 'test_joined.png')\n",
    "image = io.imread('test_joined.png')\n",
    "three_images(image, image, image, 'test_joined_final.png')"
   ]
  },
  {
   "cell_type": "code",
   "execution_count": null,
   "metadata": {},
   "outputs": [],
   "source": []
  }
 ],
 "metadata": {
  "kernelspec": {
   "display_name": "Python 3",
   "language": "python",
   "name": "python3"
  },
  "language_info": {
   "codemirror_mode": {
    "name": "ipython",
    "version": 3
   },
   "file_extension": ".py",
   "mimetype": "text/x-python",
   "name": "python",
   "nbconvert_exporter": "python",
   "pygments_lexer": "ipython3",
   "version": "3.7.0"
  }
 },
 "nbformat": 4,
 "nbformat_minor": 2
}
