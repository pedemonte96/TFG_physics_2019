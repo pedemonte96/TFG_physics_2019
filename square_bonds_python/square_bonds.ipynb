{
 "cells": [
  {
   "cell_type": "code",
   "execution_count": 3,
   "metadata": {},
   "outputs": [],
   "source": [
    "# Simulated annealing C-style\n",
    "# imports\n",
    "import numpy as np\n",
    "import random\n",
    "import math\n",
    "import matplotlib.pyplot as plt\n",
    "from tqdm import tqdm_notebook"
   ]
  },
  {
   "cell_type": "code",
   "execution_count": 7,
   "metadata": {},
   "outputs": [],
   "source": [
    "# Read data functions\n",
    "def string_to_spin(string):\n",
    "    \"\"\"\n",
    "    Convert string of 0 and 1 to a np array of spins (-1, 1):\n",
    "    0 -> -1\n",
    "    1 -> +1\n",
    "    :param string: String: original string.\n",
    "    :return: np.array: Spins.\n",
    "    \"\"\"\n",
    "    return (np.array(list(map(int, list(string)))) * 2 - 1)\n",
    "\n",
    "def read_configurations(name, n):\n",
    "    \"\"\"\n",
    "    Reads a file and returns a np array with the spin configuration.\n",
    "    :param name: String: Name of the file.\n",
    "    :param n: Int: Number of spins.\n",
    "    :return: np.array: Matrix of shape (Data_number, num_spins).\n",
    "    \"\"\"\n",
    "    spins = np.array([])\n",
    "    filepath = name\n",
    "    with open(filepath) as fp:\n",
    "        for line in tqdm_notebook(fp.readlines()):\n",
    "            spins = np.append(spins, string_to_spin(line.rstrip()))\n",
    "    return np.reshape(spins, (int(len(spins)/n), n)).astype('int')\n",
    "\n",
    "def read_j_coef(name, n):\n",
    "    \"\"\"\n",
    "    Reads a file and returns a np array with the j coefficients.\n",
    "    :param name: String: Name of the file.\n",
    "    :param n: Int: Number of spins.\n",
    "    :return: np.array: Array of shape 2*n.\n",
    "    \"\"\"\n",
    "    j = np.zeros((n, 2))\n",
    "    filepath = name\n",
    "    with open(filepath) as fp:\n",
    "        for line in tqdm_notebook(fp.readlines()):\n",
    "            list_line = line.split()\n",
    "            if len(list_line) == 2:\n",
    "                el = list_line[-1]\n",
    "                list_line[-1] = el[0]\n",
    "                list_line.append(el[1:])\n",
    "            s = int(list_line[0])-1\n",
    "            d = int(list_line[1])-1\n",
    "            # list line té 3 llocs: numspin, (1 o 2) i el valor de J\n",
    "            j[s, d] = list_line[-1]\n",
    "    return j"
   ]
  },
  {
   "cell_type": "code",
   "execution_count": 15,
   "metadata": {},
   "outputs": [],
   "source": [
    "# get neighbours\n",
    "\n",
    "def get_spin_neighbours(i, l):\n",
    "    column = int(i % l)\n",
    "    row = int(i / l)\n",
    "    right = int(row * l + (column + 1)%l)\n",
    "    up = int(((row + 1)%l) * l + column)\n",
    "    left = int(row * l + (column - 1)%l)\n",
    "    down = int(((row - 1)%l) * l + column)\n",
    "    return np.array([right, up, left, down])\n",
    "\n",
    "\n",
    "# Compute array index, spins position\n",
    "def get_coupled_spins_from_index(i, l):\n",
    "    \"\"\"\n",
    "    Given an index of j and the length of the square, computes\n",
    "    the position of the paired spins.\n",
    "    :param i: Int: Index of the j array (0,...,2N-1).\n",
    "    :param l: Int: Length of the square (sqrt(N)).\n",
    "    :return: Int tuple: Spin number of coupled spins    \n",
    "    \"\"\"\n",
    "    e1 = int(i/2)\n",
    "    e2 = int(i%2)\n",
    "    sp1 = e1\n",
    "    f1 = int(sp1 / l)\n",
    "    c1 = int(sp1 % l)\n",
    "    if e2 == 0:\n",
    "        f2 = f1\n",
    "        c2 = int((c1 + 1) % l)\n",
    "    else:\n",
    "        f2 = int((f1 - 1) % l)\n",
    "        c2 = c1\n",
    "    sp2 = int(f2 * l + c2)\n",
    "    return sp1, sp2\n",
    "\n",
    "def get_array_position_from_spin_direction(s, c, l):\n",
    "    \"\"\"\n",
    "    Given a spin and a direction (up, down, right, left), computes the\n",
    "    index of the j array of the paired spins.\n",
    "    :param s: Int: Spin number.\n",
    "    :param c: Char: Direction of the coupling: 'u', 'd', 'r', 'l'.\n",
    "    :param l: Int: Length of the square (sqrt(N)).\n",
    "    :return: Int: Index of the j array.\n",
    "    \"\"\"\n",
    "    column = int(s % l)\n",
    "    row = int(s / l)\n",
    "    if c == 'r':\n",
    "        return 2*s\n",
    "    elif c == 'u':\n",
    "        return 2*s + 1\n",
    "    elif c == 'l':\n",
    "        column = int((column - 1) % l)\n",
    "        return 2 * int(row * l + column)\n",
    "    else:\n",
    "        row = int((row + 1)%l)\n",
    "        return 2 * int(row * l + column) + 1\n",
    "\n",
    "def get_spin_index_from_coupled(s, c, l):\n",
    "    \"\"\"\n",
    "    Given a spin and a direction (up, down, right, left), computes the\n",
    "    index of the neighbour spin.\n",
    "    :param s: Int: Spin number.\n",
    "    :param c: Char: Direction of the coupling: 'u', 'd', 'r', 'l'.\n",
    "    :param l: Int: Length of the square (sqrt(N)).\n",
    "    :return: Int: Index of the neightbour spin.\n",
    "    \"\"\"\n",
    "    column = int(s % l)\n",
    "    row = int(s / l)\n",
    "    if c == 'r':\n",
    "        column = int((column + 1) % l)\n",
    "    elif c == 'u':\n",
    "        row = int((row - 1)%l)\n",
    "    elif c == 'l':\n",
    "        column = int((column - 1) % l)\n",
    "    else:\n",
    "        row = int((row + 1)%l)\n",
    "    return int(row * l + column)"
   ]
  },
  {
   "cell_type": "code",
   "execution_count": 17,
   "metadata": {},
   "outputs": [
    {
     "name": "stdout",
     "output_type": "stream",
     "text": [
      "Node 0: [ 1  4  3 12]\n",
      "Node 1: [ 2  5  0 13]\n",
      "Node 2: [ 3  6  1 14]\n",
      "Node 3: [ 0  7  2 15]\n",
      "Node 4: [5 8 7 0]\n",
      "Node 5: [6 9 4 1]\n",
      "Node 6: [ 7 10  5  2]\n",
      "Node 7: [ 4 11  6  3]\n",
      "Node 8: [ 9 12 11  4]\n",
      "Node 9: [10 13  8  5]\n",
      "Node 10: [11 14  9  6]\n",
      "Node 11: [ 8 15 10  7]\n",
      "Node 12: [13  0 15  8]\n",
      "Node 13: [14  1 12  9]\n",
      "Node 14: [15  2 13 10]\n",
      "Node 15: [12  3 14 11]\n"
     ]
    }
   ],
   "source": [
    "for i in range(16):\n",
    "    print('Node {}: {}'.format(i, get_spin_neighbours(i, 4)))"
   ]
  },
  {
   "cell_type": "code",
   "execution_count": 44,
   "metadata": {},
   "outputs": [],
   "source": [
    "# Pseudolikelihood calculation\n",
    "def log_pseudolikelihood(data, h, j, recalculate = True, previous = 0, h_prev=None, j_prev=None, new_row = -1):\n",
    "    \"\"\"Sums the rows of the pseudolikelihood\"\"\"\n",
    "    m, n = data.shape\n",
    "    if recalculate:\n",
    "        output = 0\n",
    "        for i in range(n):\n",
    "            output += log_pseudolikelihood_row(data, h, j, i)\n",
    "        return -float(output)/m\n",
    "    else:\n",
    "        return previous + float(log_pseudolikelihood_row(data, h_prev, j_prev, new_row) - log_pseudolikelihood_row(data, h, j, new_row))/m\n",
    "        \n",
    "\n",
    "\n",
    "def log_pseudolikelihood_row(data, h, j, i):\n",
    "    \"\"\"\n",
    "    Computes the pseudolikelihood for each row\n",
    "    Assumes j[i,i] = 0 for all i\n",
    "    \"\"\"\n",
    "    m, n = data.shape\n",
    "    output = 0\n",
    "    for mu in range(m):\n",
    "        output += math.log(1 + data[mu, i] * math.tanh(h[i] + multiply_j_spin_neighbours(j, data[mu, :], i)))\n",
    "    return output\n",
    "\n",
    "def multiply_j_spin_neighbours(j, spins, i):\n",
    "    l = int(math.sqrt(len(j)/2))\n",
    "    out = 0\n",
    "    out += j[get_array_position_from_spin_direction(i, 'u', l)] * spins[get_spin_index_from_coupled(i, 'u', l)]\n",
    "    out += j[get_array_position_from_spin_direction(i, 'd', l)] * spins[get_spin_index_from_coupled(i, 'd', l)]\n",
    "    out += j[get_array_position_from_spin_direction(i, 'r', l)] * spins[get_spin_index_from_coupled(i, 'r', l)]\n",
    "    out += j[get_array_position_from_spin_direction(i, 'l', l)] * spins[get_spin_index_from_coupled(i, 'l', l)]\n",
    "    return out"
   ]
  },
  {
   "cell_type": "code",
   "execution_count": 47,
   "metadata": {},
   "outputs": [],
   "source": [
    "def hamiltonian(spin_configuration, h, j):\n",
    "    hamiltonian = 0\n",
    "    n, d = j.shape\n",
    "    l = int(np.sqrt(n))\n",
    "    for i in range(n):\n",
    "        subsum = 0\n",
    "        for k in range(d):\n",
    "            print('({},{}):{} * {} * {}'.format(i, get_spin_neighbours(i, l)[k], j[i,k], spin_configuration[i], spin_configuration[get_spin_neighbours(i, l)[k]]))\n",
    "            subsum += spin_configuration[get_spin_neighbours(i, l)[k]] * j[i, k]\n",
    "        hamiltonian += spin_configuration[i] * subsum\n",
    "    hamiltonian += np.dot(h, spin_configuration)\n",
    "    return -hamiltonian"
   ]
  },
  {
   "cell_type": "code",
   "execution_count": 48,
   "metadata": {
    "scrolled": false
   },
   "outputs": [
    {
     "data": {
      "application/vnd.jupyter.widget-view+json": {
       "model_id": "caa78345ec3444a89700513a634747ee",
       "version_major": 2,
       "version_minor": 0
      },
      "text/plain": [
       "HBox(children=(IntProgress(value=0, max=32), HTML(value='')))"
      ]
     },
     "metadata": {},
     "output_type": "display_data"
    },
    {
     "name": "stdout",
     "output_type": "stream",
     "text": [
      "\n"
     ]
    },
    {
     "data": {
      "application/vnd.jupyter.widget-view+json": {
       "model_id": "230c36cb30754576ae9a474087abd4e1",
       "version_major": 2,
       "version_minor": 0
      },
      "text/plain": [
       "HBox(children=(IntProgress(value=0, max=11), HTML(value='')))"
      ]
     },
     "metadata": {},
     "output_type": "display_data"
    },
    {
     "name": "stdout",
     "output_type": "stream",
     "text": [
      "\n",
      "[ 1 -1  1  1  1 -1 -1  1  1 -1  1  1 -1  1  1  1]\n",
      "(0,1):0.0466667 * 1 * -1\n",
      "(0,4):-0.0866667 * 1 * 1\n",
      "(1,2):-0.3733333 * -1 * 1\n",
      "(1,5):-0.1533333 * -1 * -1\n",
      "(2,3):0.0366667 * 1 * 1\n",
      "(2,6):0.0066667 * 1 * -1\n",
      "(3,0):0.7633334 * 1 * 1\n",
      "(3,7):0.61 * 1 * 1\n",
      "(4,5):0.3833334 * 1 * -1\n",
      "(4,8):-0.28 * 1 * 1\n",
      "(5,6):0.56 * -1 * -1\n",
      "(5,9):0.1633333 * -1 * -1\n",
      "(6,7):0.1266667 * -1 * 1\n",
      "(6,10):-0.71 * -1 * 1\n",
      "(7,4):0.9666667 * 1 * 1\n",
      "(7,11):-0.86 * 1 * 1\n",
      "(8,9):-0.59 * 1 * -1\n",
      "(8,12):-0.2366667 * 1 * -1\n",
      "(9,10):-0.4033333 * -1 * 1\n",
      "(9,13):-0.7566667 * -1 * 1\n",
      "(10,11):0.7133334 * 1 * 1\n",
      "(10,14):0.4233333 * 1 * 1\n",
      "(11,8):-0.2933334 * 1 * 1\n",
      "(11,15):0.72 * 1 * 1\n",
      "(12,13):-0.9666667 * -1 * 1\n",
      "(12,0):-0.9966667 * -1 * 1\n",
      "(13,14):0.9833333 * 1 * 1\n",
      "(13,1):-0.6666667 * 1 * -1\n",
      "(14,15):-0.17 * 1 * 1\n",
      "(14,2):0.9 * 1 * 1\n",
      "(15,12):0.03 * 1 * -1\n",
      "(15,3):0.27 * 1 * 1\n",
      "-10.3733333\n"
     ]
    }
   ],
   "source": [
    "j = read_j_coef('bonds.dat', 16)\n",
    "h = np.zeros(16)\n",
    "spins = read_configurations('test.txt', 16)\n",
    "#print(j)\n",
    "print(spins[0])\n",
    "\n",
    "print(hamiltonian(spins[0], h, j))"
   ]
  },
  {
   "cell_type": "code",
   "execution_count": null,
   "metadata": {},
   "outputs": [],
   "source": []
  }
 ],
 "metadata": {
  "kernelspec": {
   "display_name": "Python 3",
   "language": "python",
   "name": "python3"
  },
  "language_info": {
   "codemirror_mode": {
    "name": "ipython",
    "version": 3
   },
   "file_extension": ".py",
   "mimetype": "text/x-python",
   "name": "python",
   "nbconvert_exporter": "python",
   "pygments_lexer": "ipython3",
   "version": "3.7.0"
  }
 },
 "nbformat": 4,
 "nbformat_minor": 2
}
