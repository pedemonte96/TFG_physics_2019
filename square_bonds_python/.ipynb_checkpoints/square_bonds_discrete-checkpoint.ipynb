{
 "cells": [
  {
   "cell_type": "code",
   "execution_count": 6,
   "metadata": {},
   "outputs": [],
   "source": [
    "# imports\n",
    "import numpy as np\n",
    "import random\n",
    "import math\n",
    "import timeit\n",
    "import matplotlib.pyplot as plt\n",
    "from tqdm import tqdm_notebook\n",
    "from collections import Counter"
   ]
  },
  {
   "cell_type": "code",
   "execution_count": 7,
   "metadata": {},
   "outputs": [],
   "source": [
    "# Read data functions\n",
    "def string_to_spin(string):\n",
    "    \"\"\"\n",
    "    Convert string of 0 and 1 to a np array of spins (-1, 1):\n",
    "    0 -> -1\n",
    "    1 -> +1\n",
    "    :param string: String: original string.\n",
    "    :return: np.array: Spins.\n",
    "    \"\"\"\n",
    "    return (np.array(list(map(int, list(string)))) * 2 - 1)\n",
    "\n",
    "def read_configurations(name, n):\n",
    "    \"\"\"\n",
    "    Reads a file and returns a np array with the spin configuration.\n",
    "    :param name: String: Name of the file.\n",
    "    :param n: Int: Number of spins.\n",
    "    :return: np.array: Matrix of shape (Data_number, num_spins).\n",
    "    \"\"\"\n",
    "    spins = np.array([])\n",
    "    filepath = name\n",
    "    with open(filepath, 'r') as fp:\n",
    "        s = fp.readlines()  \n",
    "    spins = np.array([string_to_spin(e.rstrip()) for e in s]).flatten()\n",
    "    return np.reshape(spins, (int(len(spins)/n), n)).astype('int')\n",
    "\n",
    "def read_j_coef(name, n):\n",
    "    \"\"\"\n",
    "    Reads a file and returns a np array with the j coefficients.\n",
    "    :param name: String: Name of the file.\n",
    "    :param n: Int: Number of spins.\n",
    "    :return: np.array: Array of shape 2*n.\n",
    "    \"\"\"\n",
    "    j = np.zeros((n, 2))\n",
    "    filepath = name\n",
    "    with open(filepath) as fp:\n",
    "        for line in tqdm_notebook(fp.readlines()):\n",
    "            list_line = line.split()\n",
    "            if len(list_line) == 2:\n",
    "                el = list_line[-1]\n",
    "                list_line[-1] = el[0]\n",
    "                list_line.append(el[1:])\n",
    "            s = int(list_line[0])-1\n",
    "            d = int(list_line[1])-1\n",
    "            # list line té 3 llocs: numspin, (1 o 2) i el valor de J\n",
    "            j[s, d] = list_line[-1]\n",
    "    return j"
   ]
  },
  {
   "cell_type": "code",
   "execution_count": 8,
   "metadata": {},
   "outputs": [],
   "source": [
    "# get neighbours\n",
    "def get_spin_neighbours(i, l):\n",
    "    \"\"\"\n",
    "    From a spin i in a lxl grid, gives the neighbours of this spin.\n",
    "    :param i: Int: Position of the spin.\n",
    "    :param l: Int: Length of the square grid.\n",
    "    :return: np.array: Array containing the index of the neighbour spins.\n",
    "    \"\"\"\n",
    "    column = int(i % l)\n",
    "    row = int(i / l)\n",
    "    right = int(row * l + (column + 1)%l)\n",
    "    up = int(((row + 1)%l) * l + column)\n",
    "    left = int(row * l + (column - 1)%l)\n",
    "    down = int(((row - 1)%l) * l + column)\n",
    "    return np.array([right, up, left, down])\n",
    "\n",
    "def f_nbrs(n):\n",
    "    l = int(np.sqrt(n))\n",
    "    return np.array([get_spin_neighbours(i, l) for i in range(n)])"
   ]
  },
  {
   "cell_type": "code",
   "execution_count": 9,
   "metadata": {},
   "outputs": [],
   "source": [
    "def hamiltonian(spins, h, j):\n",
    "    hamiltonian = 0\n",
    "    n, d = j.shape\n",
    "    l = int(np.sqrt(n))\n",
    "    for i in range(n):\n",
    "        subsum = 0\n",
    "        for k in range(d):\n",
    "            subsum += spins[get_spin_neighbours(i, l)[k]] * j[i, k]\n",
    "        hamiltonian += spins[i] * subsum\n",
    "    hamiltonian += np.dot(h, spins)\n",
    "    return -hamiltonian"
   ]
  },
  {
   "cell_type": "code",
   "execution_count": 83,
   "metadata": {
    "scrolled": false
   },
   "outputs": [
    {
     "data": {
      "application/vnd.jupyter.widget-view+json": {
       "model_id": "e47fa891130a406fb09af0b763634940",
       "version_major": 2,
       "version_minor": 0
      },
      "text/plain": [
       "HBox(children=(IntProgress(value=0, max=32), HTML(value='')))"
      ]
     },
     "metadata": {},
     "output_type": "display_data"
    },
    {
     "name": "stdout",
     "output_type": "stream",
     "text": [
      "\n",
      "[[ 1  1  1  1  1 -1 -1  1  1 -1  1 -1  1  1 -1 -1]\n",
      " [ 1  1  1  1  1 -1 -1 -1 -1  1 -1  1 -1 -1  1  1]\n",
      " [-1 -1 -1 -1  1  1  1  1 -1 -1 -1 -1  1  1 -1 -1]\n",
      " [ 1  1  1  1  1 -1 -1  1 -1  1 -1 -1 -1 -1  1  1]\n",
      " [-1 -1 -1 -1  1  1  1  1  1 -1  1 -1  1  1 -1 -1]]\n",
      "-10.1000005\n",
      "-11.7000003\n",
      "-6.4066669\n",
      "-10.2866671\n",
      "-10.8466671\n",
      "-7.9933339\n",
      "-11.7000003\n",
      "-10.1200003\n",
      "-11.7000003\n",
      "-11.7000003\n",
      "(25000, 16)\n",
      "(25000, 16)\n"
     ]
    }
   ],
   "source": [
    "n = 16\n",
    "\n",
    "j = read_j_coef('L4/sample3/bonds.dat', n)\n",
    "h = np.zeros(n)\n",
    "spins = read_configurations('L4/sample3/configurations_T1.dat', n)\n",
    "spins = spins[::4]# en el cas de n=16\n",
    "#print(j)\n",
    "print(spins[:5])\n",
    "hams = np.array([round(hamiltonian(s, h, j), 8) for s in spins])\n",
    "for i in range(0, 10):\n",
    "    print(hams[i])\n",
    "print(spins.shape)\n",
    "sample = spins[np.random.choice(spins.shape[0], size=25000, replace=False), :]\n",
    "print(sample.shape)\n"
   ]
  },
  {
   "cell_type": "code",
   "execution_count": 84,
   "metadata": {},
   "outputs": [
    {
     "name": "stdout",
     "output_type": "stream",
     "text": [
      "1.0000000000000044\n"
     ]
    },
    {
     "data": {
      "application/vnd.jupyter.widget-view+json": {
       "model_id": "ef48792814244ee8b012cdbc9acdfac3",
       "version_major": 2,
       "version_minor": 0
      },
      "text/plain": [
       "HBox(children=(IntProgress(value=0, max=301), HTML(value='')))"
      ]
     },
     "metadata": {},
     "output_type": "display_data"
    },
    {
     "name": "stdout",
     "output_type": "stream",
     "text": [
      "\n",
      "1.999\n",
      "17729.80804343228\n"
     ]
    },
    {
     "data": {
      "image/png": "[encoded data removed]",
      "text/plain": [
       "<Figure size 432x288 with 1 Axes>"
      ]
     },
     "metadata": {
      "needs_background": "light"
     },
     "output_type": "display_data"
    }
   ],
   "source": [
    "counts = Counter(hams)\n",
    "dict(counts)\n",
    "prob = {}\n",
    "for k, v in dict(counts).items():\n",
    "    prob[k] = float(v)/25000\n",
    "print(sum(prob.values()))\n",
    "from sklearn.linear_model import LinearRegression\n",
    "r = float('inf')\n",
    "dif = 0.\n",
    "for t in tqdm_notebook(np.arange(1.999, 5, 0.01)):\n",
    "    sum_denom = 0\n",
    "    for k, v in prob.items():\n",
    "        sum_denom += np.exp(-k/t)\n",
    "    probab = {}\n",
    "    for k, v in prob.items():\n",
    "        probab[k] = np.exp(-k/t)/sum_denom\n",
    "    \n",
    "    fit_x = np.array(list(prob.values())).astype(float)\n",
    "    fit_y = np.array(list(probab.values())).astype(float)\n",
    "    r_sq = np.sum(abs(fit_x - fit_y))\n",
    "    if r_sq < r:\n",
    "        r = r_sq\n",
    "        dif = t\n",
    "print(dif)\n",
    "\n",
    "sum_denom = 0\n",
    "for k, v in prob.items():\n",
    "    sum_denom += np.exp(-k/dif)\n",
    "print(sum_denom)\n",
    "probab = {}\n",
    "for k, v in prob.items():\n",
    "    probab[k] = np.exp(-k/dif)/sum_denom\n",
    "\n",
    "    \n",
    "\n",
    "plt.scatter(prob.values(), probab.values(), c='green')\n",
    "plt.show()\n"
   ]
  },
  {
   "cell_type": "code",
   "execution_count": null,
   "metadata": {},
   "outputs": [],
   "source": [
    "values, base = np.histogram(hams, bins=1000000)\n",
    "cumulative = np.cumsum(values, dtype='float')\n",
    "x_data = base[:-1]\n",
    "y_data = cumulative/25000\n",
    "y_reg = np.log(1-y_data)\n",
    "plt.plot(x_data, values, c='green')\n",
    "plt.show()\n",
    "plt.plot(x_data, y_data, c='green')\n",
    "plt.show()\n",
    "plt.plot(x_data, y_reg, c='green')\n",
    "plt.show()"
   ]
  },
  {
   "cell_type": "code",
   "execution_count": 70,
   "metadata": {},
   "outputs": [
    {
     "name": "stdout",
     "output_type": "stream",
     "text": [
      "[0 0 1 0 1 1 0 1 1 0 1 0 1 0 1 1]\n",
      "[1 1 0 1 0 0 1 0 0 1 0 1 0 1 0 0]\n",
      "0\n"
     ]
    }
   ],
   "source": [
    "a = np.array([0,0,1,0,1,1,0,1,1,0,1,0,1,0,1,1], dtype='int')\n",
    "b = np.array([1,1,0,1,0,0,1,0,0,1,0,1,0,1,0,0], dtype='int')\n",
    "def inverse(a):\n",
    "    return np.abs(a-1)\n",
    "def changes(a, b):\n",
    "    return min(np.sum(np.abs(a-b)), np.sum(np.abs(a-inverse(b))))\n",
    "print(a)\n",
    "print(inverse(a))\n",
    "print(changes(a, b))"
   ]
  },
  {
   "cell_type": "code",
   "execution_count": 71,
   "metadata": {},
   "outputs": [
    {
     "name": "stdout",
     "output_type": "stream",
     "text": [
      "[0 0 0 0 0 1 1 1 1 0 1 0 1 1 0 0]\n"
     ]
    }
   ],
   "source": [
    "max_freq = np.flip(np.array([0,0,1,1,0,1,0,1,1,1,1,0,0,0,0,0], dtype='int'))\n",
    "print(max_freq)"
   ]
  },
  {
   "cell_type": "code",
   "execution_count": 77,
   "metadata": {},
   "outputs": [],
   "source": [
    "import operator as op\n",
    "from functools import reduce\n",
    "\n",
    "def ncr(n, r):\n",
    "    r = min(r, n-r)\n",
    "    numer = reduce(op.mul, range(n, n-r, -1), 1)\n",
    "    denom = reduce(op.mul, range(1, r+1), 1)\n",
    "    return numer / denom"
   ]
  },
  {
   "cell_type": "code",
   "execution_count": 78,
   "metadata": {},
   "outputs": [
    {
     "name": "stdout",
     "output_type": "stream",
     "text": [
      "120.0\n"
     ]
    }
   ],
   "source": [
    "print(ncr(16,2))"
   ]
  },
  {
   "cell_type": "code",
   "execution_count": 85,
   "metadata": {},
   "outputs": [
    {
     "name": "stdout",
     "output_type": "stream",
     "text": [
      "[(13792.0, 11180), (13808.0, 2068), (18975.0, 1759), (14944.0, 975), (14688.0, 836)]\n",
      "{0.0: 11180.0, 1.0: 327.5625, 3.0: 3.1732142857142858, 5.0: 0.3347069597069597, 2.0: 21.25, 4.0: 0.6, 7.0: 0.08881118881118881, 8.0: 0.014296814296814297, 6.0: 0.062187812187812185}\n",
      "[(0.0, 11180), (1.0, 5241), (2.0, 2550), (3.0, 1777), (5.0, 1462), (4.0, 1092), (7.0, 1016), (6.0, 498), (8.0, 184)]\n"
     ]
    },
    {
     "data": {
      "image/png": "[encoded data removed]",
      "text/plain": [
       "<Figure size 1152x720 with 1 Axes>"
      ]
     },
     "metadata": {
      "needs_background": "light"
     },
     "output_type": "display_data"
    }
   ],
   "source": [
    "\n",
    "hist_s = (sample+1)/2\n",
    "new = []\n",
    "new1 = []\n",
    "for i in hist_s:\n",
    "    sub = 0\n",
    "    sub2 = 0\n",
    "    for k in range(len(i)):\n",
    "        sub += i[k] * 2**k\n",
    "        sub2 += (1-i[k]) * 2**k\n",
    "    new1.append(min(sub, sub2))\n",
    "    new.append(changes(max_freq, i))\n",
    "print(Counter(new1).most_common(5))\n",
    "counts = dict(Counter(new))\n",
    "\n",
    "for k, v in counts.items():\n",
    "    counts[k] = counts[k]/ncr(16, int(k))\n",
    "print(counts)\n",
    "print(Counter(new).most_common(9))\n",
    "\n",
    "plt.figure(figsize = (16, 10))\n",
    "ax = plt.axes()\n",
    "plt.title('T3')\n",
    "plt.xlabel('States')\n",
    "plt.ylabel('Frequency')\n",
    "plt.bar(counts.keys(), counts.values())\n",
    "#plt.xlim(0, 34000)\n",
    "#plt.ylim(0, 9000)\n",
    "#plt.xticks(np.arange(-0.07, 0.071, 0.01))\n",
    "plt.grid()\n",
    "#plt.savefig('t3.png')\n",
    "plt.show()"
   ]
  },
  {
   "cell_type": "code",
   "execution_count": null,
   "metadata": {},
   "outputs": [],
   "source": []
  }
 ],
 "metadata": {
  "kernelspec": {
   "display_name": "Python 3",
   "language": "python",
   "name": "python3"
  },
  "language_info": {
   "codemirror_mode": {
    "name": "ipython",
    "version": 3
   },
   "file_extension": ".py",
   "mimetype": "text/x-python",
   "name": "python",
   "nbconvert_exporter": "python",
   "pygments_lexer": "ipython3",
   "version": "3.7.0"
  }
 },
 "nbformat": 4,
 "nbformat_minor": 2
}
