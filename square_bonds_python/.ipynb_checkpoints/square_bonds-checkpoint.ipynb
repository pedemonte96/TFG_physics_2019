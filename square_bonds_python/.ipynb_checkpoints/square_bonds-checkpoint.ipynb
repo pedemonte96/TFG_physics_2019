{
 "cells": [
  {
   "cell_type": "code",
   "execution_count": 1,
   "metadata": {},
   "outputs": [],
   "source": [
    "# Simulated annealing C-style\n",
    "# imports\n",
    "import numpy as np\n",
    "import random\n",
    "import math\n",
    "import matplotlib.pyplot as plt\n",
    "from tqdm import tqdm_notebook"
   ]
  },
  {
   "cell_type": "code",
   "execution_count": 2,
   "metadata": {},
   "outputs": [],
   "source": [
    "# Read data functions\n",
    "def string_to_spin(string):\n",
    "    \"\"\"\n",
    "    Convert string of 0 and 1 to a np array of spins (-1, 1):\n",
    "    0 -> -1\n",
    "    1 -> +1\n",
    "    :param string: String: original string.\n",
    "    :return: np.array: Spins.\n",
    "    \"\"\"\n",
    "    return (np.array(list(map(int, list(string)))) * 2 - 1)\n",
    "\n",
    "def read_configurations(name, n):\n",
    "    \"\"\"\n",
    "    Reads a file and returns a np array with the spin configuration.\n",
    "    :param name: String: Name of the file.\n",
    "    :param n: Int: Number of spins.\n",
    "    :return: np.array: Matrix of shape (Data_number, num_spins).\n",
    "    \"\"\"\n",
    "    spins = np.array([])\n",
    "    filepath = name\n",
    "    with open(filepath) as fp:\n",
    "        for line in tqdm_notebook(fp.readlines()):\n",
    "            spins = np.append(spins, string_to_spin(line.rstrip()))\n",
    "    return np.reshape(spins, (int(len(spins)/n), n)).astype('int')\n",
    "\n",
    "def read_j_coef(name, n):\n",
    "    \"\"\"\n",
    "    Reads a file and returns a np array with the j coefficients.\n",
    "    :param name: String: Name of the file.\n",
    "    :param n: Int: Number of spins.\n",
    "    :return: np.array: Array of shape 2*n.\n",
    "    \"\"\"\n",
    "    j = np.zeros((n, 2))\n",
    "    filepath = name\n",
    "    with open(filepath) as fp:\n",
    "        for line in tqdm_notebook(fp.readlines()):\n",
    "            list_line = line.split()\n",
    "            if len(list_line) == 2:\n",
    "                el = list_line[-1]\n",
    "                list_line[-1] = el[0]\n",
    "                list_line.append(el[1:])\n",
    "            s = int(list_line[0])-1\n",
    "            d = int(list_line[1])-1\n",
    "            # list line té 3 llocs: numspin, (1 o 2) i el valor de J\n",
    "            j[s, d] = list_line[-1]\n",
    "    return j"
   ]
  },
  {
   "cell_type": "code",
   "execution_count": 3,
   "metadata": {},
   "outputs": [],
   "source": [
    "# get neighbours\n",
    "\n",
    "def get_spin_neighbours(i, l):\n",
    "    column = int(i % l)\n",
    "    row = int(i / l)\n",
    "    right = int(row * l + (column + 1)%l)\n",
    "    up = int(((row + 1)%l) * l + column)\n",
    "    left = int(row * l + (column - 1)%l)\n",
    "    down = int(((row - 1)%l) * l + column)\n",
    "    return np.array([right, up, left, down])\n",
    "\n",
    "\n",
    "# Compute array index, spins position\n",
    "def get_coupled_spins_from_index(i, l):\n",
    "    \"\"\"\n",
    "    Given an index of j and the length of the square, computes\n",
    "    the position of the paired spins.\n",
    "    :param i: Int: Index of the j array (0,...,2N-1).\n",
    "    :param l: Int: Length of the square (sqrt(N)).\n",
    "    :return: Int tuple: Spin number of coupled spins    \n",
    "    \"\"\"\n",
    "    e1 = int(i/2)\n",
    "    e2 = int(i%2)\n",
    "    sp1 = e1\n",
    "    f1 = int(sp1 / l)\n",
    "    c1 = int(sp1 % l)\n",
    "    if e2 == 0:\n",
    "        f2 = f1\n",
    "        c2 = int((c1 + 1) % l)\n",
    "    else:\n",
    "        f2 = int((f1 - 1) % l)\n",
    "        c2 = c1\n",
    "    sp2 = int(f2 * l + c2)\n",
    "    return sp1, sp2\n",
    "\n",
    "def get_array_position_from_spin_direction(s, c, l):\n",
    "    \"\"\"\n",
    "    Given a spin and a direction (up, down, right, left), computes the\n",
    "    index of the j array of the paired spins.\n",
    "    :param s: Int: Spin number.\n",
    "    :param c: Char: Direction of the coupling: 'u', 'd', 'r', 'l'.\n",
    "    :param l: Int: Length of the square (sqrt(N)).\n",
    "    :return: Int: Index of the j array.\n",
    "    \"\"\"\n",
    "    column = int(s % l)\n",
    "    row = int(s / l)\n",
    "    if c == 'r':\n",
    "        return 2*s\n",
    "    elif c == 'u':\n",
    "        return 2*s + 1\n",
    "    elif c == 'l':\n",
    "        column = int((column - 1) % l)\n",
    "        return 2 * int(row * l + column)\n",
    "    else:\n",
    "        row = int((row + 1)%l)\n",
    "        return 2 * int(row * l + column) + 1\n",
    "\n",
    "def get_spin_index_from_coupled(s, c, l):\n",
    "    \"\"\"\n",
    "    Given a spin and a direction (up, down, right, left), computes the\n",
    "    index of the neighbour spin.\n",
    "    :param s: Int: Spin number.\n",
    "    :param c: Char: Direction of the coupling: 'u', 'd', 'r', 'l'.\n",
    "    :param l: Int: Length of the square (sqrt(N)).\n",
    "    :return: Int: Index of the neightbour spin.\n",
    "    \"\"\"\n",
    "    column = int(s % l)\n",
    "    row = int(s / l)\n",
    "    if c == 'r':\n",
    "        column = int((column + 1) % l)\n",
    "    elif c == 'u':\n",
    "        row = int((row - 1)%l)\n",
    "    elif c == 'l':\n",
    "        column = int((column - 1) % l)\n",
    "    else:\n",
    "        row = int((row + 1)%l)\n",
    "    return int(row * l + column)"
   ]
  },
  {
   "cell_type": "code",
   "execution_count": 4,
   "metadata": {},
   "outputs": [
    {
     "name": "stdout",
     "output_type": "stream",
     "text": [
      "Node 0: [ 1  4  3 12]\n",
      "Node 1: [ 2  5  0 13]\n",
      "Node 2: [ 3  6  1 14]\n",
      "Node 3: [ 0  7  2 15]\n",
      "Node 4: [5 8 7 0]\n",
      "Node 5: [6 9 4 1]\n",
      "Node 6: [ 7 10  5  2]\n",
      "Node 7: [ 4 11  6  3]\n",
      "Node 8: [ 9 12 11  4]\n",
      "Node 9: [10 13  8  5]\n",
      "Node 10: [11 14  9  6]\n",
      "Node 11: [ 8 15 10  7]\n",
      "Node 12: [13  0 15  8]\n",
      "Node 13: [14  1 12  9]\n",
      "Node 14: [15  2 13 10]\n",
      "Node 15: [12  3 14 11]\n"
     ]
    }
   ],
   "source": [
    "for i in range(16):\n",
    "    print('Node {}: {}'.format(i, get_spin_neighbours(i, 4)))"
   ]
  },
  {
   "cell_type": "code",
   "execution_count": 5,
   "metadata": {},
   "outputs": [],
   "source": [
    "# Pseudolikelihood calculation\n",
    "def log_pseudolikelihood(data, h, j, recalculate = True, previous = 0, h_prev=None, j_prev=None, new_row = -1):\n",
    "    \"\"\"Sums the rows of the pseudolikelihood\"\"\"\n",
    "    m, n = data.shape\n",
    "    if recalculate:\n",
    "        output = 0\n",
    "        for i in range(n):\n",
    "            output += log_pseudolikelihood_row(data, h, j, i)\n",
    "        return -float(output)/m\n",
    "    else:\n",
    "        return previous + float(log_pseudolikelihood_row(data, h_prev, j_prev, new_row) - log_pseudolikelihood_row(data, h, j, new_row))/m\n",
    "        \n",
    "\n",
    "\n",
    "def log_pseudolikelihood_row(data, h, j, i):\n",
    "    \"\"\"\n",
    "    Computes the pseudolikelihood for each row\n",
    "    Assumes j[i,i] = 0 for all i\n",
    "    \"\"\"\n",
    "    m, n = data.shape\n",
    "    output = 0\n",
    "    for mu in range(m):\n",
    "        output += math.log(1 + data[mu, i] * math.tanh(h[i] + multiply_j_spin_neighbours(j, data[mu, :], i)))\n",
    "    return output\n",
    "\n",
    "def multiply_j_spin_neighbours(j, spins, i):\n",
    "    l = int(math.sqrt(len(j)/2))\n",
    "    out = 0\n",
    "    out += j[get_array_position_from_spin_direction(i, 'u', l)] * spins[get_spin_index_from_coupled(i, 'u', l)]\n",
    "    out += j[get_array_position_from_spin_direction(i, 'd', l)] * spins[get_spin_index_from_coupled(i, 'd', l)]\n",
    "    out += j[get_array_position_from_spin_direction(i, 'r', l)] * spins[get_spin_index_from_coupled(i, 'r', l)]\n",
    "    out += j[get_array_position_from_spin_direction(i, 'l', l)] * spins[get_spin_index_from_coupled(i, 'l', l)]\n",
    "    return out"
   ]
  },
  {
   "cell_type": "code",
   "execution_count": 9,
   "metadata": {},
   "outputs": [],
   "source": [
    "def hamiltonian(spin_configuration, h, j):\n",
    "    hamiltonian = 0\n",
    "    n, d = j.shape\n",
    "    l = int(np.sqrt(n))\n",
    "    for i in range(n):\n",
    "        subsum = 0\n",
    "        for k in range(d):\n",
    "            #print('({},{}):{} * {} * {}'.format(i, get_spin_neighbours(i, l)[k], j[i,k], spin_configuration[i], spin_configuration[get_spin_neighbours(i, l)[k]]))\n",
    "            subsum += spin_configuration[get_spin_neighbours(i, l)[k]] * j[i, k]\n",
    "        hamiltonian += spin_configuration[i] * subsum\n",
    "    hamiltonian += np.dot(h, spin_configuration)\n",
    "    return -hamiltonian"
   ]
  },
  {
   "cell_type": "code",
   "execution_count": 11,
   "metadata": {
    "scrolled": false
   },
   "outputs": [
    {
     "data": {
      "application/vnd.jupyter.widget-view+json": {
       "model_id": "e64a88b072c548c6853552aec4026ffb",
       "version_major": 2,
       "version_minor": 0
      },
      "text/plain": [
       "HBox(children=(IntProgress(value=0, max=32), HTML(value='')))"
      ]
     },
     "metadata": {},
     "output_type": "display_data"
    },
    {
     "name": "stdout",
     "output_type": "stream",
     "text": [
      "\n"
     ]
    },
    {
     "data": {
      "application/vnd.jupyter.widget-view+json": {
       "model_id": "261a70380d314cd3a8cd6cd16f059d51",
       "version_major": 2,
       "version_minor": 0
      },
      "text/plain": [
       "HBox(children=(IntProgress(value=0, max=11), HTML(value='')))"
      ]
     },
     "metadata": {},
     "output_type": "display_data"
    },
    {
     "name": "stdout",
     "output_type": "stream",
     "text": [
      "\n",
      "[ 1 -1  1  1  1 -1 -1  1  1 -1  1  1 -1  1  1  1]\n",
      "-10.3733333\n",
      "-11.0200001\n",
      "-5.913333300000001\n",
      "-7.5666669\n",
      "-12.626666900000002\n",
      "-12.626666900000002\n",
      "-8.2466665\n",
      "-11.0200001\n",
      "-9.0599999\n",
      "-10.7400001\n",
      "-9.9400001\n",
      "-11.1133333\n",
      "-11.0200001\n",
      "-11.9000005\n",
      "-12.626666900000002\n",
      "-3.4866667\n",
      "-11.9000005\n",
      "-0.10666690000000001\n",
      "-11.0200001\n",
      "-11.7066667\n",
      "-12.626666900000002\n",
      "-6.279999900000001\n",
      "-10.7400001\n",
      "-9.620000300000001\n",
      "-12.626666900000002\n",
      "-3.4000001000000006\n",
      "-8.046667099999999\n",
      "-12.626666900000002\n",
      "-12.626666900000002\n",
      "-5.273333299999999\n",
      "-11.0200001\n",
      "-5.5400003\n",
      "-11.0466669\n",
      "-6.953333100000001\n",
      "-8.1333331\n",
      "-0.5133331000000001\n",
      "-11.7066667\n",
      "-8.4400003\n",
      "-2.4533331000000005\n",
      "-6.5799999\n",
      "-11.7066667\n",
      "-7.566666700000001\n",
      "-1.1533332999999997\n",
      "-5.5733334999999995\n"
     ]
    }
   ],
   "source": [
    "j = read_j_coef('bonds.dat', 16)\n",
    "h = np.zeros(16)\n",
    "spins = read_configurations('test.txt', 16)\n",
    "#print(j)\n",
    "print(spins[0])\n",
    "\n",
    "#print(hamiltonian(spins[0], h, j))\n",
    "for s in spins:\n",
    "    print(hamiltonian(s, h, j))"
   ]
  },
  {
   "cell_type": "code",
   "execution_count": null,
   "metadata": {},
   "outputs": [],
   "source": []
  }
 ],
 "metadata": {
  "kernelspec": {
   "display_name": "Python 3",
   "language": "python",
   "name": "python3"
  },
  "language_info": {
   "codemirror_mode": {
    "name": "ipython",
    "version": 3
   },
   "file_extension": ".py",
   "mimetype": "text/x-python",
   "name": "python",
   "nbconvert_exporter": "python",
   "pygments_lexer": "ipython3",
   "version": "3.7.0"
  }
 },
 "nbformat": 4,
 "nbformat_minor": 2
}
