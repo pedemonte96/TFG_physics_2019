{
 "cells": [
  {
   "cell_type": "code",
   "execution_count": 8,
   "metadata": {},
   "outputs": [],
   "source": [
    "# imports\n",
    "import numpy as np\n",
    "import random\n",
    "import math\n",
    "import timeit\n",
    "import matplotlib.pyplot as plt\n",
    "from tqdm import tqdm_notebook"
   ]
  },
  {
   "cell_type": "code",
   "execution_count": 9,
   "metadata": {},
   "outputs": [],
   "source": [
    "# Pseudolikelihood calculation\n",
    "def log_pseudolikelihood(data, h, j, recalculate = True, previous = 0, h_prev=None, j_prev=None, new_row = -1):\n",
    "    \"\"\"Sums the rows of the pseudolikelihood\"\"\"\n",
    "    m, n = data.shape\n",
    "    if recalculate:\n",
    "        output = 0\n",
    "        for i in range(n):\n",
    "            output += log_pseudolikelihood_row(data, h, j, i)\n",
    "        return -float(output)/m\n",
    "    else:\n",
    "        delta = 0\n",
    "        for r in new_row:\n",
    "            delta += float(log_pseudolikelihood_row(data, h_prev, j_prev, r) - log_pseudolikelihood_row(data, h, j, r))/m\n",
    "        return previous + delta\n",
    "        \n",
    "\n",
    "def log_pseudolikelihood_row(data, h, j, i):\n",
    "    \"\"\"\n",
    "    Computes the pseudolikelihood for each row\n",
    "    Assumes j[i,i] = 0 for all i\n",
    "    \"\"\"\n",
    "    m, n = data.shape\n",
    "    output = 0\n",
    "    for mu in range(m):\n",
    "        output += math.log(1 + data[mu, i] * math.tanh(h[i] + np.dot(j[i, :], data[mu, :])))\n",
    "    return output"
   ]
  },
  {
   "cell_type": "code",
   "execution_count": 10,
   "metadata": {},
   "outputs": [],
   "source": [
    "# Likelihood calculation\n",
    "def likelihood(spin_configuration, h, j, partition_function=None):\n",
    "    if partition_function is None:\n",
    "        partition_function = partition_function(h, j)\n",
    "    return math.exp(-hamiltonian(spin_configuration, h, j))/partition_function\n",
    "    \n",
    "    \n",
    "def partition_function(h, j):\n",
    "    n, = h.shape\n",
    "    z = 0\n",
    "    spins = get_all_possible_spin_configurations(n)\n",
    "    for spin in spins:\n",
    "        z += math.exp(-hamiltonian(spin, h, j))\n",
    "    return z\n",
    "\n",
    "# All hamiltionian functions equivalent up to 1e-12 precision\n",
    "def hamiltonian(spin_configuration, h, j):\n",
    "    hamiltonian = 0\n",
    "    n, = h.shape\n",
    "    for i in range(n-1):\n",
    "        hamiltonian += spin_configuration[i] * np.dot(j[i,i+1:], spin_configuration[i+1:])\n",
    "    hamiltonian += np.dot(h, spin_configuration)\n",
    "    return -hamiltonian\n",
    "\n",
    "def hamiltonian_bis(spin_configuration, h, j):\n",
    "    hamiltonian = 0\n",
    "    n, = h.shape\n",
    "    # J is symmetric and J[i,i] = 0\n",
    "    for i in range(n):\n",
    "        hamiltonian += spin_configuration[i] * np.dot(j[i,:], spin_configuration)\n",
    "    hamiltonian /= 2\n",
    "    hamiltonian += np.dot(h, spin_configuration)\n",
    "    return -hamiltonian\n",
    "\n",
    "def hamiltonian_bis2(spin_configuration, h, j):\n",
    "    # Worst one\n",
    "    hamiltonian = 0\n",
    "    n, = h.shape\n",
    "    for i in range(n):\n",
    "        for k in range(i+1,n):\n",
    "            hamiltonian += j[i,k] * spin_configuration[i] * spin_configuration[k]\n",
    "    hamiltonian += np.dot(h, spin_configuration)\n",
    "    return -hamiltonian\n",
    "\n",
    "def get_all_possible_spin_configurations(n):\n",
    "    # For 10 spins: 10.3 ms ± 109 µs\n",
    "    # For 16 spins: 768 ms ± 7.81 ms\n",
    "    return np.array([get_configuration(i,n) for i in range(2**n)])\n",
    "    \n",
    "def get_configuration(i, n):\n",
    "    # 10.4 µs ± 23.5 ns\n",
    "    binarized = bin(i)[2:]\n",
    "    spins = np.ones(n, dtype='int') * (-1)\n",
    "    zeros = np.zeros(n - len(binarized), dtype='int')\n",
    "    conf = np.array([int(d) for d in str(binarized)])\n",
    "    bin_conf = np.concatenate((zeros, conf))\n",
    "    return spins**bin_conf\n",
    "\n",
    "def get_configuration_bis(i, n):\n",
    "    # 10.5 µs ± 64.4 ns\n",
    "    binarized = bin(i)[2:]\n",
    "    spins = np.ones(n, dtype='int')\n",
    "    zeros = np.zeros(n - len(binarized), dtype='int')\n",
    "    conf = np.array([int(d) for d in str(binarized)])\n",
    "    bin_conf = np.concatenate((zeros, conf))\n",
    "    spins[bin_conf == 1] = -1\n",
    "    return spins\n"
   ]
  },
  {
   "cell_type": "code",
   "execution_count": 11,
   "metadata": {},
   "outputs": [],
   "source": [
    "# Create random h and J of given dimension\n",
    "def get_random_h_j(n):\n",
    "    \"\"\"\n",
    "    J will be symmetrical and diagonal zero.\n",
    "    \"\"\"\n",
    "    h = np.random.uniform(-1, 1, size=n)\n",
    "    j = np.random.uniform(-1, 1, size=(n,n))\n",
    "    np.fill_diagonal(j, 0)\n",
    "    j = (j + j.T)/2\n",
    "    return h, j\n",
    "\n",
    "\n",
    "def get_random_spin_configuration(n, m=1):\n",
    "    if m == 1:\n",
    "        return np.random.randint(0, 1 + 1, size=n)*2 -1\n",
    "    return np.array([np.random.randint(0, 1 + 1, size=n)*2 -1 for i in range(m)])\n",
    "\n",
    "\n",
    "def get_spin_configurations_probability(h, j, m):\n",
    "    start = timeit.default_timer()\n",
    "    # return array of spins with probability given by h and j\n",
    "    n, = h.shape\n",
    "    z = partition_function(h, j)\n",
    "    possible = get_all_possible_spin_configurations(n)\n",
    "    possible_int = np.arange(2**n)\n",
    "    prob = np.array([likelihood(spin, h, j, partition_function=z) for spin in possible])\n",
    "    dataset = np.random.choice(possible_int, size=m, p=prob)\n",
    "    print(timeit.default_timer() - start)\n",
    "    return np.array([get_configuration(i, n) for i in dataset])\n",
    "\n",
    "def symmetrize(j):\n",
    "    return (j + j.T)/2\n",
    "    "
   ]
  },
  {
   "cell_type": "code",
   "execution_count": 12,
   "metadata": {},
   "outputs": [],
   "source": [
    "def energy(temp, func, func_new):\n",
    "    return math.exp(-(func_new - func) / temp)\n",
    "\n",
    "\n",
    "def neighbour_uniform(s, delta=0.5):\n",
    "    lower = max(s - delta, -1.)\n",
    "    upper = min(s + delta, 1.)\n",
    "    return np.random.uniform(lower, upper)\n",
    "\n",
    "\n",
    "def random_change_h_j(h, j, delta=0.5):\n",
    "    h_new = np.copy(h)\n",
    "    j_new = np.copy(j)\n",
    "    n, = h_new.shape\n",
    "    row = np.random.randint(0, n + 1)\n",
    "    column = np.random.randint(0, n)\n",
    "    while row == column:\n",
    "        row = np.random.randint(0, n + 1)\n",
    "        column = np.random.randint(0, n)\n",
    "    if row == n:\n",
    "        h_new[column] = neighbour_uniform(h_new[column], delta)\n",
    "    else:\n",
    "        j_new[row, column] = neighbour_uniform(j_new[row, column], delta)\n",
    "    return h_new, j_new\n",
    "\n",
    "def random_change_h_j_row(h, j, delta=0.5):\n",
    "    h_new = np.copy(h)\n",
    "    j_new = np.copy(j)\n",
    "    n, = h_new.shape\n",
    "    if random.random() < 2./(n + 1):\n",
    "        # h must be changed (n over n + n(n-1)/2)\n",
    "        column = np.random.randint(0, n)\n",
    "        h_new[column] = neighbour_uniform(h_new[column], delta)\n",
    "        return h_new, j_new, (column,)\n",
    "    else:\n",
    "        # j must be changed\n",
    "        row = np.random.randint(0, n)\n",
    "        column = np.random.randint(0, n)\n",
    "        while row == column:\n",
    "            row = np.random.randint(0, n)\n",
    "            column = np.random.randint(0, n)\n",
    "        j_new[row, column] = neighbour_uniform(j_new[row, column], delta)\n",
    "        j_new[column, row] = j_new[row, column]\n",
    "        return h_new, j_new, (row, column)        \n",
    "    \n",
    "def mean_error(h, j, hp, jp):\n",
    "    n, = h.shape\n",
    "    numerator = np.linalg.norm(flat_sym_matrix(j) - flat_sym_matrix(jp))**2 + np.linalg.norm(h-hp)**2\n",
    "    denominator = np.linalg.norm(flat_sym_matrix(jp))**2 + np.linalg.norm(hp)**2\n",
    "    return np.sqrt(numerator/denominator)"
   ]
  },
  {
   "cell_type": "code",
   "execution_count": 13,
   "metadata": {},
   "outputs": [],
   "source": [
    "def flat_sym_matrix(a):\n",
    "    return a[np.triu_indices_from(a, k=1)]\n"
   ]
  },
  {
   "cell_type": "code",
   "execution_count": 21,
   "metadata": {},
   "outputs": [],
   "source": [
    "# Simulated annealing\n",
    "\n",
    "def simulated_algorithm_min_multi(data, h0, j0, values=None, mc_steps=800, temp_ini=3):\n",
    "    start = timeit.default_timer()\n",
    "    m, n = data.shape\n",
    "    if values is None:\n",
    "        h1, j1 = get_random_h_j(n)\n",
    "    else:\n",
    "        h1, j1 = values\n",
    "    h_iter, j_iter = h1, j1\n",
    "    h_min, j_min = h1, j1\n",
    "    func_iter = log_pseudolikelihood(data, h_iter, j_iter)\n",
    "    func_min = func_iter\n",
    "    rec = False\n",
    "    error = []\n",
    "    min_vals = []\n",
    "    max_num_iters = int((n*(n+1)/2)*mc_steps)\n",
    "    for k in tqdm_notebook(range(max_num_iters)):\n",
    "        if k%100 == 0:\n",
    "            plot_values(h_iter, j_iter, h0, j0, int(k/100))\n",
    "        if k%200 == 0:\n",
    "            rec = True\n",
    "        error.append(mean_error(h_iter, j_iter, h0, j0))\n",
    "        min_vals.append(func_iter)\n",
    "        temp = temp_ini * (1. - float(k) / (max_num_iters))\n",
    "        h_new, j_new, row = random_change_h_j_row(h_iter, j_iter, delta=0.3)\n",
    "        func_new = log_pseudolikelihood(data, h_new, j_new, recalculate=rec, previous=func_iter, h_prev=h_iter, j_prev=j_iter, new_row=row)\n",
    "        rec = False\n",
    "        if func_new < func_iter:\n",
    "            h_iter, j_iter = h_new, j_new\n",
    "            func_iter = func_new\n",
    "            if func_new < func_min:\n",
    "                h_min, j_min = h_new, j_new\n",
    "                func_min = func_new\n",
    "        elif random.random() < energy(temp, func_iter, func_new):\n",
    "            h_iter, j_iter = h_new, j_new\n",
    "            func_iter = func_new\n",
    "    #print(h_iter, j_iter, func_iter)\n",
    "    #print(h_min, j_min, func_min)\n",
    "    output_value = find_local_minimum_multi(data, h_min, j_min, func_min, initial_delta=0.3, max_iter=int(max_num_iters/10))\n",
    "    print('MC simulated annealing time:', timeit.default_timer() - start)\n",
    "    return output_value, error, min_vals\n",
    "\n",
    "\n",
    "def find_local_minimum_multi(data, h_ini, j_ini, func_ini, max_iter=1000, initial_delta=0.5):\n",
    "    h_min, j_min = h_ini, j_ini\n",
    "    func_min = func_ini\n",
    "    for k in tqdm_notebook(range(max_iter)):\n",
    "        delta = initial_delta * (max_iter - k) / max_iter\n",
    "        h_new, j_new, row = random_change_h_j_row(h_min, j_min, delta=delta)\n",
    "        func_new = log_pseudolikelihood(data, h_new, j_new, recalculate=False, previous=func_min, h_prev=h_min, j_prev=j_min, new_row=row)\n",
    "        if func_new < func_min:\n",
    "            h_min, j_min = h_new, j_new\n",
    "            func_min = func_new\n",
    "    return h_min, j_min, func_min"
   ]
  },
  {
   "cell_type": "code",
   "execution_count": 22,
   "metadata": {},
   "outputs": [],
   "source": [
    "def write_arr_to_file(filename, arr1, arr2):\n",
    "    f = open(filename, \"w+\")\n",
    "    for e1, e2 in zip(arr1, arr2):\n",
    "        f.write(str(e1)+' '+str(e2)+\"\\n\")\n",
    "    f.close()\n",
    "def read_arr_from_file(filename):\n",
    "    arr1 = []\n",
    "    arr2 = []\n",
    "    with open(filename, 'r') as fp:\n",
    "        s = fp.readlines()\n",
    "    for e in s:\n",
    "        arr1.append(e.split()[0])\n",
    "        arr2.append(e.split()[1])\n",
    "\n",
    "    return np.array(arr1, dtype='float'), np.array(arr2, dtype='float')"
   ]
  },
  {
   "cell_type": "code",
   "execution_count": 23,
   "metadata": {},
   "outputs": [],
   "source": [
    "from matplotlib import rc\n",
    "import matplotlib\n",
    "rc('font',**{'family':'sans-serif','sans-serif':['Helvetica']})\n",
    "## for Palatino and other serif fonts use:\n",
    "#rc('font',**{'family':'serif','serif':['Palatino']})\n",
    "rc('text', usetex=True)\n",
    "\n",
    "matplotlib.rcParams['mathtext.fontset'] = 'stix'\n",
    "matplotlib.rcParams['font.family'] = 'STIXGeneral'"
   ]
  },
  {
   "cell_type": "code",
   "execution_count": 24,
   "metadata": {},
   "outputs": [],
   "source": [
    "from matplotlib.ticker import (MultipleLocator, FormatStrFormatter,\n",
    "                               AutoMinorLocator)\n",
    "def plot_values(h, j, h0, j0, num):\n",
    "    n, = h.shape\n",
    "    size = 100\n",
    "    plt.figure(figsize = (10, 10))\n",
    "    ax = plt.axes()\n",
    "    plt.title('Iteration' + str(num*100))\n",
    "    plt.xlabel(r'$h^{0}_i$', rotation=0, fontsize=45)\n",
    "    plt.ylabel(r'$\\Delta h_i$', rotation=0, fontsize=45)\n",
    "    ax.xaxis.set_label_coords(0.5, -0.1)\n",
    "    ax.yaxis.set_label_coords(-0.1, 0.5)\n",
    "    plt.plot((-1, 1), (0,0), color='#55ff00', label='y=x', zorder=1, linewidth=1, alpha=1)\n",
    "    plt.scatter(h0, h-h0, color='#ee2222', label='N=4', zorder=6, marker=\"o\", s=size)\n",
    "\n",
    "    plt.ylim(-2, 2)\n",
    "    plt.xlim(-1, 1)\n",
    "\n",
    "    # Make a plot with major ticks that are multiples of 20 and minor ticks that\n",
    "    # are multiples of 5.  Label major ticks with '%d' formatting but don't label\n",
    "    # minor ticks.\n",
    "    ax.xaxis.set_major_locator(MultipleLocator(1))\n",
    "    ax.xaxis.set_major_formatter(FormatStrFormatter('%d'))\n",
    "    # For the minor ticks, use no labels; default NullFormatter.\n",
    "    ax.xaxis.set_minor_locator(MultipleLocator(0.2))\n",
    "    # Make a plot with major ticks that are multiples of 20 and minor ticks that\n",
    "    # are multiples of 5.  Label major ticks with '%d' formatting but don't label\n",
    "    # minor ticks.\n",
    "    ax.yaxis.set_major_locator(MultipleLocator(1))\n",
    "    ax.yaxis.set_major_formatter(FormatStrFormatter('%d'))\n",
    "    # For the minor ticks, use no labels; default NullFormatter.\n",
    "    ax.yaxis.set_minor_locator(MultipleLocator(0.2))\n",
    "    plt.xticks(fontsize=35)\n",
    "    plt.yticks(fontsize=35)\n",
    "    ax.tick_params(which='both', width=4)\n",
    "    ax.tick_params(which='major', length=12)\n",
    "    ax.tick_params(which='minor', length=7)\n",
    "    for axis in ['top','bottom','left','right']:\n",
    "        ax.spines[axis].set_linewidth(4)\n",
    "    #plt.grid()\n",
    "    #plt.legend()\n",
    "    filename = 'test/field/h_n_' + str(n) + '_iter_' + str(num) + '.png'\n",
    "    plt.savefig(filename, bbox_inches = 'tight')\n",
    "    plt.close()\n",
    "    \n",
    "    plt.figure(figsize = (10, 10))\n",
    "    ax = plt.axes()\n",
    "    plt.title('Iteration' + str(num*100))\n",
    "    plt.xlabel(r'$J^{0}_{ij}$', rotation=0, fontsize=45)\n",
    "    plt.ylabel(r'$\\Delta J_{ij}$', rotation=0, fontsize=45)\n",
    "    ax.xaxis.set_label_coords(0.5, -0.1)\n",
    "    ax.yaxis.set_label_coords(-0.1, 0.5)\n",
    "    plt.plot((-1, 1), (0,0), color='#55ff00', label='y=x', zorder=1, linewidth=1, alpha=1)\n",
    "    plt.scatter(j0, j-j0, color='#ee2222', label='N=4', zorder=6, marker=\"o\", s=size)\n",
    "\n",
    "    plt.ylim(-2, 2)\n",
    "    plt.xlim(-1, 1)\n",
    "\n",
    "    # Make a plot with major ticks that are multiples of 20 and minor ticks that\n",
    "    # are multiples of 5.  Label major ticks with '%d' formatting but don't label\n",
    "    # minor ticks.\n",
    "    ax.xaxis.set_major_locator(MultipleLocator(1))\n",
    "    ax.xaxis.set_major_formatter(FormatStrFormatter('%d'))\n",
    "    # For the minor ticks, use no labels; default NullFormatter.\n",
    "    ax.xaxis.set_minor_locator(MultipleLocator(0.2))\n",
    "    # Make a plot with major ticks that are multiples of 20 and minor ticks that\n",
    "    # are multiples of 5.  Label major ticks with '%d' formatting but don't label\n",
    "    # minor ticks.\n",
    "    ax.yaxis.set_major_locator(MultipleLocator(1))\n",
    "    ax.yaxis.set_major_formatter(FormatStrFormatter('%d'))\n",
    "    # For the minor ticks, use no labels; default NullFormatter.\n",
    "    ax.yaxis.set_minor_locator(MultipleLocator(0.2))\n",
    "    plt.xticks(fontsize=35)\n",
    "    plt.yticks(fontsize=35)\n",
    "    ax.tick_params(which='both', width=4)\n",
    "    ax.tick_params(which='major', length=12)\n",
    "    ax.tick_params(which='minor', length=7)\n",
    "    for axis in ['top','bottom','left','right']:\n",
    "        ax.spines[axis].set_linewidth(4)\n",
    "    #plt.grid()\n",
    "    #plt.legend()\n",
    "    filename = 'test/couplings/j_n_' + str(n) + '_iter_' + str(num) + '.png'\n",
    "    plt.savefig(filename, bbox_inches = 'tight')\n",
    "    plt.close()\n"
   ]
  },
  {
   "cell_type": "code",
   "execution_count": null,
   "metadata": {},
   "outputs": [
    {
     "name": "stdout",
     "output_type": "stream",
     "text": [
      "N=4\n",
      "0.002159743999982311\n"
     ]
    },
    {
     "data": {
      "application/vnd.jupyter.widget-view+json": {
       "model_id": "d8f788b03fc34d7bb9c748e0ffefa9f3",
       "version_major": 2,
       "version_minor": 0
      },
      "text/plain": [
       "HBox(children=(IntProgress(value=0, max=5000), HTML(value='')))"
      ]
     },
     "metadata": {},
     "output_type": "display_data"
    }
   ],
   "source": [
    "X = 500\n",
    "m = 15000\n",
    "print('N=4')\n",
    "n = 4\n",
    "h4, j4 = get_random_h_j(n)\n",
    "spins = get_spin_configurations_probability(h4, j4, m)\n",
    "result4 = simulated_algorithm_min_multi(spins, h4, j4, mc_steps=X)[0]\n",
    "write_arr_to_file('h4_m15_x500.txt', h4, result4[0])\n",
    "write_arr_to_file('j4_m15_x500.txt', flat_sym_matrix(j4), flat_sym_matrix(result4[1]))"
   ]
  },
  {
   "cell_type": "code",
   "execution_count": 34,
   "metadata": {},
   "outputs": [
    {
     "name": "stdout",
     "output_type": "stream",
     "text": [
      "N=4\n",
      "0.002100221000091551\n"
     ]
    },
    {
     "data": {
      "application/vnd.jupyter.widget-view+json": {
       "model_id": "70fdb09522514962a622d4c70cf71ab1",
       "version_major": 2,
       "version_minor": 0
      },
      "text/plain": [
       "HBox(children=(IntProgress(value=0, max=5000), HTML(value='')))"
      ]
     },
     "metadata": {},
     "output_type": "display_data"
    },
    {
     "name": "stdout",
     "output_type": "stream",
     "text": [
      "\n"
     ]
    },
    {
     "data": {
      "application/vnd.jupyter.widget-view+json": {
       "model_id": "f5b89d03b5874d8fb886a96a98a977e9",
       "version_major": 2,
       "version_minor": 0
      },
      "text/plain": [
       "HBox(children=(IntProgress(value=0, max=500), HTML(value='')))"
      ]
     },
     "metadata": {},
     "output_type": "display_data"
    },
    {
     "name": "stdout",
     "output_type": "stream",
     "text": [
      "\n",
      "MC simulated annealing time: 1204.418205886\n",
      "N=8\n",
      "0.027793181000106415\n"
     ]
    },
    {
     "data": {
      "application/vnd.jupyter.widget-view+json": {
       "model_id": "0542cdaa59a849dc9e64b79700f33bd2",
       "version_major": 2,
       "version_minor": 0
      },
      "text/plain": [
       "HBox(children=(IntProgress(value=0, max=18000), HTML(value='')))"
      ]
     },
     "metadata": {},
     "output_type": "display_data"
    },
    {
     "name": "stdout",
     "output_type": "stream",
     "text": [
      "\n"
     ]
    },
    {
     "data": {
      "application/vnd.jupyter.widget-view+json": {
       "model_id": "706acf10361c42ac9c4f32461b853ea5",
       "version_major": 2,
       "version_minor": 0
      },
      "text/plain": [
       "HBox(children=(IntProgress(value=0, max=1800), HTML(value='')))"
      ]
     },
     "metadata": {},
     "output_type": "display_data"
    },
    {
     "name": "stdout",
     "output_type": "stream",
     "text": [
      "\n",
      "MC simulated annealing time: 4866.857049479\n",
      "N=12\n",
      "0.4406461720000152\n"
     ]
    },
    {
     "data": {
      "application/vnd.jupyter.widget-view+json": {
       "model_id": "255e2ddef37f4673a73dace27d25fc31",
       "version_major": 2,
       "version_minor": 0
      },
      "text/plain": [
       "HBox(children=(IntProgress(value=0, max=39000), HTML(value='')))"
      ]
     },
     "metadata": {},
     "output_type": "display_data"
    },
    {
     "name": "stdout",
     "output_type": "stream",
     "text": [
      "\n"
     ]
    },
    {
     "data": {
      "application/vnd.jupyter.widget-view+json": {
       "model_id": "fb1c61997465438fabfaa0a373a1181b",
       "version_major": 2,
       "version_minor": 0
      },
      "text/plain": [
       "HBox(children=(IntProgress(value=0, max=3900), HTML(value='')))"
      ]
     },
     "metadata": {},
     "output_type": "display_data"
    },
    {
     "name": "stdout",
     "output_type": "stream",
     "text": [
      "\n",
      "MC simulated annealing time: 11043.595320336\n",
      "N=16\n",
      "8.974421111997799\n"
     ]
    },
    {
     "data": {
      "application/vnd.jupyter.widget-view+json": {
       "model_id": "beffd7d062064613b7588725dbe4e368",
       "version_major": 2,
       "version_minor": 0
      },
      "text/plain": [
       "HBox(children=(IntProgress(value=0, max=68000), HTML(value='')))"
      ]
     },
     "metadata": {},
     "output_type": "display_data"
    },
    {
     "name": "stdout",
     "output_type": "stream",
     "text": [
      "\n"
     ]
    },
    {
     "data": {
      "application/vnd.jupyter.widget-view+json": {
       "model_id": "3e48a55e4d5f44cea595e74e1a301644",
       "version_major": 2,
       "version_minor": 0
      },
      "text/plain": [
       "HBox(children=(IntProgress(value=0, max=6800), HTML(value='')))"
      ]
     },
     "metadata": {},
     "output_type": "display_data"
    },
    {
     "name": "stdout",
     "output_type": "stream",
     "text": [
      "\n",
      "MC simulated annealing time: 19989.655756093005\n",
      "37114.665498574\n"
     ]
    }
   ],
   "source": [
    "start = timeit.default_timer()\n",
    "X = 500\n",
    "m = 15000\n",
    "print('N=4')\n",
    "n = 4\n",
    "h4, j4 = get_random_h_j(n)\n",
    "spins = get_spin_configurations_probability(h4, j4, m)\n",
    "result4 = simulated_algorithm_min_multi(spins, h4, j4, mc_steps=X)[0]\n",
    "write_arr_to_file('h4_m15_x500.txt', h4, result4[0])\n",
    "write_arr_to_file('j4_m15_x500.txt', flat_sym_matrix(j4), flat_sym_matrix(result4[1]))\n",
    "\n",
    "\n",
    "print('N=8')\n",
    "n = 8\n",
    "h8, j8 = get_random_h_j(n)\n",
    "spins = get_spin_configurations_probability(h8, j8, m)\n",
    "result8 = simulated_algorithm_min_multi(spins, h8, j8, mc_steps=X)[0]\n",
    "write_arr_to_file('h8_m15_x500.txt', h8, result8[0])\n",
    "write_arr_to_file('j8_m15_x500.txt', flat_sym_matrix(j8), flat_sym_matrix(result8[1]))\n",
    "\n",
    "\n",
    "print('N=12')\n",
    "n = 12\n",
    "h12, j12 = get_random_h_j(n)\n",
    "spins = get_spin_configurations_probability(h12, j12, m)\n",
    "result12 = simulated_algorithm_min_multi(spins, h12, j12, mc_steps=X)[0]\n",
    "write_arr_to_file('h12_m15_x500.txt', h12, result12[0])\n",
    "write_arr_to_file('j12_m15_x500.txt', flat_sym_matrix(j12), flat_sym_matrix(result12[1]))\n",
    "\n",
    "\n",
    "print('N=16')\n",
    "n = 16\n",
    "h16, j16 = get_random_h_j(n)\n",
    "spins = get_spin_configurations_probability(h16, j16, m)\n",
    "result16 = simulated_algorithm_min_multi(spins, h16, j16, mc_steps=X)[0]\n",
    "write_arr_to_file('h16_m15_x500.txt', h16, result16[0])\n",
    "write_arr_to_file('j16_m15_x500.txt', flat_sym_matrix(j16), flat_sym_matrix(result16[1]))\n",
    "\"\"\"\n",
    "print('N=20')\n",
    "n = 20\n",
    "h20, j20 = get_random_h_j(n)\n",
    "spins = get_spin_configurations_probability(h20, j20, m)\n",
    "result20 = simulated_algorithm_min_multi(spins, mc_steps=X)[0]\n",
    "\"\"\"\n",
    "print(timeit.default_timer() - start)"
   ]
  },
  {
   "cell_type": "code",
   "execution_count": 20,
   "metadata": {},
   "outputs": [
    {
     "data": {
      "image/png": "[encoded data removed]",
      "text/plain": [
       "<Figure size 720x720 with 1 Axes>"
      ]
     },
     "metadata": {
      "needs_background": "light"
     },
     "output_type": "display_data"
    },
    {
     "name": "stdout",
     "output_type": "stream",
     "text": [
      "0.9076319152073155\n"
     ]
    }
   ],
   "source": [
    "from matplotlib.ticker import (MultipleLocator, FormatStrFormatter,\n",
    "                               AutoMinorLocator)\n",
    "size = 200\n",
    "plt.figure(figsize = (10, 10))\n",
    "ax = plt.axes()\n",
    "#plt.title('Predicted field vs original field')\n",
    "plt.xlabel(r'$h^{0}_i$', rotation=0, fontsize=45)\n",
    "plt.ylabel(r'$\\Delta h_i$', rotation=0, fontsize=45)\n",
    "ax.xaxis.set_label_coords(0.5, -0.1)\n",
    "ax.yaxis.set_label_coords(-0.2, 0.5)\n",
    "plt.plot((-1, 1), (0,0), color='#55ff00', label='y=x', zorder=1, linewidth=3, alpha=1)\n",
    "plt.scatter(h4, result4[0]-h4, color='#ee2222', label='N=4', zorder=6, marker=\"o\", s=size)\n",
    "#plt.scatter(h8, result8[0]-h8, color='#00bb00', label='N=8', zorder=5, marker=\"v\", s=size)\n",
    "#plt.scatter(h12, result12[0]-h12, color='#0000ee', label='N=12', zorder=4, marker=\"^\", s=size)\n",
    "#plt.scatter(h16, result16[0]-h16, color='#E8B201', label='N=16', zorder=3, marker=\"s\", s=size)\n",
    "#plt.scatter(h20, result20[0], color='#B300FF', label='N=20', zorder=2, marker=\"D\")\n",
    "\n",
    "plt.ylim(-2, 2)\n",
    "plt.xlim(-1, 1)\n",
    "\n",
    "# Make a plot with major ticks that are multiples of 20 and minor ticks that\n",
    "# are multiples of 5.  Label major ticks with '%d' formatting but don't label\n",
    "# minor ticks.\n",
    "ax.xaxis.set_major_locator(MultipleLocator(1))\n",
    "ax.xaxis.set_major_formatter(FormatStrFormatter('%d'))\n",
    "# For the minor ticks, use no labels; default NullFormatter.\n",
    "ax.xaxis.set_minor_locator(MultipleLocator(0.2))\n",
    "# Make a plot with major ticks that are multiples of 20 and minor ticks that\n",
    "# are multiples of 5.  Label major ticks with '%d' formatting but don't label\n",
    "# minor ticks.\n",
    "ax.yaxis.set_major_locator(MultipleLocator(0.5))\n",
    "ax.yaxis.set_major_formatter(FormatStrFormatter('%.2f'))\n",
    "# For the minor ticks, use no labels; default NullFormatter.\n",
    "ax.yaxis.set_minor_locator(MultipleLocator(0.1))\n",
    "plt.xticks(fontsize=35)\n",
    "plt.yticks(fontsize=35)\n",
    "ax.tick_params(which='both', width=4)\n",
    "ax.tick_params(which='major', length=12)\n",
    "ax.tick_params(which='minor', length=7)\n",
    "for axis in ['top','bottom','left','right']:\n",
    "    ax.spines[axis].set_linewidth(4)\n",
    "#plt.grid()\n",
    "#plt.legend()\n",
    "plt.savefig('field4.png', bbox_inches = 'tight')\n",
    "plt.show()\n",
    "print(max(abs(result4[0]-h4)))\n",
    "#print(max(abs(result8[0]-h8)))\n",
    "#print(max(abs(result12[0]-h12)))\n",
    "#print(max(abs(result16[0]-h16)))"
   ]
  },
  {
   "cell_type": "code",
   "execution_count": 55,
   "metadata": {},
   "outputs": [
    {
     "data": {
      "image/png": "[encoded data removed]",
      "text/plain": [
       "<Figure size 720x720 with 1 Axes>"
      ]
     },
     "metadata": {
      "needs_background": "light"
     },
     "output_type": "display_data"
    },
    {
     "name": "stdout",
     "output_type": "stream",
     "text": [
      "0.016610751903778694\n",
      "0.04244303510628086\n",
      "0.11655130817569126\n",
      "0.10955340271821018\n"
     ]
    }
   ],
   "source": [
    "from matplotlib.ticker import (MultipleLocator, FormatStrFormatter,\n",
    "                               AutoMinorLocator)\n",
    "plt.figure(figsize = (10, 10))\n",
    "ax = plt.axes()\n",
    "#plt.title('Predicted couplings vs original couplings')\n",
    "plt.xlabel(r'$J^{0}_{ij}$', rotation=0, fontsize=45)\n",
    "plt.ylabel(r'$\\Delta J_{ij}$', rotation=0, fontsize=45)\n",
    "ax.xaxis.set_label_coords(0.5, -0.1)\n",
    "ax.yaxis.set_label_coords(-0.2, 0.5)\n",
    "plt.plot((-1, 1), (0,0), color='#55ff00', label='y=x', zorder=1, linewidth=3, alpha=1)\n",
    "plt.scatter(flat_sym_matrix(j4), flat_sym_matrix(result4[1]-j4), color='#ee2222', label='N=4', zorder=6, marker=\"o\", s=size)\n",
    "plt.scatter(flat_sym_matrix(j8), flat_sym_matrix(result8[1]-j8), color='#00bb00', label='N=8', zorder=5, marker=\"v\", s=size)\n",
    "plt.scatter(flat_sym_matrix(j12), flat_sym_matrix(result12[1]-j12), color='#0000ee', label='N=12', zorder=4, marker=\"^\", s=size)\n",
    "plt.scatter(flat_sym_matrix(j16), flat_sym_matrix(result16[1]-j16), color='#E8B201', label='N=16', zorder=3, marker=\"s\", s=size)\n",
    "#plt.scatter(flat_sym_matrix(j20), flat_sym_matrix(result20[1]), color='#B300FF', label='N=20', zorder=2, marker=\"D\")\n",
    "\n",
    "plt.ylim(-0.15, 0.15)\n",
    "plt.xlim(-1, 1)\n",
    "\n",
    "# Make a plot with major ticks that are multiples of 20 and minor ticks that\n",
    "# are multiples of 5.  Label major ticks with '%d' formatting but don't label\n",
    "# minor ticks.\n",
    "ax.xaxis.set_major_locator(MultipleLocator(1))\n",
    "ax.xaxis.set_major_formatter(FormatStrFormatter('%d'))\n",
    "# For the minor ticks, use no labels; default NullFormatter.\n",
    "ax.xaxis.set_minor_locator(MultipleLocator(0.2))\n",
    "# Make a plot with major ticks that are multiples of 20 and minor ticks that\n",
    "# are multiples of 5.  Label major ticks with '%d' formatting but don't label\n",
    "# minor ticks.\n",
    "ax.yaxis.set_major_locator(MultipleLocator(0.05))\n",
    "ax.yaxis.set_major_formatter(FormatStrFormatter('%.2f'))\n",
    "# For the minor ticks, use no labels; default NullFormatter.\n",
    "ax.yaxis.set_minor_locator(MultipleLocator(0.01))\n",
    "plt.xticks(fontsize=35)\n",
    "plt.yticks(fontsize=35)\n",
    "ax.tick_params(which='both', width=4)\n",
    "ax.tick_params(which='major', length=12)\n",
    "ax.tick_params(which='minor', length=7)\n",
    "for axis in ['top','bottom','left','right']:\n",
    "    ax.spines[axis].set_linewidth(4)\n",
    "#plt.grid()\n",
    "#plt.legend()\n",
    "plt.savefig('couplings4.png', bbox_inches = 'tight')\n",
    "plt.show()\n",
    "print(max(abs(flat_sym_matrix(result4[1]-j4))))\n",
    "print(max(abs(flat_sym_matrix(result8[1]-j8))))\n",
    "print(max(abs(flat_sym_matrix(result12[1]-j12))))\n",
    "print(max(abs(flat_sym_matrix(result16[1]-j16))))"
   ]
  },
  {
   "cell_type": "code",
   "execution_count": 56,
   "metadata": {},
   "outputs": [
    {
     "name": "stdout",
     "output_type": "stream",
     "text": [
      "[ 0.2971927   0.14751929  0.79334061 -0.40405221]\n",
      "[ 0.29780734  0.13441879  0.77304393 -0.40954403]\n",
      "[[ 0.          0.30230249 -0.5198877  -0.43872728]\n",
      " [ 0.30230249  0.          0.00503553  0.7224527 ]\n",
      " [-0.5198877   0.00503553  0.         -0.51178804]\n",
      " [-0.43872728  0.7224527  -0.51178804  0.        ]]\n",
      "[[ 0.          0.30357192 -0.51425523 -0.4324663 ]\n",
      " [ 0.30357192  0.          0.02164629  0.7140071 ]\n",
      " [-0.51425523  0.02164629  0.         -0.50606336]\n",
      " [-0.4324663   0.7140071  -0.50606336  0.        ]]\n",
      "0.02210945234726514\n",
      "0.0539710695806426\n",
      "0.08538837702902843\n",
      "0.08283907807258636\n"
     ]
    }
   ],
   "source": [
    "print(h4)\n",
    "print(result4[0])\n",
    "print(j4)\n",
    "print(result4[1])\n",
    "print(mean_error(h4, j4, result4[0], result4[1]))\n",
    "print(mean_error(h8, j8, result8[0], result8[1]))\n",
    "print(mean_error(h12, j12, result12[0], result12[1]))\n",
    "print(mean_error(h16, j16, result16[0], result16[1]))"
   ]
  },
  {
   "cell_type": "code",
   "execution_count": 57,
   "metadata": {},
   "outputs": [
    {
     "name": "stdout",
     "output_type": "stream",
     "text": [
      "(678, 737, 4)\n",
      "(678, 737, 4)\n"
     ]
    }
   ],
   "source": [
    "from skimage import io, exposure, color, img_as_float, img_as_int, img_as_uint, img_as_ubyte\n",
    "image1 = io.imread('field4.png')\n",
    "image2 = io.imread('couplings4.png')\n",
    "print(image1.shape)\n",
    "print(image2.shape)\n",
    "def two_images(img1, img2, savename):\n",
    "    io.imsave(savename, np.hstack((img1, img2)))\n",
    "two_images(image1, image2, 'h_j_joined4.png')"
   ]
  },
  {
   "cell_type": "code",
   "execution_count": null,
   "metadata": {},
   "outputs": [],
   "source": []
  }
 ],
 "metadata": {
  "kernelspec": {
   "display_name": "Python 3",
   "language": "python",
   "name": "python3"
  },
  "language_info": {
   "codemirror_mode": {
    "name": "ipython",
    "version": 3
   },
   "file_extension": ".py",
   "mimetype": "text/x-python",
   "name": "python",
   "nbconvert_exporter": "python",
   "pygments_lexer": "ipython3",
   "version": "3.7.0"
  }
 },
 "nbformat": 4,
 "nbformat_minor": 2
}
