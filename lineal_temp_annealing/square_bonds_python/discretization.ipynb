{
 "cells": [
  {
   "cell_type": "code",
   "execution_count": 1,
   "metadata": {},
   "outputs": [],
   "source": [
    "# imports\n",
    "import numpy as np\n",
    "import random\n",
    "import math\n",
    "import timeit\n",
    "import matplotlib.pyplot as plt\n",
    "from tqdm import tqdm_notebook"
   ]
  },
  {
   "cell_type": "code",
   "execution_count": 2,
   "metadata": {},
   "outputs": [],
   "source": [
    "eps = 0.0001\n",
    "poss_val = np.arange(-5, 5+eps, eps, dtype='float')\n",
    "dic = {}\n",
    "for i in [-1, 1]:\n",
    "    for j in poss_val:\n",
    "        j = round(j, 4)\n",
    "        k = (i, j)\n",
    "        dic[k] = math.log(1+i*math.tanh(j))"
   ]
  },
  {
   "cell_type": "code",
   "execution_count": 3,
   "metadata": {},
   "outputs": [
    {
     "name": "stdout",
     "output_type": "stream",
     "text": [
      "200002\n"
     ]
    }
   ],
   "source": [
    "print(len(dic))"
   ]
  },
  {
   "cell_type": "code",
   "execution_count": 4,
   "metadata": {},
   "outputs": [
    {
     "name": "stdout",
     "output_type": "stream",
     "text": [
      "-7.147246411013369\n",
      "-7.147246411013369\n"
     ]
    }
   ],
   "source": [
    "print(dic[(-1, 3.92)])\n",
    "print(math.log(1+(-1)*math.tanh(3.92)))\n",
    "%timeit math.log(1+(-1)*math.tanh(3.92))"
   ]
  },
  {
   "cell_type": "code",
   "execution_count": 5,
   "metadata": {},
   "outputs": [
    {
     "name": "stdout",
     "output_type": "stream",
     "text": [
      "182 ns ± 24.5 ns per loop (mean ± std. dev. of 100 runs, 100000 loops each)\n",
      "358 ns ± 4.05 ns per loop (mean ± std. dev. of 100 runs, 100000 loops each)\n"
     ]
    }
   ],
   "source": [
    "%timeit -n 100000 -r 100 dic[(-1, 3.9129)]\n",
    "%timeit -n 100000 -r 100 math.log(1+(-1)*math.tanh(3.9129))"
   ]
  },
  {
   "cell_type": "code",
   "execution_count": null,
   "metadata": {},
   "outputs": [],
   "source": []
  }
 ],
 "metadata": {
  "kernelspec": {
   "display_name": "Python 3",
   "language": "python",
   "name": "python3"
  },
  "language_info": {
   "codemirror_mode": {
    "name": "ipython",
    "version": 3
   },
   "file_extension": ".py",
   "mimetype": "text/x-python",
   "name": "python",
   "nbconvert_exporter": "python",
   "pygments_lexer": "ipython3",
   "version": "3.7.0"
  }
 },
 "nbformat": 4,
 "nbformat_minor": 2
}
