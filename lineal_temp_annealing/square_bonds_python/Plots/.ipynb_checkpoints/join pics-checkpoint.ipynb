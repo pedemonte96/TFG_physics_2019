{
 "cells": [
  {
   "cell_type": "code",
   "execution_count": 4,
   "metadata": {},
   "outputs": [],
   "source": [
    "import numpy as np\n",
    "from skimage import io, exposure, color, img_as_float, img_as_int, img_as_uint, img_as_ubyte\n",
    "image = io.imread('test2.png')\n",
    "def two_images(img1, img2, savename):\n",
    "    io.imsave(savename, np.hstack((img1, img2)))\n",
    "def three_images(img1, img2, img3, savename):\n",
    "    io.imsave(savename, np.vstack((img1, img2, img3)))\n",
    "two_images(io.imread('L4_T1.png'), io.imread('L8_T1.png'), 'T1.png')\n",
    "two_images(io.imread('L4_T2.png'), io.imread('L8_T2.png'), 'T2.png')\n",
    "two_images(io.imread('L4_T3.png'), io.imread('L8_T3.png'), 'T3.png')\n",
    "three_images(io.imread('T1.png'), io.imread('T2.png'), io.imread('T3.png'), 'square_bonds_joined.png')"
   ]
  },
  {
   "cell_type": "code",
   "execution_count": 5,
   "metadata": {},
   "outputs": [
    {
     "name": "stdout",
     "output_type": "stream",
     "text": [
      "(590, 737, 4)\n",
      "(590, 615, 4)\n",
      "(590, 737, 4)\n",
      "(590, 615, 4)\n",
      "(678, 737, 4)\n",
      "(678, 615, 4)\n"
     ]
    }
   ],
   "source": [
    "import numpy as np\n",
    "from skimage import io, exposure, color, img_as_float, img_as_int, img_as_uint, img_as_ubyte\n",
    "\n",
    "def two_images(img1, img2, savename):\n",
    "    print(img1.shape)\n",
    "    print(img2.shape)\n",
    "    io.imsave(savename, np.hstack((img1, img2)))\n",
    "def three_images(img1, img2, img3, savename):\n",
    "    io.imsave(savename, np.vstack((img1, img2, img3)))\n",
    "two_images(io.imread('L4_T1_b.png'), io.imread('L8_T1_b.png'), 'T1_b.png')\n",
    "two_images(io.imread('L4_T2_b.png'), io.imread('L8_T2_b.png'), 'T2_b.png')\n",
    "two_images(io.imread('L4_T3_b.png'), io.imread('L8_T3_b.png'), 'T3_b.png')\n",
    "three_images(io.imread('T1_b.png'), io.imread('T2_b.png'), io.imread('T3_b.png'), 'square_bonds_joined_b.png')"
   ]
  },
  {
   "cell_type": "code",
   "execution_count": null,
   "metadata": {},
   "outputs": [],
   "source": []
  }
 ],
 "metadata": {
  "kernelspec": {
   "display_name": "Python 3",
   "language": "python",
   "name": "python3"
  },
  "language_info": {
   "codemirror_mode": {
    "name": "ipython",
    "version": 3
   },
   "file_extension": ".py",
   "mimetype": "text/x-python",
   "name": "python",
   "nbconvert_exporter": "python",
   "pygments_lexer": "ipython3",
   "version": "3.7.0"
  }
 },
 "nbformat": 4,
 "nbformat_minor": 2
}
